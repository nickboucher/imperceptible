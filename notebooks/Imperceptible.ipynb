{
  "nbformat": 4,
  "nbformat_minor": 0,
  "metadata": {
    "accelerator": "GPU",
    "colab": {
      "name": "Gyges.ipynb",
      "provenance": [],
      "collapsed_sections": [],
      "toc_visible": true
    },
    "kernelspec": {
      "display_name": "Python 3",
      "name": "python3"
    },
    "widgets": {
      "application/vnd.jupyter.widget-state+json": {
        "0f0113bc0fb545ca89b9eba6d034d903": {
          "model_module": "@jupyter-widgets/controls",
          "model_name": "HBoxModel",
          "state": {
            "_view_name": "HBoxView",
            "_dom_classes": [],
            "_model_name": "HBoxModel",
            "_view_module": "@jupyter-widgets/controls",
            "_model_module_version": "1.5.0",
            "_view_count": null,
            "_view_module_version": "1.5.0",
            "box_style": "",
            "layout": "IPY_MODEL_f52f0bd900fa4359a4642e1f6a934d5c",
            "_model_module": "@jupyter-widgets/controls",
            "children": [
              "IPY_MODEL_3f2e5bf0a545472dac3ffce5984144d7",
              "IPY_MODEL_830309006315456a862c5284ed0ca3d1"
            ]
          }
        },
        "f52f0bd900fa4359a4642e1f6a934d5c": {
          "model_module": "@jupyter-widgets/base",
          "model_name": "LayoutModel",
          "state": {
            "_view_name": "LayoutView",
            "grid_template_rows": null,
            "right": null,
            "justify_content": null,
            "_view_module": "@jupyter-widgets/base",
            "overflow": null,
            "_model_module_version": "1.2.0",
            "_view_count": null,
            "flex_flow": null,
            "width": null,
            "min_width": null,
            "border": null,
            "align_items": null,
            "bottom": null,
            "_model_module": "@jupyter-widgets/base",
            "top": null,
            "grid_column": null,
            "overflow_y": null,
            "overflow_x": null,
            "grid_auto_flow": null,
            "grid_area": null,
            "grid_template_columns": null,
            "flex": null,
            "_model_name": "LayoutModel",
            "justify_items": null,
            "grid_row": null,
            "max_height": null,
            "align_content": null,
            "visibility": null,
            "align_self": null,
            "height": null,
            "min_height": null,
            "padding": null,
            "grid_auto_rows": null,
            "grid_gap": null,
            "max_width": null,
            "order": null,
            "_view_module_version": "1.2.0",
            "grid_template_areas": null,
            "object_position": null,
            "object_fit": null,
            "grid_auto_columns": null,
            "margin": null,
            "display": null,
            "left": null
          }
        },
        "3f2e5bf0a545472dac3ffce5984144d7": {
          "model_module": "@jupyter-widgets/controls",
          "model_name": "FloatProgressModel",
          "state": {
            "_view_name": "ProgressView",
            "style": "IPY_MODEL_13666406d09c441daeb5420eb3121dc4",
            "_dom_classes": [],
            "description": "100%",
            "_model_name": "FloatProgressModel",
            "bar_style": "success",
            "max": 5,
            "_view_module": "@jupyter-widgets/controls",
            "_model_module_version": "1.5.0",
            "value": 5,
            "_view_count": null,
            "_view_module_version": "1.5.0",
            "orientation": "horizontal",
            "min": 0,
            "description_tooltip": null,
            "_model_module": "@jupyter-widgets/controls",
            "layout": "IPY_MODEL_d94b46af04704f5a8878442fed45b98f"
          }
        },
        "830309006315456a862c5284ed0ca3d1": {
          "model_module": "@jupyter-widgets/controls",
          "model_name": "HTMLModel",
          "state": {
            "_view_name": "HTMLView",
            "style": "IPY_MODEL_24d5581c637c4869bce0865ab9240edd",
            "_dom_classes": [],
            "description": "",
            "_model_name": "HTMLModel",
            "placeholder": "​",
            "_view_module": "@jupyter-widgets/controls",
            "_model_module_version": "1.5.0",
            "value": " 5/5 [1:28:14&lt;00:00, 1058.96s/it]",
            "_view_count": null,
            "_view_module_version": "1.5.0",
            "description_tooltip": null,
            "_model_module": "@jupyter-widgets/controls",
            "layout": "IPY_MODEL_85abb41e6cd941cb9c30660fb1d8ff4f"
          }
        },
        "13666406d09c441daeb5420eb3121dc4": {
          "model_module": "@jupyter-widgets/controls",
          "model_name": "ProgressStyleModel",
          "state": {
            "_view_name": "StyleView",
            "_model_name": "ProgressStyleModel",
            "description_width": "initial",
            "_view_module": "@jupyter-widgets/base",
            "_model_module_version": "1.5.0",
            "_view_count": null,
            "_view_module_version": "1.2.0",
            "bar_color": null,
            "_model_module": "@jupyter-widgets/controls"
          }
        },
        "d94b46af04704f5a8878442fed45b98f": {
          "model_module": "@jupyter-widgets/base",
          "model_name": "LayoutModel",
          "state": {
            "_view_name": "LayoutView",
            "grid_template_rows": null,
            "right": null,
            "justify_content": null,
            "_view_module": "@jupyter-widgets/base",
            "overflow": null,
            "_model_module_version": "1.2.0",
            "_view_count": null,
            "flex_flow": null,
            "width": null,
            "min_width": null,
            "border": null,
            "align_items": null,
            "bottom": null,
            "_model_module": "@jupyter-widgets/base",
            "top": null,
            "grid_column": null,
            "overflow_y": null,
            "overflow_x": null,
            "grid_auto_flow": null,
            "grid_area": null,
            "grid_template_columns": null,
            "flex": null,
            "_model_name": "LayoutModel",
            "justify_items": null,
            "grid_row": null,
            "max_height": null,
            "align_content": null,
            "visibility": null,
            "align_self": null,
            "height": null,
            "min_height": null,
            "padding": null,
            "grid_auto_rows": null,
            "grid_gap": null,
            "max_width": null,
            "order": null,
            "_view_module_version": "1.2.0",
            "grid_template_areas": null,
            "object_position": null,
            "object_fit": null,
            "grid_auto_columns": null,
            "margin": null,
            "display": null,
            "left": null
          }
        },
        "24d5581c637c4869bce0865ab9240edd": {
          "model_module": "@jupyter-widgets/controls",
          "model_name": "DescriptionStyleModel",
          "state": {
            "_view_name": "StyleView",
            "_model_name": "DescriptionStyleModel",
            "description_width": "",
            "_view_module": "@jupyter-widgets/base",
            "_model_module_version": "1.5.0",
            "_view_count": null,
            "_view_module_version": "1.2.0",
            "_model_module": "@jupyter-widgets/controls"
          }
        },
        "85abb41e6cd941cb9c30660fb1d8ff4f": {
          "model_module": "@jupyter-widgets/base",
          "model_name": "LayoutModel",
          "state": {
            "_view_name": "LayoutView",
            "grid_template_rows": null,
            "right": null,
            "justify_content": null,
            "_view_module": "@jupyter-widgets/base",
            "overflow": null,
            "_model_module_version": "1.2.0",
            "_view_count": null,
            "flex_flow": null,
            "width": null,
            "min_width": null,
            "border": null,
            "align_items": null,
            "bottom": null,
            "_model_module": "@jupyter-widgets/base",
            "top": null,
            "grid_column": null,
            "overflow_y": null,
            "overflow_x": null,
            "grid_auto_flow": null,
            "grid_area": null,
            "grid_template_columns": null,
            "flex": null,
            "_model_name": "LayoutModel",
            "justify_items": null,
            "grid_row": null,
            "max_height": null,
            "align_content": null,
            "visibility": null,
            "align_self": null,
            "height": null,
            "min_height": null,
            "padding": null,
            "grid_auto_rows": null,
            "grid_gap": null,
            "max_width": null,
            "order": null,
            "_view_module_version": "1.2.0",
            "grid_template_areas": null,
            "object_position": null,
            "object_fit": null,
            "grid_auto_columns": null,
            "margin": null,
            "display": null,
            "left": null
          }
        },
        "c5095faa1f94468790c6a77dca629d62": {
          "model_module": "@jupyter-widgets/controls",
          "model_name": "HBoxModel",
          "state": {
            "_view_name": "HBoxView",
            "_dom_classes": [],
            "_model_name": "HBoxModel",
            "_view_module": "@jupyter-widgets/controls",
            "_model_module_version": "1.5.0",
            "_view_count": null,
            "_view_module_version": "1.5.0",
            "box_style": "",
            "layout": "IPY_MODEL_febdb9b839874805a530c5d6b96163fc",
            "_model_module": "@jupyter-widgets/controls",
            "children": [
              "IPY_MODEL_1c32fc6521f04d5fb3f401a2f4298b5e",
              "IPY_MODEL_e28895c03a7c4dfebdb95d89fe67dee4"
            ]
          }
        },
        "febdb9b839874805a530c5d6b96163fc": {
          "model_module": "@jupyter-widgets/base",
          "model_name": "LayoutModel",
          "state": {
            "_view_name": "LayoutView",
            "grid_template_rows": null,
            "right": null,
            "justify_content": null,
            "_view_module": "@jupyter-widgets/base",
            "overflow": null,
            "_model_module_version": "1.2.0",
            "_view_count": null,
            "flex_flow": null,
            "width": null,
            "min_width": null,
            "border": null,
            "align_items": null,
            "bottom": null,
            "_model_module": "@jupyter-widgets/base",
            "top": null,
            "grid_column": null,
            "overflow_y": null,
            "overflow_x": null,
            "grid_auto_flow": null,
            "grid_area": null,
            "grid_template_columns": null,
            "flex": null,
            "_model_name": "LayoutModel",
            "justify_items": null,
            "grid_row": null,
            "max_height": null,
            "align_content": null,
            "visibility": null,
            "align_self": null,
            "height": null,
            "min_height": null,
            "padding": null,
            "grid_auto_rows": null,
            "grid_gap": null,
            "max_width": null,
            "order": null,
            "_view_module_version": "1.2.0",
            "grid_template_areas": null,
            "object_position": null,
            "object_fit": null,
            "grid_auto_columns": null,
            "margin": null,
            "display": null,
            "left": null
          }
        },
        "1c32fc6521f04d5fb3f401a2f4298b5e": {
          "model_module": "@jupyter-widgets/controls",
          "model_name": "FloatProgressModel",
          "state": {
            "_view_name": "ProgressView",
            "style": "IPY_MODEL_872809c9e9cb4818bd567d7c975efeee",
            "_dom_classes": [],
            "description": "100%",
            "_model_name": "FloatProgressModel",
            "bar_style": "",
            "max": 20,
            "_view_module": "@jupyter-widgets/controls",
            "_model_module_version": "1.5.0",
            "value": 20,
            "_view_count": null,
            "_view_module_version": "1.5.0",
            "orientation": "horizontal",
            "min": 0,
            "description_tooltip": null,
            "_model_module": "@jupyter-widgets/controls",
            "layout": "IPY_MODEL_36d8fb34a54b43f3b4de9776e6faa80a"
          }
        },
        "e28895c03a7c4dfebdb95d89fe67dee4": {
          "model_module": "@jupyter-widgets/controls",
          "model_name": "HTMLModel",
          "state": {
            "_view_name": "HTMLView",
            "style": "IPY_MODEL_5319a06aa515476f8f849b260ee528d5",
            "_dom_classes": [],
            "description": "",
            "_model_name": "HTMLModel",
            "placeholder": "​",
            "_view_module": "@jupyter-widgets/controls",
            "_model_module_version": "1.5.0",
            "value": " 20/20 [11:04&lt;00:00, 34.15s/it]",
            "_view_count": null,
            "_view_module_version": "1.5.0",
            "description_tooltip": null,
            "_model_module": "@jupyter-widgets/controls",
            "layout": "IPY_MODEL_93b9e67a8e0b4c2f8a70c02bb81842f3"
          }
        },
        "872809c9e9cb4818bd567d7c975efeee": {
          "model_module": "@jupyter-widgets/controls",
          "model_name": "ProgressStyleModel",
          "state": {
            "_view_name": "StyleView",
            "_model_name": "ProgressStyleModel",
            "description_width": "initial",
            "_view_module": "@jupyter-widgets/base",
            "_model_module_version": "1.5.0",
            "_view_count": null,
            "_view_module_version": "1.2.0",
            "bar_color": null,
            "_model_module": "@jupyter-widgets/controls"
          }
        },
        "36d8fb34a54b43f3b4de9776e6faa80a": {
          "model_module": "@jupyter-widgets/base",
          "model_name": "LayoutModel",
          "state": {
            "_view_name": "LayoutView",
            "grid_template_rows": null,
            "right": null,
            "justify_content": null,
            "_view_module": "@jupyter-widgets/base",
            "overflow": null,
            "_model_module_version": "1.2.0",
            "_view_count": null,
            "flex_flow": null,
            "width": null,
            "min_width": null,
            "border": null,
            "align_items": null,
            "bottom": null,
            "_model_module": "@jupyter-widgets/base",
            "top": null,
            "grid_column": null,
            "overflow_y": null,
            "overflow_x": null,
            "grid_auto_flow": null,
            "grid_area": null,
            "grid_template_columns": null,
            "flex": null,
            "_model_name": "LayoutModel",
            "justify_items": null,
            "grid_row": null,
            "max_height": null,
            "align_content": null,
            "visibility": null,
            "align_self": null,
            "height": null,
            "min_height": null,
            "padding": null,
            "grid_auto_rows": null,
            "grid_gap": null,
            "max_width": null,
            "order": null,
            "_view_module_version": "1.2.0",
            "grid_template_areas": null,
            "object_position": null,
            "object_fit": null,
            "grid_auto_columns": null,
            "margin": null,
            "display": null,
            "left": null
          }
        },
        "5319a06aa515476f8f849b260ee528d5": {
          "model_module": "@jupyter-widgets/controls",
          "model_name": "DescriptionStyleModel",
          "state": {
            "_view_name": "StyleView",
            "_model_name": "DescriptionStyleModel",
            "description_width": "",
            "_view_module": "@jupyter-widgets/base",
            "_model_module_version": "1.5.0",
            "_view_count": null,
            "_view_module_version": "1.2.0",
            "_model_module": "@jupyter-widgets/controls"
          }
        },
        "93b9e67a8e0b4c2f8a70c02bb81842f3": {
          "model_module": "@jupyter-widgets/base",
          "model_name": "LayoutModel",
          "state": {
            "_view_name": "LayoutView",
            "grid_template_rows": null,
            "right": null,
            "justify_content": null,
            "_view_module": "@jupyter-widgets/base",
            "overflow": null,
            "_model_module_version": "1.2.0",
            "_view_count": null,
            "flex_flow": null,
            "width": null,
            "min_width": null,
            "border": null,
            "align_items": null,
            "bottom": null,
            "_model_module": "@jupyter-widgets/base",
            "top": null,
            "grid_column": null,
            "overflow_y": null,
            "overflow_x": null,
            "grid_auto_flow": null,
            "grid_area": null,
            "grid_template_columns": null,
            "flex": null,
            "_model_name": "LayoutModel",
            "justify_items": null,
            "grid_row": null,
            "max_height": null,
            "align_content": null,
            "visibility": null,
            "align_self": null,
            "height": null,
            "min_height": null,
            "padding": null,
            "grid_auto_rows": null,
            "grid_gap": null,
            "max_width": null,
            "order": null,
            "_view_module_version": "1.2.0",
            "grid_template_areas": null,
            "object_position": null,
            "object_fit": null,
            "grid_auto_columns": null,
            "margin": null,
            "display": null,
            "left": null
          }
        },
        "3abd38f9fdd94bc1a579e716b3558926": {
          "model_module": "@jupyter-widgets/controls",
          "model_name": "HBoxModel",
          "state": {
            "_view_name": "HBoxView",
            "_dom_classes": [],
            "_model_name": "HBoxModel",
            "_view_module": "@jupyter-widgets/controls",
            "_model_module_version": "1.5.0",
            "_view_count": null,
            "_view_module_version": "1.5.0",
            "box_style": "",
            "layout": "IPY_MODEL_dadb6a35d6b54edd86f0514e24317497",
            "_model_module": "@jupyter-widgets/controls",
            "children": [
              "IPY_MODEL_23a3d44f8c5c409daaaf4ddc0d6aeb8b",
              "IPY_MODEL_ab13a721436f4160870e03d7107b52df"
            ]
          }
        },
        "dadb6a35d6b54edd86f0514e24317497": {
          "model_module": "@jupyter-widgets/base",
          "model_name": "LayoutModel",
          "state": {
            "_view_name": "LayoutView",
            "grid_template_rows": null,
            "right": null,
            "justify_content": null,
            "_view_module": "@jupyter-widgets/base",
            "overflow": null,
            "_model_module_version": "1.2.0",
            "_view_count": null,
            "flex_flow": null,
            "width": null,
            "min_width": null,
            "border": null,
            "align_items": null,
            "bottom": null,
            "_model_module": "@jupyter-widgets/base",
            "top": null,
            "grid_column": null,
            "overflow_y": null,
            "overflow_x": null,
            "grid_auto_flow": null,
            "grid_area": null,
            "grid_template_columns": null,
            "flex": null,
            "_model_name": "LayoutModel",
            "justify_items": null,
            "grid_row": null,
            "max_height": null,
            "align_content": null,
            "visibility": null,
            "align_self": null,
            "height": null,
            "min_height": null,
            "padding": null,
            "grid_auto_rows": null,
            "grid_gap": null,
            "max_width": null,
            "order": null,
            "_view_module_version": "1.2.0",
            "grid_template_areas": null,
            "object_position": null,
            "object_fit": null,
            "grid_auto_columns": null,
            "margin": null,
            "display": null,
            "left": null
          }
        },
        "23a3d44f8c5c409daaaf4ddc0d6aeb8b": {
          "model_module": "@jupyter-widgets/controls",
          "model_name": "FloatProgressModel",
          "state": {
            "_view_name": "ProgressView",
            "style": "IPY_MODEL_d597b81157094bb58844c9c7ccfd0519",
            "_dom_classes": [],
            "description": "100%",
            "_model_name": "FloatProgressModel",
            "bar_style": "",
            "max": 20,
            "_view_module": "@jupyter-widgets/controls",
            "_model_module_version": "1.5.0",
            "value": 20,
            "_view_count": null,
            "_view_module_version": "1.5.0",
            "orientation": "horizontal",
            "min": 0,
            "description_tooltip": null,
            "_model_module": "@jupyter-widgets/controls",
            "layout": "IPY_MODEL_13d89a511b00410d9e0dd080ad4669af"
          }
        },
        "ab13a721436f4160870e03d7107b52df": {
          "model_module": "@jupyter-widgets/controls",
          "model_name": "HTMLModel",
          "state": {
            "_view_name": "HTMLView",
            "style": "IPY_MODEL_63a18e3bc45641e081bf207f0958b6d9",
            "_dom_classes": [],
            "description": "",
            "_model_name": "HTMLModel",
            "placeholder": "​",
            "_view_module": "@jupyter-widgets/controls",
            "_model_module_version": "1.5.0",
            "value": " 20/20 [11:31&lt;00:00, 34.60s/it]",
            "_view_count": null,
            "_view_module_version": "1.5.0",
            "description_tooltip": null,
            "_model_module": "@jupyter-widgets/controls",
            "layout": "IPY_MODEL_2f37240ec6fc435d8dc1c54a4ccab3ce"
          }
        },
        "d597b81157094bb58844c9c7ccfd0519": {
          "model_module": "@jupyter-widgets/controls",
          "model_name": "ProgressStyleModel",
          "state": {
            "_view_name": "StyleView",
            "_model_name": "ProgressStyleModel",
            "description_width": "initial",
            "_view_module": "@jupyter-widgets/base",
            "_model_module_version": "1.5.0",
            "_view_count": null,
            "_view_module_version": "1.2.0",
            "bar_color": null,
            "_model_module": "@jupyter-widgets/controls"
          }
        },
        "13d89a511b00410d9e0dd080ad4669af": {
          "model_module": "@jupyter-widgets/base",
          "model_name": "LayoutModel",
          "state": {
            "_view_name": "LayoutView",
            "grid_template_rows": null,
            "right": null,
            "justify_content": null,
            "_view_module": "@jupyter-widgets/base",
            "overflow": null,
            "_model_module_version": "1.2.0",
            "_view_count": null,
            "flex_flow": null,
            "width": null,
            "min_width": null,
            "border": null,
            "align_items": null,
            "bottom": null,
            "_model_module": "@jupyter-widgets/base",
            "top": null,
            "grid_column": null,
            "overflow_y": null,
            "overflow_x": null,
            "grid_auto_flow": null,
            "grid_area": null,
            "grid_template_columns": null,
            "flex": null,
            "_model_name": "LayoutModel",
            "justify_items": null,
            "grid_row": null,
            "max_height": null,
            "align_content": null,
            "visibility": null,
            "align_self": null,
            "height": null,
            "min_height": null,
            "padding": null,
            "grid_auto_rows": null,
            "grid_gap": null,
            "max_width": null,
            "order": null,
            "_view_module_version": "1.2.0",
            "grid_template_areas": null,
            "object_position": null,
            "object_fit": null,
            "grid_auto_columns": null,
            "margin": null,
            "display": null,
            "left": null
          }
        },
        "63a18e3bc45641e081bf207f0958b6d9": {
          "model_module": "@jupyter-widgets/controls",
          "model_name": "DescriptionStyleModel",
          "state": {
            "_view_name": "StyleView",
            "_model_name": "DescriptionStyleModel",
            "description_width": "",
            "_view_module": "@jupyter-widgets/base",
            "_model_module_version": "1.5.0",
            "_view_count": null,
            "_view_module_version": "1.2.0",
            "_model_module": "@jupyter-widgets/controls"
          }
        },
        "2f37240ec6fc435d8dc1c54a4ccab3ce": {
          "model_module": "@jupyter-widgets/base",
          "model_name": "LayoutModel",
          "state": {
            "_view_name": "LayoutView",
            "grid_template_rows": null,
            "right": null,
            "justify_content": null,
            "_view_module": "@jupyter-widgets/base",
            "overflow": null,
            "_model_module_version": "1.2.0",
            "_view_count": null,
            "flex_flow": null,
            "width": null,
            "min_width": null,
            "border": null,
            "align_items": null,
            "bottom": null,
            "_model_module": "@jupyter-widgets/base",
            "top": null,
            "grid_column": null,
            "overflow_y": null,
            "overflow_x": null,
            "grid_auto_flow": null,
            "grid_area": null,
            "grid_template_columns": null,
            "flex": null,
            "_model_name": "LayoutModel",
            "justify_items": null,
            "grid_row": null,
            "max_height": null,
            "align_content": null,
            "visibility": null,
            "align_self": null,
            "height": null,
            "min_height": null,
            "padding": null,
            "grid_auto_rows": null,
            "grid_gap": null,
            "max_width": null,
            "order": null,
            "_view_module_version": "1.2.0",
            "grid_template_areas": null,
            "object_position": null,
            "object_fit": null,
            "grid_auto_columns": null,
            "margin": null,
            "display": null,
            "left": null
          }
        },
        "8448dba5d2dc41489ffe5a64d8539f67": {
          "model_module": "@jupyter-widgets/controls",
          "model_name": "HBoxModel",
          "state": {
            "_view_name": "HBoxView",
            "_dom_classes": [],
            "_model_name": "HBoxModel",
            "_view_module": "@jupyter-widgets/controls",
            "_model_module_version": "1.5.0",
            "_view_count": null,
            "_view_module_version": "1.5.0",
            "box_style": "",
            "layout": "IPY_MODEL_d66f49da86654fb8882030c32c675a92",
            "_model_module": "@jupyter-widgets/controls",
            "children": [
              "IPY_MODEL_ac073322dbf84e3f8ed1b94219aafe6f",
              "IPY_MODEL_a0538361a60f452aa34300806e5de56c"
            ]
          }
        },
        "d66f49da86654fb8882030c32c675a92": {
          "model_module": "@jupyter-widgets/base",
          "model_name": "LayoutModel",
          "state": {
            "_view_name": "LayoutView",
            "grid_template_rows": null,
            "right": null,
            "justify_content": null,
            "_view_module": "@jupyter-widgets/base",
            "overflow": null,
            "_model_module_version": "1.2.0",
            "_view_count": null,
            "flex_flow": null,
            "width": null,
            "min_width": null,
            "border": null,
            "align_items": null,
            "bottom": null,
            "_model_module": "@jupyter-widgets/base",
            "top": null,
            "grid_column": null,
            "overflow_y": null,
            "overflow_x": null,
            "grid_auto_flow": null,
            "grid_area": null,
            "grid_template_columns": null,
            "flex": null,
            "_model_name": "LayoutModel",
            "justify_items": null,
            "grid_row": null,
            "max_height": null,
            "align_content": null,
            "visibility": null,
            "align_self": null,
            "height": null,
            "min_height": null,
            "padding": null,
            "grid_auto_rows": null,
            "grid_gap": null,
            "max_width": null,
            "order": null,
            "_view_module_version": "1.2.0",
            "grid_template_areas": null,
            "object_position": null,
            "object_fit": null,
            "grid_auto_columns": null,
            "margin": null,
            "display": null,
            "left": null
          }
        },
        "ac073322dbf84e3f8ed1b94219aafe6f": {
          "model_module": "@jupyter-widgets/controls",
          "model_name": "FloatProgressModel",
          "state": {
            "_view_name": "ProgressView",
            "style": "IPY_MODEL_fcc0b8eac9f54424a64e24cc6cabe42a",
            "_dom_classes": [],
            "description": "100%",
            "_model_name": "FloatProgressModel",
            "bar_style": "",
            "max": 20,
            "_view_module": "@jupyter-widgets/controls",
            "_model_module_version": "1.5.0",
            "value": 20,
            "_view_count": null,
            "_view_module_version": "1.5.0",
            "orientation": "horizontal",
            "min": 0,
            "description_tooltip": null,
            "_model_module": "@jupyter-widgets/controls",
            "layout": "IPY_MODEL_782b363d72294f08a8e0ea2bc72aa3a8"
          }
        },
        "a0538361a60f452aa34300806e5de56c": {
          "model_module": "@jupyter-widgets/controls",
          "model_name": "HTMLModel",
          "state": {
            "_view_name": "HTMLView",
            "style": "IPY_MODEL_0971350577ce4ab8a7ea8ff908bb7da6",
            "_dom_classes": [],
            "description": "",
            "_model_name": "HTMLModel",
            "placeholder": "​",
            "_view_module": "@jupyter-widgets/controls",
            "_model_module_version": "1.5.0",
            "value": " 20/20 [11:32&lt;00:00, 34.85s/it]",
            "_view_count": null,
            "_view_module_version": "1.5.0",
            "description_tooltip": null,
            "_model_module": "@jupyter-widgets/controls",
            "layout": "IPY_MODEL_27896511c4e744d6a0b20418a57d7b6e"
          }
        },
        "fcc0b8eac9f54424a64e24cc6cabe42a": {
          "model_module": "@jupyter-widgets/controls",
          "model_name": "ProgressStyleModel",
          "state": {
            "_view_name": "StyleView",
            "_model_name": "ProgressStyleModel",
            "description_width": "initial",
            "_view_module": "@jupyter-widgets/base",
            "_model_module_version": "1.5.0",
            "_view_count": null,
            "_view_module_version": "1.2.0",
            "bar_color": null,
            "_model_module": "@jupyter-widgets/controls"
          }
        },
        "782b363d72294f08a8e0ea2bc72aa3a8": {
          "model_module": "@jupyter-widgets/base",
          "model_name": "LayoutModel",
          "state": {
            "_view_name": "LayoutView",
            "grid_template_rows": null,
            "right": null,
            "justify_content": null,
            "_view_module": "@jupyter-widgets/base",
            "overflow": null,
            "_model_module_version": "1.2.0",
            "_view_count": null,
            "flex_flow": null,
            "width": null,
            "min_width": null,
            "border": null,
            "align_items": null,
            "bottom": null,
            "_model_module": "@jupyter-widgets/base",
            "top": null,
            "grid_column": null,
            "overflow_y": null,
            "overflow_x": null,
            "grid_auto_flow": null,
            "grid_area": null,
            "grid_template_columns": null,
            "flex": null,
            "_model_name": "LayoutModel",
            "justify_items": null,
            "grid_row": null,
            "max_height": null,
            "align_content": null,
            "visibility": null,
            "align_self": null,
            "height": null,
            "min_height": null,
            "padding": null,
            "grid_auto_rows": null,
            "grid_gap": null,
            "max_width": null,
            "order": null,
            "_view_module_version": "1.2.0",
            "grid_template_areas": null,
            "object_position": null,
            "object_fit": null,
            "grid_auto_columns": null,
            "margin": null,
            "display": null,
            "left": null
          }
        },
        "0971350577ce4ab8a7ea8ff908bb7da6": {
          "model_module": "@jupyter-widgets/controls",
          "model_name": "DescriptionStyleModel",
          "state": {
            "_view_name": "StyleView",
            "_model_name": "DescriptionStyleModel",
            "description_width": "",
            "_view_module": "@jupyter-widgets/base",
            "_model_module_version": "1.5.0",
            "_view_count": null,
            "_view_module_version": "1.2.0",
            "_model_module": "@jupyter-widgets/controls"
          }
        },
        "27896511c4e744d6a0b20418a57d7b6e": {
          "model_module": "@jupyter-widgets/base",
          "model_name": "LayoutModel",
          "state": {
            "_view_name": "LayoutView",
            "grid_template_rows": null,
            "right": null,
            "justify_content": null,
            "_view_module": "@jupyter-widgets/base",
            "overflow": null,
            "_model_module_version": "1.2.0",
            "_view_count": null,
            "flex_flow": null,
            "width": null,
            "min_width": null,
            "border": null,
            "align_items": null,
            "bottom": null,
            "_model_module": "@jupyter-widgets/base",
            "top": null,
            "grid_column": null,
            "overflow_y": null,
            "overflow_x": null,
            "grid_auto_flow": null,
            "grid_area": null,
            "grid_template_columns": null,
            "flex": null,
            "_model_name": "LayoutModel",
            "justify_items": null,
            "grid_row": null,
            "max_height": null,
            "align_content": null,
            "visibility": null,
            "align_self": null,
            "height": null,
            "min_height": null,
            "padding": null,
            "grid_auto_rows": null,
            "grid_gap": null,
            "max_width": null,
            "order": null,
            "_view_module_version": "1.2.0",
            "grid_template_areas": null,
            "object_position": null,
            "object_fit": null,
            "grid_auto_columns": null,
            "margin": null,
            "display": null,
            "left": null
          }
        },
        "a5c375300191480f9c97975b8eaef4f0": {
          "model_module": "@jupyter-widgets/controls",
          "model_name": "HBoxModel",
          "state": {
            "_view_name": "HBoxView",
            "_dom_classes": [],
            "_model_name": "HBoxModel",
            "_view_module": "@jupyter-widgets/controls",
            "_model_module_version": "1.5.0",
            "_view_count": null,
            "_view_module_version": "1.5.0",
            "box_style": "",
            "layout": "IPY_MODEL_ea457dcc49cd4a3ca77d62efa417233f",
            "_model_module": "@jupyter-widgets/controls",
            "children": [
              "IPY_MODEL_75e17bd3ca79468f95b9852629195f20",
              "IPY_MODEL_15f5b51288284801990aa0f20fb06350"
            ]
          }
        },
        "ea457dcc49cd4a3ca77d62efa417233f": {
          "model_module": "@jupyter-widgets/base",
          "model_name": "LayoutModel",
          "state": {
            "_view_name": "LayoutView",
            "grid_template_rows": null,
            "right": null,
            "justify_content": null,
            "_view_module": "@jupyter-widgets/base",
            "overflow": null,
            "_model_module_version": "1.2.0",
            "_view_count": null,
            "flex_flow": null,
            "width": null,
            "min_width": null,
            "border": null,
            "align_items": null,
            "bottom": null,
            "_model_module": "@jupyter-widgets/base",
            "top": null,
            "grid_column": null,
            "overflow_y": null,
            "overflow_x": null,
            "grid_auto_flow": null,
            "grid_area": null,
            "grid_template_columns": null,
            "flex": null,
            "_model_name": "LayoutModel",
            "justify_items": null,
            "grid_row": null,
            "max_height": null,
            "align_content": null,
            "visibility": null,
            "align_self": null,
            "height": null,
            "min_height": null,
            "padding": null,
            "grid_auto_rows": null,
            "grid_gap": null,
            "max_width": null,
            "order": null,
            "_view_module_version": "1.2.0",
            "grid_template_areas": null,
            "object_position": null,
            "object_fit": null,
            "grid_auto_columns": null,
            "margin": null,
            "display": null,
            "left": null
          }
        },
        "75e17bd3ca79468f95b9852629195f20": {
          "model_module": "@jupyter-widgets/controls",
          "model_name": "FloatProgressModel",
          "state": {
            "_view_name": "ProgressView",
            "style": "IPY_MODEL_333dec2df73b469faafee462049d6ec6",
            "_dom_classes": [],
            "description": "100%",
            "_model_name": "FloatProgressModel",
            "bar_style": "",
            "max": 20,
            "_view_module": "@jupyter-widgets/controls",
            "_model_module_version": "1.5.0",
            "value": 20,
            "_view_count": null,
            "_view_module_version": "1.5.0",
            "orientation": "horizontal",
            "min": 0,
            "description_tooltip": null,
            "_model_module": "@jupyter-widgets/controls",
            "layout": "IPY_MODEL_b75c357721174903ae3c9247c1e74fb9"
          }
        },
        "15f5b51288284801990aa0f20fb06350": {
          "model_module": "@jupyter-widgets/controls",
          "model_name": "HTMLModel",
          "state": {
            "_view_name": "HTMLView",
            "style": "IPY_MODEL_ed12b1e465bb45c6a46422be27aa1a69",
            "_dom_classes": [],
            "description": "",
            "_model_name": "HTMLModel",
            "placeholder": "​",
            "_view_module": "@jupyter-widgets/controls",
            "_model_module_version": "1.5.0",
            "value": " 20/20 [11:35&lt;00:00, 35.80s/it]",
            "_view_count": null,
            "_view_module_version": "1.5.0",
            "description_tooltip": null,
            "_model_module": "@jupyter-widgets/controls",
            "layout": "IPY_MODEL_eac900977e9c4aceb92e4170ce1a688c"
          }
        },
        "333dec2df73b469faafee462049d6ec6": {
          "model_module": "@jupyter-widgets/controls",
          "model_name": "ProgressStyleModel",
          "state": {
            "_view_name": "StyleView",
            "_model_name": "ProgressStyleModel",
            "description_width": "initial",
            "_view_module": "@jupyter-widgets/base",
            "_model_module_version": "1.5.0",
            "_view_count": null,
            "_view_module_version": "1.2.0",
            "bar_color": null,
            "_model_module": "@jupyter-widgets/controls"
          }
        },
        "b75c357721174903ae3c9247c1e74fb9": {
          "model_module": "@jupyter-widgets/base",
          "model_name": "LayoutModel",
          "state": {
            "_view_name": "LayoutView",
            "grid_template_rows": null,
            "right": null,
            "justify_content": null,
            "_view_module": "@jupyter-widgets/base",
            "overflow": null,
            "_model_module_version": "1.2.0",
            "_view_count": null,
            "flex_flow": null,
            "width": null,
            "min_width": null,
            "border": null,
            "align_items": null,
            "bottom": null,
            "_model_module": "@jupyter-widgets/base",
            "top": null,
            "grid_column": null,
            "overflow_y": null,
            "overflow_x": null,
            "grid_auto_flow": null,
            "grid_area": null,
            "grid_template_columns": null,
            "flex": null,
            "_model_name": "LayoutModel",
            "justify_items": null,
            "grid_row": null,
            "max_height": null,
            "align_content": null,
            "visibility": null,
            "align_self": null,
            "height": null,
            "min_height": null,
            "padding": null,
            "grid_auto_rows": null,
            "grid_gap": null,
            "max_width": null,
            "order": null,
            "_view_module_version": "1.2.0",
            "grid_template_areas": null,
            "object_position": null,
            "object_fit": null,
            "grid_auto_columns": null,
            "margin": null,
            "display": null,
            "left": null
          }
        },
        "ed12b1e465bb45c6a46422be27aa1a69": {
          "model_module": "@jupyter-widgets/controls",
          "model_name": "DescriptionStyleModel",
          "state": {
            "_view_name": "StyleView",
            "_model_name": "DescriptionStyleModel",
            "description_width": "",
            "_view_module": "@jupyter-widgets/base",
            "_model_module_version": "1.5.0",
            "_view_count": null,
            "_view_module_version": "1.2.0",
            "_model_module": "@jupyter-widgets/controls"
          }
        },
        "eac900977e9c4aceb92e4170ce1a688c": {
          "model_module": "@jupyter-widgets/base",
          "model_name": "LayoutModel",
          "state": {
            "_view_name": "LayoutView",
            "grid_template_rows": null,
            "right": null,
            "justify_content": null,
            "_view_module": "@jupyter-widgets/base",
            "overflow": null,
            "_model_module_version": "1.2.0",
            "_view_count": null,
            "flex_flow": null,
            "width": null,
            "min_width": null,
            "border": null,
            "align_items": null,
            "bottom": null,
            "_model_module": "@jupyter-widgets/base",
            "top": null,
            "grid_column": null,
            "overflow_y": null,
            "overflow_x": null,
            "grid_auto_flow": null,
            "grid_area": null,
            "grid_template_columns": null,
            "flex": null,
            "_model_name": "LayoutModel",
            "justify_items": null,
            "grid_row": null,
            "max_height": null,
            "align_content": null,
            "visibility": null,
            "align_self": null,
            "height": null,
            "min_height": null,
            "padding": null,
            "grid_auto_rows": null,
            "grid_gap": null,
            "max_width": null,
            "order": null,
            "_view_module_version": "1.2.0",
            "grid_template_areas": null,
            "object_position": null,
            "object_fit": null,
            "grid_auto_columns": null,
            "margin": null,
            "display": null,
            "left": null
          }
        },
        "350f682a558b4885a541c74d391e1c1f": {
          "model_module": "@jupyter-widgets/controls",
          "model_name": "HBoxModel",
          "state": {
            "_view_name": "HBoxView",
            "_dom_classes": [],
            "_model_name": "HBoxModel",
            "_view_module": "@jupyter-widgets/controls",
            "_model_module_version": "1.5.0",
            "_view_count": null,
            "_view_module_version": "1.5.0",
            "box_style": "",
            "layout": "IPY_MODEL_88517ea0c5e34698acb93fb48fcdb7f1",
            "_model_module": "@jupyter-widgets/controls",
            "children": [
              "IPY_MODEL_915f26dfc9df4cbd952b75ac7d11e361",
              "IPY_MODEL_6debadc76cec4cc4b6ee5b80a66f0d85"
            ]
          }
        },
        "88517ea0c5e34698acb93fb48fcdb7f1": {
          "model_module": "@jupyter-widgets/base",
          "model_name": "LayoutModel",
          "state": {
            "_view_name": "LayoutView",
            "grid_template_rows": null,
            "right": null,
            "justify_content": null,
            "_view_module": "@jupyter-widgets/base",
            "overflow": null,
            "_model_module_version": "1.2.0",
            "_view_count": null,
            "flex_flow": null,
            "width": null,
            "min_width": null,
            "border": null,
            "align_items": null,
            "bottom": null,
            "_model_module": "@jupyter-widgets/base",
            "top": null,
            "grid_column": null,
            "overflow_y": null,
            "overflow_x": null,
            "grid_auto_flow": null,
            "grid_area": null,
            "grid_template_columns": null,
            "flex": null,
            "_model_name": "LayoutModel",
            "justify_items": null,
            "grid_row": null,
            "max_height": null,
            "align_content": null,
            "visibility": null,
            "align_self": null,
            "height": null,
            "min_height": null,
            "padding": null,
            "grid_auto_rows": null,
            "grid_gap": null,
            "max_width": null,
            "order": null,
            "_view_module_version": "1.2.0",
            "grid_template_areas": null,
            "object_position": null,
            "object_fit": null,
            "grid_auto_columns": null,
            "margin": null,
            "display": null,
            "left": null
          }
        },
        "915f26dfc9df4cbd952b75ac7d11e361": {
          "model_module": "@jupyter-widgets/controls",
          "model_name": "FloatProgressModel",
          "state": {
            "_view_name": "ProgressView",
            "style": "IPY_MODEL_283a207872f34ca4aacb520c8acd7db4",
            "_dom_classes": [],
            "description": "100%",
            "_model_name": "FloatProgressModel",
            "bar_style": "",
            "max": 20,
            "_view_module": "@jupyter-widgets/controls",
            "_model_module_version": "1.5.0",
            "value": 20,
            "_view_count": null,
            "_view_module_version": "1.5.0",
            "orientation": "horizontal",
            "min": 0,
            "description_tooltip": null,
            "_model_module": "@jupyter-widgets/controls",
            "layout": "IPY_MODEL_21bf83d07bc3460dbe92185f00eee135"
          }
        },
        "6debadc76cec4cc4b6ee5b80a66f0d85": {
          "model_module": "@jupyter-widgets/controls",
          "model_name": "HTMLModel",
          "state": {
            "_view_name": "HTMLView",
            "style": "IPY_MODEL_1feb5adf51ba4e7584f4e3635f5832fa",
            "_dom_classes": [],
            "description": "",
            "_model_name": "HTMLModel",
            "placeholder": "​",
            "_view_module": "@jupyter-widgets/controls",
            "_model_module_version": "1.5.0",
            "value": " 20/20 [12:08&lt;00:00, 36.63s/it]",
            "_view_count": null,
            "_view_module_version": "1.5.0",
            "description_tooltip": null,
            "_model_module": "@jupyter-widgets/controls",
            "layout": "IPY_MODEL_b2489263214f4296849c448f1d961d01"
          }
        },
        "283a207872f34ca4aacb520c8acd7db4": {
          "model_module": "@jupyter-widgets/controls",
          "model_name": "ProgressStyleModel",
          "state": {
            "_view_name": "StyleView",
            "_model_name": "ProgressStyleModel",
            "description_width": "initial",
            "_view_module": "@jupyter-widgets/base",
            "_model_module_version": "1.5.0",
            "_view_count": null,
            "_view_module_version": "1.2.0",
            "bar_color": null,
            "_model_module": "@jupyter-widgets/controls"
          }
        },
        "21bf83d07bc3460dbe92185f00eee135": {
          "model_module": "@jupyter-widgets/base",
          "model_name": "LayoutModel",
          "state": {
            "_view_name": "LayoutView",
            "grid_template_rows": null,
            "right": null,
            "justify_content": null,
            "_view_module": "@jupyter-widgets/base",
            "overflow": null,
            "_model_module_version": "1.2.0",
            "_view_count": null,
            "flex_flow": null,
            "width": null,
            "min_width": null,
            "border": null,
            "align_items": null,
            "bottom": null,
            "_model_module": "@jupyter-widgets/base",
            "top": null,
            "grid_column": null,
            "overflow_y": null,
            "overflow_x": null,
            "grid_auto_flow": null,
            "grid_area": null,
            "grid_template_columns": null,
            "flex": null,
            "_model_name": "LayoutModel",
            "justify_items": null,
            "grid_row": null,
            "max_height": null,
            "align_content": null,
            "visibility": null,
            "align_self": null,
            "height": null,
            "min_height": null,
            "padding": null,
            "grid_auto_rows": null,
            "grid_gap": null,
            "max_width": null,
            "order": null,
            "_view_module_version": "1.2.0",
            "grid_template_areas": null,
            "object_position": null,
            "object_fit": null,
            "grid_auto_columns": null,
            "margin": null,
            "display": null,
            "left": null
          }
        },
        "1feb5adf51ba4e7584f4e3635f5832fa": {
          "model_module": "@jupyter-widgets/controls",
          "model_name": "DescriptionStyleModel",
          "state": {
            "_view_name": "StyleView",
            "_model_name": "DescriptionStyleModel",
            "description_width": "",
            "_view_module": "@jupyter-widgets/base",
            "_model_module_version": "1.5.0",
            "_view_count": null,
            "_view_module_version": "1.2.0",
            "_model_module": "@jupyter-widgets/controls"
          }
        },
        "b2489263214f4296849c448f1d961d01": {
          "model_module": "@jupyter-widgets/base",
          "model_name": "LayoutModel",
          "state": {
            "_view_name": "LayoutView",
            "grid_template_rows": null,
            "right": null,
            "justify_content": null,
            "_view_module": "@jupyter-widgets/base",
            "overflow": null,
            "_model_module_version": "1.2.0",
            "_view_count": null,
            "flex_flow": null,
            "width": null,
            "min_width": null,
            "border": null,
            "align_items": null,
            "bottom": null,
            "_model_module": "@jupyter-widgets/base",
            "top": null,
            "grid_column": null,
            "overflow_y": null,
            "overflow_x": null,
            "grid_auto_flow": null,
            "grid_area": null,
            "grid_template_columns": null,
            "flex": null,
            "_model_name": "LayoutModel",
            "justify_items": null,
            "grid_row": null,
            "max_height": null,
            "align_content": null,
            "visibility": null,
            "align_self": null,
            "height": null,
            "min_height": null,
            "padding": null,
            "grid_auto_rows": null,
            "grid_gap": null,
            "max_width": null,
            "order": null,
            "_view_module_version": "1.2.0",
            "grid_template_areas": null,
            "object_position": null,
            "object_fit": null,
            "grid_auto_columns": null,
            "margin": null,
            "display": null,
            "left": null
          }
        },
        "5a6eee53e2be499ca467bbc9d8704c6a": {
          "model_module": "@jupyter-widgets/controls",
          "model_name": "HBoxModel",
          "state": {
            "_view_name": "HBoxView",
            "_dom_classes": [],
            "_model_name": "HBoxModel",
            "_view_module": "@jupyter-widgets/controls",
            "_model_module_version": "1.5.0",
            "_view_count": null,
            "_view_module_version": "1.5.0",
            "box_style": "",
            "layout": "IPY_MODEL_ab26cf1321b046a9b8d30acc8876f16e",
            "_model_module": "@jupyter-widgets/controls",
            "children": [
              "IPY_MODEL_ccc7480a94024ac085c22600c9d7ee61",
              "IPY_MODEL_08ba1ac60fdb49709ccf3ab7fceb7150"
            ]
          }
        },
        "ab26cf1321b046a9b8d30acc8876f16e": {
          "model_module": "@jupyter-widgets/base",
          "model_name": "LayoutModel",
          "state": {
            "_view_name": "LayoutView",
            "grid_template_rows": null,
            "right": null,
            "justify_content": null,
            "_view_module": "@jupyter-widgets/base",
            "overflow": null,
            "_model_module_version": "1.2.0",
            "_view_count": null,
            "flex_flow": null,
            "width": null,
            "min_width": null,
            "border": null,
            "align_items": null,
            "bottom": null,
            "_model_module": "@jupyter-widgets/base",
            "top": null,
            "grid_column": null,
            "overflow_y": null,
            "overflow_x": null,
            "grid_auto_flow": null,
            "grid_area": null,
            "grid_template_columns": null,
            "flex": null,
            "_model_name": "LayoutModel",
            "justify_items": null,
            "grid_row": null,
            "max_height": null,
            "align_content": null,
            "visibility": null,
            "align_self": null,
            "height": null,
            "min_height": null,
            "padding": null,
            "grid_auto_rows": null,
            "grid_gap": null,
            "max_width": null,
            "order": null,
            "_view_module_version": "1.2.0",
            "grid_template_areas": null,
            "object_position": null,
            "object_fit": null,
            "grid_auto_columns": null,
            "margin": null,
            "display": null,
            "left": null
          }
        },
        "ccc7480a94024ac085c22600c9d7ee61": {
          "model_module": "@jupyter-widgets/controls",
          "model_name": "FloatProgressModel",
          "state": {
            "_view_name": "ProgressView",
            "style": "IPY_MODEL_d955a606a4224889aaca0b6477ba2e92",
            "_dom_classes": [],
            "description": "100%",
            "_model_name": "FloatProgressModel",
            "bar_style": "success",
            "max": 5,
            "_view_module": "@jupyter-widgets/controls",
            "_model_module_version": "1.5.0",
            "value": 5,
            "_view_count": null,
            "_view_module_version": "1.5.0",
            "orientation": "horizontal",
            "min": 0,
            "description_tooltip": null,
            "_model_module": "@jupyter-widgets/controls",
            "layout": "IPY_MODEL_14a58e6ea3dc46b3a7c447a7529e481e"
          }
        },
        "08ba1ac60fdb49709ccf3ab7fceb7150": {
          "model_module": "@jupyter-widgets/controls",
          "model_name": "HTMLModel",
          "state": {
            "_view_name": "HTMLView",
            "style": "IPY_MODEL_d2e861b172854f9b95a75c79f0999229",
            "_dom_classes": [],
            "description": "",
            "_model_name": "HTMLModel",
            "placeholder": "​",
            "_view_module": "@jupyter-widgets/controls",
            "_model_module_version": "1.5.0",
            "value": " 5/5 [30:21&lt;00:00, 364.20s/it]",
            "_view_count": null,
            "_view_module_version": "1.5.0",
            "description_tooltip": null,
            "_model_module": "@jupyter-widgets/controls",
            "layout": "IPY_MODEL_59f795248e804400bbd81a8372b0c3f7"
          }
        },
        "d955a606a4224889aaca0b6477ba2e92": {
          "model_module": "@jupyter-widgets/controls",
          "model_name": "ProgressStyleModel",
          "state": {
            "_view_name": "StyleView",
            "_model_name": "ProgressStyleModel",
            "description_width": "initial",
            "_view_module": "@jupyter-widgets/base",
            "_model_module_version": "1.5.0",
            "_view_count": null,
            "_view_module_version": "1.2.0",
            "bar_color": null,
            "_model_module": "@jupyter-widgets/controls"
          }
        },
        "14a58e6ea3dc46b3a7c447a7529e481e": {
          "model_module": "@jupyter-widgets/base",
          "model_name": "LayoutModel",
          "state": {
            "_view_name": "LayoutView",
            "grid_template_rows": null,
            "right": null,
            "justify_content": null,
            "_view_module": "@jupyter-widgets/base",
            "overflow": null,
            "_model_module_version": "1.2.0",
            "_view_count": null,
            "flex_flow": null,
            "width": null,
            "min_width": null,
            "border": null,
            "align_items": null,
            "bottom": null,
            "_model_module": "@jupyter-widgets/base",
            "top": null,
            "grid_column": null,
            "overflow_y": null,
            "overflow_x": null,
            "grid_auto_flow": null,
            "grid_area": null,
            "grid_template_columns": null,
            "flex": null,
            "_model_name": "LayoutModel",
            "justify_items": null,
            "grid_row": null,
            "max_height": null,
            "align_content": null,
            "visibility": null,
            "align_self": null,
            "height": null,
            "min_height": null,
            "padding": null,
            "grid_auto_rows": null,
            "grid_gap": null,
            "max_width": null,
            "order": null,
            "_view_module_version": "1.2.0",
            "grid_template_areas": null,
            "object_position": null,
            "object_fit": null,
            "grid_auto_columns": null,
            "margin": null,
            "display": null,
            "left": null
          }
        },
        "d2e861b172854f9b95a75c79f0999229": {
          "model_module": "@jupyter-widgets/controls",
          "model_name": "DescriptionStyleModel",
          "state": {
            "_view_name": "StyleView",
            "_model_name": "DescriptionStyleModel",
            "description_width": "",
            "_view_module": "@jupyter-widgets/base",
            "_model_module_version": "1.5.0",
            "_view_count": null,
            "_view_module_version": "1.2.0",
            "_model_module": "@jupyter-widgets/controls"
          }
        },
        "59f795248e804400bbd81a8372b0c3f7": {
          "model_module": "@jupyter-widgets/base",
          "model_name": "LayoutModel",
          "state": {
            "_view_name": "LayoutView",
            "grid_template_rows": null,
            "right": null,
            "justify_content": null,
            "_view_module": "@jupyter-widgets/base",
            "overflow": null,
            "_model_module_version": "1.2.0",
            "_view_count": null,
            "flex_flow": null,
            "width": null,
            "min_width": null,
            "border": null,
            "align_items": null,
            "bottom": null,
            "_model_module": "@jupyter-widgets/base",
            "top": null,
            "grid_column": null,
            "overflow_y": null,
            "overflow_x": null,
            "grid_auto_flow": null,
            "grid_area": null,
            "grid_template_columns": null,
            "flex": null,
            "_model_name": "LayoutModel",
            "justify_items": null,
            "grid_row": null,
            "max_height": null,
            "align_content": null,
            "visibility": null,
            "align_self": null,
            "height": null,
            "min_height": null,
            "padding": null,
            "grid_auto_rows": null,
            "grid_gap": null,
            "max_width": null,
            "order": null,
            "_view_module_version": "1.2.0",
            "grid_template_areas": null,
            "object_position": null,
            "object_fit": null,
            "grid_auto_columns": null,
            "margin": null,
            "display": null,
            "left": null
          }
        },
        "9b4adc656294449f8ea702ac181ab4aa": {
          "model_module": "@jupyter-widgets/controls",
          "model_name": "HBoxModel",
          "state": {
            "_view_name": "HBoxView",
            "_dom_classes": [],
            "_model_name": "HBoxModel",
            "_view_module": "@jupyter-widgets/controls",
            "_model_module_version": "1.5.0",
            "_view_count": null,
            "_view_module_version": "1.5.0",
            "box_style": "",
            "layout": "IPY_MODEL_af31c60659d64e1fb946858eea5a26fc",
            "_model_module": "@jupyter-widgets/controls",
            "children": [
              "IPY_MODEL_7a4e9f059272400fbfda84995e7a710c",
              "IPY_MODEL_5c54744f7b2f482685e00811433809d4"
            ]
          }
        },
        "af31c60659d64e1fb946858eea5a26fc": {
          "model_module": "@jupyter-widgets/base",
          "model_name": "LayoutModel",
          "state": {
            "_view_name": "LayoutView",
            "grid_template_rows": null,
            "right": null,
            "justify_content": null,
            "_view_module": "@jupyter-widgets/base",
            "overflow": null,
            "_model_module_version": "1.2.0",
            "_view_count": null,
            "flex_flow": null,
            "width": null,
            "min_width": null,
            "border": null,
            "align_items": null,
            "bottom": null,
            "_model_module": "@jupyter-widgets/base",
            "top": null,
            "grid_column": null,
            "overflow_y": null,
            "overflow_x": null,
            "grid_auto_flow": null,
            "grid_area": null,
            "grid_template_columns": null,
            "flex": null,
            "_model_name": "LayoutModel",
            "justify_items": null,
            "grid_row": null,
            "max_height": null,
            "align_content": null,
            "visibility": null,
            "align_self": null,
            "height": null,
            "min_height": null,
            "padding": null,
            "grid_auto_rows": null,
            "grid_gap": null,
            "max_width": null,
            "order": null,
            "_view_module_version": "1.2.0",
            "grid_template_areas": null,
            "object_position": null,
            "object_fit": null,
            "grid_auto_columns": null,
            "margin": null,
            "display": null,
            "left": null
          }
        },
        "7a4e9f059272400fbfda84995e7a710c": {
          "model_module": "@jupyter-widgets/controls",
          "model_name": "FloatProgressModel",
          "state": {
            "_view_name": "ProgressView",
            "style": "IPY_MODEL_af60245a25e9468ea94dc5b73f98e442",
            "_dom_classes": [],
            "description": "100%",
            "_model_name": "FloatProgressModel",
            "bar_style": "",
            "max": 20,
            "_view_module": "@jupyter-widgets/controls",
            "_model_module_version": "1.5.0",
            "value": 20,
            "_view_count": null,
            "_view_module_version": "1.5.0",
            "orientation": "horizontal",
            "min": 0,
            "description_tooltip": null,
            "_model_module": "@jupyter-widgets/controls",
            "layout": "IPY_MODEL_d9b9267cf81d42e4896c3874f59dd14e"
          }
        },
        "5c54744f7b2f482685e00811433809d4": {
          "model_module": "@jupyter-widgets/controls",
          "model_name": "HTMLModel",
          "state": {
            "_view_name": "HTMLView",
            "style": "IPY_MODEL_58f7bc46614748cda0c4d3adc0c9622d",
            "_dom_classes": [],
            "description": "",
            "_model_name": "HTMLModel",
            "placeholder": "​",
            "_view_module": "@jupyter-widgets/controls",
            "_model_module_version": "1.5.0",
            "value": " 20/20 [06:08&lt;00:00, 18.65s/it]",
            "_view_count": null,
            "_view_module_version": "1.5.0",
            "description_tooltip": null,
            "_model_module": "@jupyter-widgets/controls",
            "layout": "IPY_MODEL_77b50f4618af424ca7899930d7a78744"
          }
        },
        "af60245a25e9468ea94dc5b73f98e442": {
          "model_module": "@jupyter-widgets/controls",
          "model_name": "ProgressStyleModel",
          "state": {
            "_view_name": "StyleView",
            "_model_name": "ProgressStyleModel",
            "description_width": "initial",
            "_view_module": "@jupyter-widgets/base",
            "_model_module_version": "1.5.0",
            "_view_count": null,
            "_view_module_version": "1.2.0",
            "bar_color": null,
            "_model_module": "@jupyter-widgets/controls"
          }
        },
        "d9b9267cf81d42e4896c3874f59dd14e": {
          "model_module": "@jupyter-widgets/base",
          "model_name": "LayoutModel",
          "state": {
            "_view_name": "LayoutView",
            "grid_template_rows": null,
            "right": null,
            "justify_content": null,
            "_view_module": "@jupyter-widgets/base",
            "overflow": null,
            "_model_module_version": "1.2.0",
            "_view_count": null,
            "flex_flow": null,
            "width": null,
            "min_width": null,
            "border": null,
            "align_items": null,
            "bottom": null,
            "_model_module": "@jupyter-widgets/base",
            "top": null,
            "grid_column": null,
            "overflow_y": null,
            "overflow_x": null,
            "grid_auto_flow": null,
            "grid_area": null,
            "grid_template_columns": null,
            "flex": null,
            "_model_name": "LayoutModel",
            "justify_items": null,
            "grid_row": null,
            "max_height": null,
            "align_content": null,
            "visibility": null,
            "align_self": null,
            "height": null,
            "min_height": null,
            "padding": null,
            "grid_auto_rows": null,
            "grid_gap": null,
            "max_width": null,
            "order": null,
            "_view_module_version": "1.2.0",
            "grid_template_areas": null,
            "object_position": null,
            "object_fit": null,
            "grid_auto_columns": null,
            "margin": null,
            "display": null,
            "left": null
          }
        },
        "58f7bc46614748cda0c4d3adc0c9622d": {
          "model_module": "@jupyter-widgets/controls",
          "model_name": "DescriptionStyleModel",
          "state": {
            "_view_name": "StyleView",
            "_model_name": "DescriptionStyleModel",
            "description_width": "",
            "_view_module": "@jupyter-widgets/base",
            "_model_module_version": "1.5.0",
            "_view_count": null,
            "_view_module_version": "1.2.0",
            "_model_module": "@jupyter-widgets/controls"
          }
        },
        "77b50f4618af424ca7899930d7a78744": {
          "model_module": "@jupyter-widgets/base",
          "model_name": "LayoutModel",
          "state": {
            "_view_name": "LayoutView",
            "grid_template_rows": null,
            "right": null,
            "justify_content": null,
            "_view_module": "@jupyter-widgets/base",
            "overflow": null,
            "_model_module_version": "1.2.0",
            "_view_count": null,
            "flex_flow": null,
            "width": null,
            "min_width": null,
            "border": null,
            "align_items": null,
            "bottom": null,
            "_model_module": "@jupyter-widgets/base",
            "top": null,
            "grid_column": null,
            "overflow_y": null,
            "overflow_x": null,
            "grid_auto_flow": null,
            "grid_area": null,
            "grid_template_columns": null,
            "flex": null,
            "_model_name": "LayoutModel",
            "justify_items": null,
            "grid_row": null,
            "max_height": null,
            "align_content": null,
            "visibility": null,
            "align_self": null,
            "height": null,
            "min_height": null,
            "padding": null,
            "grid_auto_rows": null,
            "grid_gap": null,
            "max_width": null,
            "order": null,
            "_view_module_version": "1.2.0",
            "grid_template_areas": null,
            "object_position": null,
            "object_fit": null,
            "grid_auto_columns": null,
            "margin": null,
            "display": null,
            "left": null
          }
        },
        "1b6fbad0dbbb4dde911b4e111e95b1a6": {
          "model_module": "@jupyter-widgets/controls",
          "model_name": "HBoxModel",
          "state": {
            "_view_name": "HBoxView",
            "_dom_classes": [],
            "_model_name": "HBoxModel",
            "_view_module": "@jupyter-widgets/controls",
            "_model_module_version": "1.5.0",
            "_view_count": null,
            "_view_module_version": "1.5.0",
            "box_style": "",
            "layout": "IPY_MODEL_faf3b9a098f746459fd230c766f2f3ca",
            "_model_module": "@jupyter-widgets/controls",
            "children": [
              "IPY_MODEL_f631f1e831904f4da678369fcb0ca8ae",
              "IPY_MODEL_c7dbe30cb31f42328d7c55d0142d7ea1"
            ]
          }
        },
        "faf3b9a098f746459fd230c766f2f3ca": {
          "model_module": "@jupyter-widgets/base",
          "model_name": "LayoutModel",
          "state": {
            "_view_name": "LayoutView",
            "grid_template_rows": null,
            "right": null,
            "justify_content": null,
            "_view_module": "@jupyter-widgets/base",
            "overflow": null,
            "_model_module_version": "1.2.0",
            "_view_count": null,
            "flex_flow": null,
            "width": null,
            "min_width": null,
            "border": null,
            "align_items": null,
            "bottom": null,
            "_model_module": "@jupyter-widgets/base",
            "top": null,
            "grid_column": null,
            "overflow_y": null,
            "overflow_x": null,
            "grid_auto_flow": null,
            "grid_area": null,
            "grid_template_columns": null,
            "flex": null,
            "_model_name": "LayoutModel",
            "justify_items": null,
            "grid_row": null,
            "max_height": null,
            "align_content": null,
            "visibility": null,
            "align_self": null,
            "height": null,
            "min_height": null,
            "padding": null,
            "grid_auto_rows": null,
            "grid_gap": null,
            "max_width": null,
            "order": null,
            "_view_module_version": "1.2.0",
            "grid_template_areas": null,
            "object_position": null,
            "object_fit": null,
            "grid_auto_columns": null,
            "margin": null,
            "display": null,
            "left": null
          }
        },
        "f631f1e831904f4da678369fcb0ca8ae": {
          "model_module": "@jupyter-widgets/controls",
          "model_name": "FloatProgressModel",
          "state": {
            "_view_name": "ProgressView",
            "style": "IPY_MODEL_0cd335621cb94ca9a46f629f1846636d",
            "_dom_classes": [],
            "description": "100%",
            "_model_name": "FloatProgressModel",
            "bar_style": "",
            "max": 20,
            "_view_module": "@jupyter-widgets/controls",
            "_model_module_version": "1.5.0",
            "value": 20,
            "_view_count": null,
            "_view_module_version": "1.5.0",
            "orientation": "horizontal",
            "min": 0,
            "description_tooltip": null,
            "_model_module": "@jupyter-widgets/controls",
            "layout": "IPY_MODEL_48b6a44070724870bf3d38124b61e4f0"
          }
        },
        "c7dbe30cb31f42328d7c55d0142d7ea1": {
          "model_module": "@jupyter-widgets/controls",
          "model_name": "HTMLModel",
          "state": {
            "_view_name": "HTMLView",
            "style": "IPY_MODEL_cf31b6f4733c42c2bc3cc02c6636a13e",
            "_dom_classes": [],
            "description": "",
            "_model_name": "HTMLModel",
            "placeholder": "​",
            "_view_module": "@jupyter-widgets/controls",
            "_model_module_version": "1.5.0",
            "value": " 20/20 [06:01&lt;00:00, 17.96s/it]",
            "_view_count": null,
            "_view_module_version": "1.5.0",
            "description_tooltip": null,
            "_model_module": "@jupyter-widgets/controls",
            "layout": "IPY_MODEL_f08ecf772dc34c259e916fb88a271945"
          }
        },
        "0cd335621cb94ca9a46f629f1846636d": {
          "model_module": "@jupyter-widgets/controls",
          "model_name": "ProgressStyleModel",
          "state": {
            "_view_name": "StyleView",
            "_model_name": "ProgressStyleModel",
            "description_width": "initial",
            "_view_module": "@jupyter-widgets/base",
            "_model_module_version": "1.5.0",
            "_view_count": null,
            "_view_module_version": "1.2.0",
            "bar_color": null,
            "_model_module": "@jupyter-widgets/controls"
          }
        },
        "48b6a44070724870bf3d38124b61e4f0": {
          "model_module": "@jupyter-widgets/base",
          "model_name": "LayoutModel",
          "state": {
            "_view_name": "LayoutView",
            "grid_template_rows": null,
            "right": null,
            "justify_content": null,
            "_view_module": "@jupyter-widgets/base",
            "overflow": null,
            "_model_module_version": "1.2.0",
            "_view_count": null,
            "flex_flow": null,
            "width": null,
            "min_width": null,
            "border": null,
            "align_items": null,
            "bottom": null,
            "_model_module": "@jupyter-widgets/base",
            "top": null,
            "grid_column": null,
            "overflow_y": null,
            "overflow_x": null,
            "grid_auto_flow": null,
            "grid_area": null,
            "grid_template_columns": null,
            "flex": null,
            "_model_name": "LayoutModel",
            "justify_items": null,
            "grid_row": null,
            "max_height": null,
            "align_content": null,
            "visibility": null,
            "align_self": null,
            "height": null,
            "min_height": null,
            "padding": null,
            "grid_auto_rows": null,
            "grid_gap": null,
            "max_width": null,
            "order": null,
            "_view_module_version": "1.2.0",
            "grid_template_areas": null,
            "object_position": null,
            "object_fit": null,
            "grid_auto_columns": null,
            "margin": null,
            "display": null,
            "left": null
          }
        },
        "cf31b6f4733c42c2bc3cc02c6636a13e": {
          "model_module": "@jupyter-widgets/controls",
          "model_name": "DescriptionStyleModel",
          "state": {
            "_view_name": "StyleView",
            "_model_name": "DescriptionStyleModel",
            "description_width": "",
            "_view_module": "@jupyter-widgets/base",
            "_model_module_version": "1.5.0",
            "_view_count": null,
            "_view_module_version": "1.2.0",
            "_model_module": "@jupyter-widgets/controls"
          }
        },
        "f08ecf772dc34c259e916fb88a271945": {
          "model_module": "@jupyter-widgets/base",
          "model_name": "LayoutModel",
          "state": {
            "_view_name": "LayoutView",
            "grid_template_rows": null,
            "right": null,
            "justify_content": null,
            "_view_module": "@jupyter-widgets/base",
            "overflow": null,
            "_model_module_version": "1.2.0",
            "_view_count": null,
            "flex_flow": null,
            "width": null,
            "min_width": null,
            "border": null,
            "align_items": null,
            "bottom": null,
            "_model_module": "@jupyter-widgets/base",
            "top": null,
            "grid_column": null,
            "overflow_y": null,
            "overflow_x": null,
            "grid_auto_flow": null,
            "grid_area": null,
            "grid_template_columns": null,
            "flex": null,
            "_model_name": "LayoutModel",
            "justify_items": null,
            "grid_row": null,
            "max_height": null,
            "align_content": null,
            "visibility": null,
            "align_self": null,
            "height": null,
            "min_height": null,
            "padding": null,
            "grid_auto_rows": null,
            "grid_gap": null,
            "max_width": null,
            "order": null,
            "_view_module_version": "1.2.0",
            "grid_template_areas": null,
            "object_position": null,
            "object_fit": null,
            "grid_auto_columns": null,
            "margin": null,
            "display": null,
            "left": null
          }
        },
        "2707bb3ba211427680ba9e986631b708": {
          "model_module": "@jupyter-widgets/controls",
          "model_name": "HBoxModel",
          "state": {
            "_view_name": "HBoxView",
            "_dom_classes": [],
            "_model_name": "HBoxModel",
            "_view_module": "@jupyter-widgets/controls",
            "_model_module_version": "1.5.0",
            "_view_count": null,
            "_view_module_version": "1.5.0",
            "box_style": "",
            "layout": "IPY_MODEL_c33f886fb4ae4600a56f15e5760c5562",
            "_model_module": "@jupyter-widgets/controls",
            "children": [
              "IPY_MODEL_6c07e9e193bf4511bed78e72ad594328",
              "IPY_MODEL_f23bee9c15bb46058552aefd906361ff"
            ]
          }
        },
        "c33f886fb4ae4600a56f15e5760c5562": {
          "model_module": "@jupyter-widgets/base",
          "model_name": "LayoutModel",
          "state": {
            "_view_name": "LayoutView",
            "grid_template_rows": null,
            "right": null,
            "justify_content": null,
            "_view_module": "@jupyter-widgets/base",
            "overflow": null,
            "_model_module_version": "1.2.0",
            "_view_count": null,
            "flex_flow": null,
            "width": null,
            "min_width": null,
            "border": null,
            "align_items": null,
            "bottom": null,
            "_model_module": "@jupyter-widgets/base",
            "top": null,
            "grid_column": null,
            "overflow_y": null,
            "overflow_x": null,
            "grid_auto_flow": null,
            "grid_area": null,
            "grid_template_columns": null,
            "flex": null,
            "_model_name": "LayoutModel",
            "justify_items": null,
            "grid_row": null,
            "max_height": null,
            "align_content": null,
            "visibility": null,
            "align_self": null,
            "height": null,
            "min_height": null,
            "padding": null,
            "grid_auto_rows": null,
            "grid_gap": null,
            "max_width": null,
            "order": null,
            "_view_module_version": "1.2.0",
            "grid_template_areas": null,
            "object_position": null,
            "object_fit": null,
            "grid_auto_columns": null,
            "margin": null,
            "display": null,
            "left": null
          }
        },
        "6c07e9e193bf4511bed78e72ad594328": {
          "model_module": "@jupyter-widgets/controls",
          "model_name": "FloatProgressModel",
          "state": {
            "_view_name": "ProgressView",
            "style": "IPY_MODEL_15e84e1ed83949d2916cb153cda31397",
            "_dom_classes": [],
            "description": "100%",
            "_model_name": "FloatProgressModel",
            "bar_style": "",
            "max": 20,
            "_view_module": "@jupyter-widgets/controls",
            "_model_module_version": "1.5.0",
            "value": 20,
            "_view_count": null,
            "_view_module_version": "1.5.0",
            "orientation": "horizontal",
            "min": 0,
            "description_tooltip": null,
            "_model_module": "@jupyter-widgets/controls",
            "layout": "IPY_MODEL_239125e51e6a4c37afce369a6b344bfa"
          }
        },
        "f23bee9c15bb46058552aefd906361ff": {
          "model_module": "@jupyter-widgets/controls",
          "model_name": "HTMLModel",
          "state": {
            "_view_name": "HTMLView",
            "style": "IPY_MODEL_7d6c0eca54cb4277a59cfc65df4c1902",
            "_dom_classes": [],
            "description": "",
            "_model_name": "HTMLModel",
            "placeholder": "​",
            "_view_module": "@jupyter-widgets/controls",
            "_model_module_version": "1.5.0",
            "value": " 20/20 [05:56&lt;00:00, 18.13s/it]",
            "_view_count": null,
            "_view_module_version": "1.5.0",
            "description_tooltip": null,
            "_model_module": "@jupyter-widgets/controls",
            "layout": "IPY_MODEL_6da03955a6b042df97f717d14d956ffc"
          }
        },
        "15e84e1ed83949d2916cb153cda31397": {
          "model_module": "@jupyter-widgets/controls",
          "model_name": "ProgressStyleModel",
          "state": {
            "_view_name": "StyleView",
            "_model_name": "ProgressStyleModel",
            "description_width": "initial",
            "_view_module": "@jupyter-widgets/base",
            "_model_module_version": "1.5.0",
            "_view_count": null,
            "_view_module_version": "1.2.0",
            "bar_color": null,
            "_model_module": "@jupyter-widgets/controls"
          }
        },
        "239125e51e6a4c37afce369a6b344bfa": {
          "model_module": "@jupyter-widgets/base",
          "model_name": "LayoutModel",
          "state": {
            "_view_name": "LayoutView",
            "grid_template_rows": null,
            "right": null,
            "justify_content": null,
            "_view_module": "@jupyter-widgets/base",
            "overflow": null,
            "_model_module_version": "1.2.0",
            "_view_count": null,
            "flex_flow": null,
            "width": null,
            "min_width": null,
            "border": null,
            "align_items": null,
            "bottom": null,
            "_model_module": "@jupyter-widgets/base",
            "top": null,
            "grid_column": null,
            "overflow_y": null,
            "overflow_x": null,
            "grid_auto_flow": null,
            "grid_area": null,
            "grid_template_columns": null,
            "flex": null,
            "_model_name": "LayoutModel",
            "justify_items": null,
            "grid_row": null,
            "max_height": null,
            "align_content": null,
            "visibility": null,
            "align_self": null,
            "height": null,
            "min_height": null,
            "padding": null,
            "grid_auto_rows": null,
            "grid_gap": null,
            "max_width": null,
            "order": null,
            "_view_module_version": "1.2.0",
            "grid_template_areas": null,
            "object_position": null,
            "object_fit": null,
            "grid_auto_columns": null,
            "margin": null,
            "display": null,
            "left": null
          }
        },
        "7d6c0eca54cb4277a59cfc65df4c1902": {
          "model_module": "@jupyter-widgets/controls",
          "model_name": "DescriptionStyleModel",
          "state": {
            "_view_name": "StyleView",
            "_model_name": "DescriptionStyleModel",
            "description_width": "",
            "_view_module": "@jupyter-widgets/base",
            "_model_module_version": "1.5.0",
            "_view_count": null,
            "_view_module_version": "1.2.0",
            "_model_module": "@jupyter-widgets/controls"
          }
        },
        "6da03955a6b042df97f717d14d956ffc": {
          "model_module": "@jupyter-widgets/base",
          "model_name": "LayoutModel",
          "state": {
            "_view_name": "LayoutView",
            "grid_template_rows": null,
            "right": null,
            "justify_content": null,
            "_view_module": "@jupyter-widgets/base",
            "overflow": null,
            "_model_module_version": "1.2.0",
            "_view_count": null,
            "flex_flow": null,
            "width": null,
            "min_width": null,
            "border": null,
            "align_items": null,
            "bottom": null,
            "_model_module": "@jupyter-widgets/base",
            "top": null,
            "grid_column": null,
            "overflow_y": null,
            "overflow_x": null,
            "grid_auto_flow": null,
            "grid_area": null,
            "grid_template_columns": null,
            "flex": null,
            "_model_name": "LayoutModel",
            "justify_items": null,
            "grid_row": null,
            "max_height": null,
            "align_content": null,
            "visibility": null,
            "align_self": null,
            "height": null,
            "min_height": null,
            "padding": null,
            "grid_auto_rows": null,
            "grid_gap": null,
            "max_width": null,
            "order": null,
            "_view_module_version": "1.2.0",
            "grid_template_areas": null,
            "object_position": null,
            "object_fit": null,
            "grid_auto_columns": null,
            "margin": null,
            "display": null,
            "left": null
          }
        },
        "1b5685aa00f04b8783dbcfa4516fcc5f": {
          "model_module": "@jupyter-widgets/controls",
          "model_name": "HBoxModel",
          "state": {
            "_view_name": "HBoxView",
            "_dom_classes": [],
            "_model_name": "HBoxModel",
            "_view_module": "@jupyter-widgets/controls",
            "_model_module_version": "1.5.0",
            "_view_count": null,
            "_view_module_version": "1.5.0",
            "box_style": "",
            "layout": "IPY_MODEL_5cc511cd3f724c7ca2d4042ebc84f6f8",
            "_model_module": "@jupyter-widgets/controls",
            "children": [
              "IPY_MODEL_43560fffcc9e41c191d8c42e7145b2f8",
              "IPY_MODEL_0274914d4b0d47a38c92e7829de3a890"
            ]
          }
        },
        "5cc511cd3f724c7ca2d4042ebc84f6f8": {
          "model_module": "@jupyter-widgets/base",
          "model_name": "LayoutModel",
          "state": {
            "_view_name": "LayoutView",
            "grid_template_rows": null,
            "right": null,
            "justify_content": null,
            "_view_module": "@jupyter-widgets/base",
            "overflow": null,
            "_model_module_version": "1.2.0",
            "_view_count": null,
            "flex_flow": null,
            "width": null,
            "min_width": null,
            "border": null,
            "align_items": null,
            "bottom": null,
            "_model_module": "@jupyter-widgets/base",
            "top": null,
            "grid_column": null,
            "overflow_y": null,
            "overflow_x": null,
            "grid_auto_flow": null,
            "grid_area": null,
            "grid_template_columns": null,
            "flex": null,
            "_model_name": "LayoutModel",
            "justify_items": null,
            "grid_row": null,
            "max_height": null,
            "align_content": null,
            "visibility": null,
            "align_self": null,
            "height": null,
            "min_height": null,
            "padding": null,
            "grid_auto_rows": null,
            "grid_gap": null,
            "max_width": null,
            "order": null,
            "_view_module_version": "1.2.0",
            "grid_template_areas": null,
            "object_position": null,
            "object_fit": null,
            "grid_auto_columns": null,
            "margin": null,
            "display": null,
            "left": null
          }
        },
        "43560fffcc9e41c191d8c42e7145b2f8": {
          "model_module": "@jupyter-widgets/controls",
          "model_name": "FloatProgressModel",
          "state": {
            "_view_name": "ProgressView",
            "style": "IPY_MODEL_0fd6ee5203c84b09b8d03a4328ad6704",
            "_dom_classes": [],
            "description": "100%",
            "_model_name": "FloatProgressModel",
            "bar_style": "",
            "max": 20,
            "_view_module": "@jupyter-widgets/controls",
            "_model_module_version": "1.5.0",
            "value": 20,
            "_view_count": null,
            "_view_module_version": "1.5.0",
            "orientation": "horizontal",
            "min": 0,
            "description_tooltip": null,
            "_model_module": "@jupyter-widgets/controls",
            "layout": "IPY_MODEL_ebe2f64ca4654b51937617c7fa22d69d"
          }
        },
        "0274914d4b0d47a38c92e7829de3a890": {
          "model_module": "@jupyter-widgets/controls",
          "model_name": "HTMLModel",
          "state": {
            "_view_name": "HTMLView",
            "style": "IPY_MODEL_8cf47b61b5e74e45bf0ea51b68d16e7a",
            "_dom_classes": [],
            "description": "",
            "_model_name": "HTMLModel",
            "placeholder": "​",
            "_view_module": "@jupyter-widgets/controls",
            "_model_module_version": "1.5.0",
            "value": " 20/20 [05:51&lt;00:00, 17.76s/it]",
            "_view_count": null,
            "_view_module_version": "1.5.0",
            "description_tooltip": null,
            "_model_module": "@jupyter-widgets/controls",
            "layout": "IPY_MODEL_f534461d14ed4a9eb205915a2cacbf14"
          }
        },
        "0fd6ee5203c84b09b8d03a4328ad6704": {
          "model_module": "@jupyter-widgets/controls",
          "model_name": "ProgressStyleModel",
          "state": {
            "_view_name": "StyleView",
            "_model_name": "ProgressStyleModel",
            "description_width": "initial",
            "_view_module": "@jupyter-widgets/base",
            "_model_module_version": "1.5.0",
            "_view_count": null,
            "_view_module_version": "1.2.0",
            "bar_color": null,
            "_model_module": "@jupyter-widgets/controls"
          }
        },
        "ebe2f64ca4654b51937617c7fa22d69d": {
          "model_module": "@jupyter-widgets/base",
          "model_name": "LayoutModel",
          "state": {
            "_view_name": "LayoutView",
            "grid_template_rows": null,
            "right": null,
            "justify_content": null,
            "_view_module": "@jupyter-widgets/base",
            "overflow": null,
            "_model_module_version": "1.2.0",
            "_view_count": null,
            "flex_flow": null,
            "width": null,
            "min_width": null,
            "border": null,
            "align_items": null,
            "bottom": null,
            "_model_module": "@jupyter-widgets/base",
            "top": null,
            "grid_column": null,
            "overflow_y": null,
            "overflow_x": null,
            "grid_auto_flow": null,
            "grid_area": null,
            "grid_template_columns": null,
            "flex": null,
            "_model_name": "LayoutModel",
            "justify_items": null,
            "grid_row": null,
            "max_height": null,
            "align_content": null,
            "visibility": null,
            "align_self": null,
            "height": null,
            "min_height": null,
            "padding": null,
            "grid_auto_rows": null,
            "grid_gap": null,
            "max_width": null,
            "order": null,
            "_view_module_version": "1.2.0",
            "grid_template_areas": null,
            "object_position": null,
            "object_fit": null,
            "grid_auto_columns": null,
            "margin": null,
            "display": null,
            "left": null
          }
        },
        "8cf47b61b5e74e45bf0ea51b68d16e7a": {
          "model_module": "@jupyter-widgets/controls",
          "model_name": "DescriptionStyleModel",
          "state": {
            "_view_name": "StyleView",
            "_model_name": "DescriptionStyleModel",
            "description_width": "",
            "_view_module": "@jupyter-widgets/base",
            "_model_module_version": "1.5.0",
            "_view_count": null,
            "_view_module_version": "1.2.0",
            "_model_module": "@jupyter-widgets/controls"
          }
        },
        "f534461d14ed4a9eb205915a2cacbf14": {
          "model_module": "@jupyter-widgets/base",
          "model_name": "LayoutModel",
          "state": {
            "_view_name": "LayoutView",
            "grid_template_rows": null,
            "right": null,
            "justify_content": null,
            "_view_module": "@jupyter-widgets/base",
            "overflow": null,
            "_model_module_version": "1.2.0",
            "_view_count": null,
            "flex_flow": null,
            "width": null,
            "min_width": null,
            "border": null,
            "align_items": null,
            "bottom": null,
            "_model_module": "@jupyter-widgets/base",
            "top": null,
            "grid_column": null,
            "overflow_y": null,
            "overflow_x": null,
            "grid_auto_flow": null,
            "grid_area": null,
            "grid_template_columns": null,
            "flex": null,
            "_model_name": "LayoutModel",
            "justify_items": null,
            "grid_row": null,
            "max_height": null,
            "align_content": null,
            "visibility": null,
            "align_self": null,
            "height": null,
            "min_height": null,
            "padding": null,
            "grid_auto_rows": null,
            "grid_gap": null,
            "max_width": null,
            "order": null,
            "_view_module_version": "1.2.0",
            "grid_template_areas": null,
            "object_position": null,
            "object_fit": null,
            "grid_auto_columns": null,
            "margin": null,
            "display": null,
            "left": null
          }
        },
        "4fb08f5d95bc40bbac9cb35c1db688d2": {
          "model_module": "@jupyter-widgets/controls",
          "model_name": "HBoxModel",
          "state": {
            "_view_name": "HBoxView",
            "_dom_classes": [],
            "_model_name": "HBoxModel",
            "_view_module": "@jupyter-widgets/controls",
            "_model_module_version": "1.5.0",
            "_view_count": null,
            "_view_module_version": "1.5.0",
            "box_style": "",
            "layout": "IPY_MODEL_460795505c064d91b82824326c91019d",
            "_model_module": "@jupyter-widgets/controls",
            "children": [
              "IPY_MODEL_cc6efc4980694e6dba97a9d16cfc84c5",
              "IPY_MODEL_58526f3ba3c44883b4368036c4841e9d"
            ]
          }
        },
        "460795505c064d91b82824326c91019d": {
          "model_module": "@jupyter-widgets/base",
          "model_name": "LayoutModel",
          "state": {
            "_view_name": "LayoutView",
            "grid_template_rows": null,
            "right": null,
            "justify_content": null,
            "_view_module": "@jupyter-widgets/base",
            "overflow": null,
            "_model_module_version": "1.2.0",
            "_view_count": null,
            "flex_flow": null,
            "width": null,
            "min_width": null,
            "border": null,
            "align_items": null,
            "bottom": null,
            "_model_module": "@jupyter-widgets/base",
            "top": null,
            "grid_column": null,
            "overflow_y": null,
            "overflow_x": null,
            "grid_auto_flow": null,
            "grid_area": null,
            "grid_template_columns": null,
            "flex": null,
            "_model_name": "LayoutModel",
            "justify_items": null,
            "grid_row": null,
            "max_height": null,
            "align_content": null,
            "visibility": null,
            "align_self": null,
            "height": null,
            "min_height": null,
            "padding": null,
            "grid_auto_rows": null,
            "grid_gap": null,
            "max_width": null,
            "order": null,
            "_view_module_version": "1.2.0",
            "grid_template_areas": null,
            "object_position": null,
            "object_fit": null,
            "grid_auto_columns": null,
            "margin": null,
            "display": null,
            "left": null
          }
        },
        "cc6efc4980694e6dba97a9d16cfc84c5": {
          "model_module": "@jupyter-widgets/controls",
          "model_name": "FloatProgressModel",
          "state": {
            "_view_name": "ProgressView",
            "style": "IPY_MODEL_01f0b2e19e204c52a1d8da6d7f1159e0",
            "_dom_classes": [],
            "description": "100%",
            "_model_name": "FloatProgressModel",
            "bar_style": "",
            "max": 20,
            "_view_module": "@jupyter-widgets/controls",
            "_model_module_version": "1.5.0",
            "value": 20,
            "_view_count": null,
            "_view_module_version": "1.5.0",
            "orientation": "horizontal",
            "min": 0,
            "description_tooltip": null,
            "_model_module": "@jupyter-widgets/controls",
            "layout": "IPY_MODEL_edd6a8466fe848dca091623836e07b2c"
          }
        },
        "58526f3ba3c44883b4368036c4841e9d": {
          "model_module": "@jupyter-widgets/controls",
          "model_name": "HTMLModel",
          "state": {
            "_view_name": "HTMLView",
            "style": "IPY_MODEL_3717b7a80ecf4ffbbd2f9f93ba67a3df",
            "_dom_classes": [],
            "description": "",
            "_model_name": "HTMLModel",
            "placeholder": "​",
            "_view_module": "@jupyter-widgets/controls",
            "_model_module_version": "1.5.0",
            "value": " 20/20 [05:56&lt;00:00, 18.00s/it]",
            "_view_count": null,
            "_view_module_version": "1.5.0",
            "description_tooltip": null,
            "_model_module": "@jupyter-widgets/controls",
            "layout": "IPY_MODEL_b7cb3cc433c64223a261d0eb7caef67f"
          }
        },
        "01f0b2e19e204c52a1d8da6d7f1159e0": {
          "model_module": "@jupyter-widgets/controls",
          "model_name": "ProgressStyleModel",
          "state": {
            "_view_name": "StyleView",
            "_model_name": "ProgressStyleModel",
            "description_width": "initial",
            "_view_module": "@jupyter-widgets/base",
            "_model_module_version": "1.5.0",
            "_view_count": null,
            "_view_module_version": "1.2.0",
            "bar_color": null,
            "_model_module": "@jupyter-widgets/controls"
          }
        },
        "edd6a8466fe848dca091623836e07b2c": {
          "model_module": "@jupyter-widgets/base",
          "model_name": "LayoutModel",
          "state": {
            "_view_name": "LayoutView",
            "grid_template_rows": null,
            "right": null,
            "justify_content": null,
            "_view_module": "@jupyter-widgets/base",
            "overflow": null,
            "_model_module_version": "1.2.0",
            "_view_count": null,
            "flex_flow": null,
            "width": null,
            "min_width": null,
            "border": null,
            "align_items": null,
            "bottom": null,
            "_model_module": "@jupyter-widgets/base",
            "top": null,
            "grid_column": null,
            "overflow_y": null,
            "overflow_x": null,
            "grid_auto_flow": null,
            "grid_area": null,
            "grid_template_columns": null,
            "flex": null,
            "_model_name": "LayoutModel",
            "justify_items": null,
            "grid_row": null,
            "max_height": null,
            "align_content": null,
            "visibility": null,
            "align_self": null,
            "height": null,
            "min_height": null,
            "padding": null,
            "grid_auto_rows": null,
            "grid_gap": null,
            "max_width": null,
            "order": null,
            "_view_module_version": "1.2.0",
            "grid_template_areas": null,
            "object_position": null,
            "object_fit": null,
            "grid_auto_columns": null,
            "margin": null,
            "display": null,
            "left": null
          }
        },
        "3717b7a80ecf4ffbbd2f9f93ba67a3df": {
          "model_module": "@jupyter-widgets/controls",
          "model_name": "DescriptionStyleModel",
          "state": {
            "_view_name": "StyleView",
            "_model_name": "DescriptionStyleModel",
            "description_width": "",
            "_view_module": "@jupyter-widgets/base",
            "_model_module_version": "1.5.0",
            "_view_count": null,
            "_view_module_version": "1.2.0",
            "_model_module": "@jupyter-widgets/controls"
          }
        },
        "b7cb3cc433c64223a261d0eb7caef67f": {
          "model_module": "@jupyter-widgets/base",
          "model_name": "LayoutModel",
          "state": {
            "_view_name": "LayoutView",
            "grid_template_rows": null,
            "right": null,
            "justify_content": null,
            "_view_module": "@jupyter-widgets/base",
            "overflow": null,
            "_model_module_version": "1.2.0",
            "_view_count": null,
            "flex_flow": null,
            "width": null,
            "min_width": null,
            "border": null,
            "align_items": null,
            "bottom": null,
            "_model_module": "@jupyter-widgets/base",
            "top": null,
            "grid_column": null,
            "overflow_y": null,
            "overflow_x": null,
            "grid_auto_flow": null,
            "grid_area": null,
            "grid_template_columns": null,
            "flex": null,
            "_model_name": "LayoutModel",
            "justify_items": null,
            "grid_row": null,
            "max_height": null,
            "align_content": null,
            "visibility": null,
            "align_self": null,
            "height": null,
            "min_height": null,
            "padding": null,
            "grid_auto_rows": null,
            "grid_gap": null,
            "max_width": null,
            "order": null,
            "_view_module_version": "1.2.0",
            "grid_template_areas": null,
            "object_position": null,
            "object_fit": null,
            "grid_auto_columns": null,
            "margin": null,
            "display": null,
            "left": null
          }
        }
      }
    }
  },
  "cells": [
    {
      "cell_type": "markdown",
      "metadata": {
        "id": "DUqI_kTkjDFt"
      },
      "source": [
        "# Not What It Seems: <br/>Imperceptible Attacks on NLP Models\n",
        "\n",
        "See related paper for details."
      ]
    },
    {
      "cell_type": "markdown",
      "metadata": {
        "id": "C0dSKq7Kjcu0"
      },
      "source": [
        "## Setup\n",
        "Install dependencies and load pre-treained models."
      ]
    },
    {
      "cell_type": "code",
      "metadata": {
        "id": "hYqh03EoGQRi"
      },
      "source": [
        "# Install dependencies\n",
        "!pip install fairseq\n",
        "!pip install sacremoses\n",
        "!pip install fastBPE\n",
        "!pip install subword_nmt\n",
        "!pip install textdistance[extras]\n",
        "!pip install scipy\n",
        "!pip install requests"
      ],
      "execution_count": null,
      "outputs": []
    },
    {
      "cell_type": "code",
      "metadata": {
        "id": "viWWjUc-HGoQ"
      },
      "source": [
        "# Load pre-trained translation model\n",
        "import torch\n",
        "en2fr = torch.hub.load('pytorch/fairseq',\n",
        "                       'transformer.wmt14.en-fr',\n",
        "                       tokenizer='moses',\n",
        "                       bpe='subword_nmt').cuda()"
      ],
      "execution_count": null,
      "outputs": []
    },
    {
      "cell_type": "markdown",
      "metadata": {
        "id": "nYQox9UdXuhk"
      },
      "source": [
        "## Unknown Characters\n",
        "\n",
        "Unusual characters, such as zero-width spaces and control sequences, are simply encoded as the `<unk>` character by the FairSeq implementation. This likely generalizes to many other NLP models."
      ]
    },
    {
      "cell_type": "code",
      "metadata": {
        "id": "WEeuVyV3Gl9H"
      },
      "source": [
        "# Define function for decoding from the source dictionary\n",
        "def src_decode(sentence):\n",
        "  res = []\n",
        "  for idx in sentence:\n",
        "    res.append(en2fr.src_dict.symbols[idx])\n",
        "  return ' '.join(res)"
      ],
      "execution_count": null,
      "outputs": []
    },
    {
      "cell_type": "code",
      "metadata": {
        "id": "8o7lIzgpKgrp"
      },
      "source": [
        "# Define some test encodings\n",
        "sentence = \"This is a test.\"\n",
        "psentence = f\"This {chr(0x2063)}is a test.\"\n",
        "inputv = en2fr.encode(sentence)\n",
        "outputv = en2fr.generate(inputv)[0]['tokens']\n",
        "pinputv = en2fr.encode(psentence)\n",
        "poutputv = en2fr.generate(pinputv)[0]['tokens']"
      ],
      "execution_count": null,
      "outputs": []
    },
    {
      "cell_type": "code",
      "metadata": {
        "colab": {
          "base_uri": "https://localhost:8080/",
          "height": 35
        },
        "id": "Ue7r5SXOxeJC",
        "outputId": "2725842b-d4f1-406c-e37b-9c40376e63ff"
      },
      "source": [
        "# Proof that it the encoder just treats invisible chars as an unknown token.\n",
        "src_decode(pinputv)"
      ],
      "execution_count": 56,
      "outputs": [
        {
          "output_type": "execute_result",
          "data": {
            "application/vnd.google.colaboratory.intrinsic+json": {
              "type": "string"
            },
            "text/plain": [
              "'This <unk> is a test . </s>'"
            ]
          },
          "metadata": {
            "tags": []
          },
          "execution_count": 56
        }
      ]
    },
    {
      "cell_type": "markdown",
      "metadata": {
        "id": "UiqHqng-jFTp"
      },
      "source": [
        "## Invisible Characters\n",
        "\n",
        "Certian Unicode chacacters are almost never visually rendered by design. Conveniently, they can be embedded within strings and copied + pasted on most systems. Most NLP models are not trained against these characters, making them  not present in source language dictionaries. Thus, they typically result in an `<unk>` embedded vector."
      ]
    },
    {
      "cell_type": "code",
      "metadata": {
        "colab": {
          "base_uri": "https://localhost:8080/"
        },
        "id": "NgnxrZhEj-bj",
        "outputId": "9475e252-fda3-4639-8d6b-efe1730b49e1"
      },
      "source": [
        "# Zero width space\n",
        "ZWSP = chr(0x200B)\n",
        "# Zero width joiner\n",
        "ZWJ = chr(0x200D)\n",
        "\n",
        "print(f\"{ZWSP}{ZWJ}\")"
      ],
      "execution_count": null,
      "outputs": [
        {
          "output_type": "stream",
          "text": [
            "​‍\n"
          ],
          "name": "stdout"
        }
      ]
    },
    {
      "cell_type": "code",
      "metadata": {
        "colab": {
          "base_uri": "https://localhost:8080/"
        },
        "id": "KVOpJWHkkaSw",
        "outputId": "bd8a5048-6f63-47ef-8ab9-6dd389764996"
      },
      "source": [
        "print(f\"This string contains {ZWSP*500}1000{ZWJ*500} invisible characters.\")"
      ],
      "execution_count": null,
      "outputs": [
        {
          "output_type": "stream",
          "text": [
            "This string contains ​​​​​​​​​​​​​​​​​​​​​​​​​​​​​​​​​​​​​​​​​​​​​​​​​​​​​​​​​​​​​​​​​​​​​​​​​​​​​​​​​​​​​​​​​​​​​​​​​​​​​​​​​​​​​​​​​​​​​​​​​​​​​​​​​​​​​​​​​​​​​​​​​​​​​​​​​​​​​​​​​​​​​​​​​​​​​​​​​​​​​​​​​​​​​​​​​​​​​​​​​​​​​​​​​​​​​​​​​​​​​​​​​​​​​​​​​​​​​​​​​​​​​​​​​​​​​​​​​​​​​​​​​​​​​​​​​​​​​​​​​​​​​​​​​​​​​​​​​​​​​​​​​​​​​​​​​​​​​​​​​​​​​​​​​​​​​​​​​​​​​​​​​​​​​​​​​​​​​​​​​​​​​​​​​​​​​​​​​​​​​​​​​​​​​​​​​​​​​​​​​​​​​​​​​​​​​​​​​​​​​​​​​​​​​​​​​​​​​​​​​​​​​​​​​​​​​​​​​​​​​​​​​​​​​​​​​​​​​​​​​​​​​​​​​​​​​​​​​​​​1000‍‍‍‍‍‍‍‍‍‍‍‍‍‍‍‍‍‍‍‍‍‍‍‍‍‍‍‍‍‍‍‍‍‍‍‍‍‍‍‍‍‍‍‍‍‍‍‍‍‍‍‍‍‍‍‍‍‍‍‍‍‍‍‍‍‍‍‍‍‍‍‍‍‍‍‍‍‍‍‍‍‍‍‍‍‍‍‍‍‍‍‍‍‍‍‍‍‍‍‍‍‍‍‍‍‍‍‍‍‍‍‍‍‍‍‍‍‍‍‍‍‍‍‍‍‍‍‍‍‍‍‍‍‍‍‍‍‍‍‍‍‍‍‍‍‍‍‍‍‍‍‍‍‍‍‍‍‍‍‍‍‍‍‍‍‍‍‍‍‍‍‍‍‍‍‍‍‍‍‍‍‍‍‍‍‍‍‍‍‍‍‍‍‍‍‍‍‍‍‍‍‍‍‍‍‍‍‍‍‍‍‍‍‍‍‍‍‍‍‍‍‍‍‍‍‍‍‍‍‍‍‍‍‍‍‍‍‍‍‍‍‍‍‍‍‍‍‍‍‍‍‍‍‍‍‍‍‍‍‍‍‍‍‍‍‍‍‍‍‍‍‍‍‍‍‍‍‍‍‍‍‍‍‍‍‍‍‍‍‍‍‍‍‍‍‍‍‍‍‍‍‍‍‍‍‍‍‍‍‍‍‍‍‍‍‍‍‍‍‍‍‍‍‍‍‍‍‍‍‍‍‍‍‍‍‍‍‍‍‍‍‍‍‍‍‍‍‍‍‍‍‍‍‍‍‍‍‍‍‍‍‍‍‍‍‍‍‍‍‍‍‍‍‍‍‍‍‍‍‍‍‍‍‍‍‍‍‍‍‍‍‍‍‍‍‍‍‍‍‍‍‍‍‍‍‍‍‍‍‍‍‍‍‍‍‍‍‍‍‍‍‍‍‍‍‍‍‍‍‍‍‍‍‍‍‍‍‍‍‍‍‍‍‍‍‍‍‍‍‍‍‍‍‍‍‍‍‍‍‍‍‍‍‍‍‍‍‍‍‍‍‍‍‍‍‍‍‍‍‍‍‍‍‍‍‍‍‍‍‍‍‍‍‍‍‍‍‍‍‍ invisible characters.\n"
          ],
          "name": "stdout"
        }
      ]
    },
    {
      "cell_type": "markdown",
      "metadata": {
        "id": "niuB-qIcaV97"
      },
      "source": [
        "## Homoglyphs\n",
        "\n",
        "The Unicode specification defines several homoglyph documents. The following section retrieves these documents and creates mapping between homoglyph characters."
      ]
    },
    {
      "cell_type": "code",
      "metadata": {
        "id": "4f_QLoIraVM6"
      },
      "source": [
        "import requests\n",
        "\n",
        "confusables = dict()\n",
        "intentionals = dict()\n",
        "\n",
        "# Retrieve Unicode Confusable homoglyph characters\n",
        "conf_resp = requests.get(\"https://www.unicode.org/Public/security/latest/confusables.txt\", stream=True)\n",
        "for line in conf_resp.iter_lines():\n",
        "  if len(line):\n",
        "    line = line.decode('utf-8-sig')\n",
        "    if line[0] != '#':\n",
        "      line = line.replace(\"#*\", \"#\")\n",
        "      _, line = line.split(\"#\", maxsplit=1)\n",
        "      if line[3] not in confusables:\n",
        "        confusables[line[3]] = []\n",
        "      confusables[line[3]].append(line[7])\n",
        "\n",
        "# Retrieve Unicode Intentional homoglyph characters\n",
        "int_resp = requests.get(\"https://www.unicode.org/Public/security/latest/intentional.txt\", stream=True)\n",
        "for line in int_resp.iter_lines():\n",
        "  if len(line):\n",
        "    line = line.decode('utf-8-sig')\n",
        "    if line[0] != '#':\n",
        "      line = line.replace(\"#*\", \"#\")\n",
        "      _, line = line.split(\"#\", maxsplit=1)\n",
        "      if line[3] not in intentionals:\n",
        "        intentionals[line[3]] = []\n",
        "      intentionals[line[3]].append(line[7])"
      ],
      "execution_count": null,
      "outputs": []
    },
    {
      "cell_type": "markdown",
      "metadata": {
        "id": "mAKEobGSg73m"
      },
      "source": [
        "## Reorderings\n",
        "\n",
        "Unicode Bidirectional (Bidi) Algorithm override characters can be used to render encodeded characters in any order. The following section defines a function which can generate 2^|n| reordered encodings of a given string of length n which are all rendered the same way in any system built on Google's Chromium.\n",
        "\n",
        "This [site](https://www.soscisurvey.de/tools/view-chars.php) can be used to visualize the underlying encoding of the text."
      ]
    },
    {
      "cell_type": "code",
      "metadata": {
        "id": "TyYumqPphwPT"
      },
      "source": [
        "# Unicode Bidi override characters\n",
        "PDF = chr(0x202C)\n",
        "LRE = chr(0x202A)\n",
        "RLE = chr(0x202B)\n",
        "LRO = chr(0x202D)\n",
        "RLO = chr(0x202E)\n",
        "\n",
        "PDI = chr(0x2069)\n",
        "LRI = chr(0x2066)\n",
        "RLI = chr(0x2067)\n",
        "\n",
        "class Swap():\n",
        "    \"\"\"Represents swapped elements in a string of text.\"\"\"\n",
        "    def __init__(self, one, two):\n",
        "        self.one = one\n",
        "        self.two = two\n",
        "    \n",
        "    def __repr__(self):\n",
        "        return f\"Swap({self.one}, {self.two})\"\n",
        "\n",
        "    def __eq__(self, other):\n",
        "        return self.one == other.one and self.two == other.two\n",
        "\n",
        "    def __hash__(self):\n",
        "        return hash((self.one, self.two))\n",
        "\n",
        "def some(*els):\n",
        "    \"\"\"Returns the arguments as a tuple with Nones removed.\"\"\"\n",
        "    return tuple(filter(None, tuple(els)))\n",
        "\n",
        "def swaps(chars: str) -> set:\n",
        "    \"\"\"Generates all possible swaps for a string.\"\"\"\n",
        "    def pairs(chars, pre=(), suf=()):\n",
        "        orders = set()\n",
        "        for i in range(len(chars)-1):\n",
        "            prefix = pre + tuple(chars[:i])\n",
        "            suffix = suf + tuple(chars[i+2:])\n",
        "            swap = Swap(chars[i+1], chars[i])\n",
        "            pair = some(prefix, swap, suffix)\n",
        "            orders.add(pair)\n",
        "            orders.update(pairs(suffix, pre=some(prefix, swap)))\n",
        "            orders.update(pairs(some(prefix, swap), suf=suffix))\n",
        "        return orders\n",
        "    return pairs(chars) | {tuple(chars)}\n",
        "\n",
        "def unswap(el: tuple) -> str:\n",
        "    \"\"\"Reverts a tuple of swaps to the original string.\"\"\"\n",
        "    if isinstance(el, str):\n",
        "        return el\n",
        "    elif isinstance(el, Swap):\n",
        "        return unswap((el.two, el.one))\n",
        "    else:\n",
        "        res = \"\"\n",
        "        for e in el:\n",
        "            res += unswap(e)\n",
        "        return res\n",
        "\n",
        "def uniswap(els):\n",
        "    res = \"\"\n",
        "    for el in els:\n",
        "        if isinstance(el, Swap):\n",
        "            res += uniswap([LRO, LRI, RLO, LRI, el.one, PDI, LRI, el.two, PDI, PDF, PDI, PDF])\n",
        "        elif isinstance(el, str):\n",
        "            res += el\n",
        "        else:\n",
        "            for subel in el:\n",
        "                res += uniswap([subel])\n",
        "    return res\n",
        "\n",
        "def strings_to_file(file, string):\n",
        "  with open(file, 'w') as f:\n",
        "      for swap in swaps(string):\n",
        "          uni = uniswap(swap)\n",
        "          print(uni, file=f)\n",
        "\n",
        "def print_strings(string):\n",
        "  for swap in swaps(string):\n",
        "    uni = uniswap(swap)\n",
        "    print(uni)"
      ],
      "execution_count": null,
      "outputs": []
    },
    {
      "cell_type": "code",
      "metadata": {
        "id": "9dEzI7xshzhx"
      },
      "source": [
        "# Prove number of permutations = 2^|n|-1\n",
        "string = \"A test string.\"\n",
        "assert(len(swaps(string))) == 2**(len(string)-1)"
      ],
      "execution_count": null,
      "outputs": []
    },
    {
      "cell_type": "code",
      "metadata": {
        "colab": {
          "base_uri": "https://localhost:8080/"
        },
        "id": "hycoxIAwh1zG",
        "outputId": "93e0d4ab-7615-4d2e-df4c-e8b9cb8f9647"
      },
      "source": [
        "# Print strings\n",
        "print_strings(\"Test\")"
      ],
      "execution_count": null,
      "outputs": [
        {
          "output_type": "stream",
          "text": [
            "Te‭⁦‮⁦t⁩⁦s⁩‬⁩‬\n",
            "‭⁦‮⁦e⁩⁦T⁩‬⁩‬‭⁦‮⁦t⁩⁦s⁩‬⁩‬\n",
            "‭⁦‮⁦e⁩⁦T⁩‬⁩‬st\n",
            "T‭⁦‮⁦s⁩⁦e⁩‬⁩‬t\n",
            "‭⁦‮⁦‭⁦‮⁦s⁩⁦e⁩‬⁩‬⁩⁦T⁩‬⁩‬t\n",
            "‭⁦‮⁦‭⁦‮⁦t⁩⁦s⁩‬⁩‬⁩⁦Te⁩‬⁩‬\n",
            "Test\n",
            "‭⁦‮⁦‭⁦‮⁦t⁩⁦s⁩‬⁩‬⁩⁦‭⁦‮⁦e⁩⁦T⁩‬⁩‬⁩‬⁩‬\n"
          ],
          "name": "stdout"
        }
      ]
    },
    {
      "cell_type": "code",
      "metadata": {
        "id": "PZ9IstF0h6dA"
      },
      "source": [
        "# Save strings to file\n",
        "strings_to_file('reordering_example.txt', \"This is a test.\")"
      ],
      "execution_count": null,
      "outputs": []
    },
    {
      "cell_type": "markdown",
      "metadata": {
        "id": "2T8jtEdBkzTn"
      },
      "source": [
        "## Deletions\n",
        "\n",
        "Unicode control characters used for deleting text can be encoded into strings. Upon rendering, these control characters are actioned and the appropriate surrounding text is not rendered. Yet, NLP models generally still \"see\" the surrounding text."
      ]
    },
    {
      "cell_type": "code",
      "metadata": {
        "colab": {
          "base_uri": "https://localhost:8080/"
        },
        "id": "b-5sEX6PlbDH",
        "outputId": "d72dd155-b719-4d06-9c01-e55e70747979"
      },
      "source": [
        "# Backspace character\n",
        "BKSP = chr(0x8)\n",
        "# Delete character\n",
        "DEL = chr(0x7F)\n",
        "# Carriage return character\n",
        "CR = chr(0xD)\n",
        "\n",
        "print(f\"{CR}{BKSP}{DEL}\")"
      ],
      "execution_count": null,
      "outputs": [
        {
          "output_type": "stream",
          "text": [
            "\r\b\n"
          ],
          "name": "stdout"
        }
      ]
    },
    {
      "cell_type": "code",
      "metadata": {
        "colab": {
          "base_uri": "https://localhost:8080/"
        },
        "id": "dwTikss0lGS3",
        "outputId": "b1ee2391-3824-47e2-e5e7-25efe12b68fe"
      },
      "source": [
        "# Deletion charaters are interesting, as surrounding text isn't visually\n",
        "# rendered, but is \"seen\" by the model\n",
        "inp = f\"father{BKSP*6}\"\n",
        "res = en2fr.encode(inp)\n",
        "print(f\"Input Rendering: '{inp}'\")\n",
        "print(f\"Input Encoding: '{src_decode(res)}'\")\n",
        "print(f\"Output: '{en2fr.translate(inp)}'\")"
      ],
      "execution_count": null,
      "outputs": [
        {
          "output_type": "stream",
          "text": [
            "Input Rendering: 'father\b\b\b\b\b\b'\n",
            "Input Encoding: 'father </s>'\n",
            "Output: 'père'\n"
          ],
          "name": "stdout"
        }
      ]
    },
    {
      "cell_type": "code",
      "metadata": {
        "colab": {
          "base_uri": "https://localhost:8080/"
        },
        "id": "KWxDCKRqltcE",
        "outputId": "820841f3-4a10-47df-9519-c8352271e639"
      },
      "source": [
        "# The carriage return character returns the beginning of the line and\n",
        "# ovewrites it\n",
        "inp = f\"grand{CR}father\"\n",
        "res = en2fr.encode(inp)\n",
        "print(f\"Input Rendering:\\n{inp}\")\n",
        "print(f\"Input Encoding: '{src_decode(res)}'\")\n",
        "print(f\"Output: '{en2fr.translate(inp)}'\")"
      ],
      "execution_count": null,
      "outputs": [
        {
          "output_type": "stream",
          "text": [
            "Input Rendering:\n",
            "grand\rfather\n",
            "Input Encoding: 'grand father </s>'\n",
            "Output: 'grand-père'\n"
          ],
          "name": "stdout"
        }
      ]
    },
    {
      "cell_type": "markdown",
      "metadata": {
        "id": "ojTrDJ1oobLo"
      },
      "source": [
        "## Untargeted Integrity Attacks\n",
        "\n",
        "The performance of various NLP models can be degraded through the use of invisible character, homoglyph, reordering, and deletion attacks. The most effective attacks can be found, independent of the underlying model, using a genetic algorithm."
      ]
    },
    {
      "cell_type": "markdown",
      "metadata": {
        "id": "hpQCNy1ub-xr"
      },
      "source": [
        "### Attack Setup\n",
        "\n",
        "Each attack will be defined as an object and set of contstraints over which a genetic algorithm (differential evolution) will optimize. For these attacks, the visual representation of the input is fixed and the aim of the attack is to determine the imperceptible perturbation for which the supplied model's output will be maximally distant from the output of the unperturbed input.\n",
        "\n",
        "Each attack will be derived from the following Objective abstract class."
      ]
    },
    {
      "cell_type": "code",
      "metadata": {
        "id": "sV06ofK0o8uf"
      },
      "source": [
        "from abc import ABC\n",
        "from typing import List, Tuple, Callable, Dict\n",
        "from fairseq.hub_utils import GeneratorHubInterface\n",
        "from scipy.optimize import NonlinearConstraint, differential_evolution\n",
        "from textdistance import levenshtein\n",
        "import numpy as np\n",
        "\n",
        "\n",
        "class Objective(ABC):\n",
        "  \"\"\" Abstract class representing objectives for scipy's genetic algorithms.\"\"\"\n",
        "\n",
        "  def __init__(self, model: GeneratorHubInterface, input: str, max_perturbs: int, distance: Callable[[str,str],int]):\n",
        "    if not model:\n",
        "      raise ValueError(\"Must supply model.\")\n",
        "    if not input:\n",
        "      raise ValueError(\"Must supply input.\")\n",
        "\n",
        "    self.model: GeneratorHubInterface = model\n",
        "    self.input: str = input\n",
        "    self.max_perturbs: int = max_perturbs\n",
        "    self.distance: Callable[[str,str],int] = distance\n",
        "    self.output = self.model.translate(self.input)\n",
        "\n",
        "  def objective(self) -> Callable[[List[float]], float]:\n",
        "    def _objective(perturbations: List[float]) -> float:\n",
        "      candidate: str = self.candidate(perturbations)\n",
        "      translation: str = self.model.translate(candidate)\n",
        "      return -self.distance(self.output, translation)\n",
        "    return _objective\n",
        "\n",
        "  def differential_evolution(self, print_result=True, verbose=True, maxiter=60, popsize=32, polish=False) -> str:\n",
        "    result = differential_evolution(self.objective(), self.bounds(),\n",
        "                                    disp=verbose, maxiter=maxiter,\n",
        "                                    popsize=popsize, polish=polish)\n",
        "    candidate = self.candidate(result.x)\n",
        "    if (print_result):\n",
        "      print(f\"Result: {candidate}\")\n",
        "      print(f\"Result Distance: {result.fun}\")\n",
        "      print(f\"Perturbation Encoding: {result.x}\")\n",
        "      print(f\"Input Translation: {self.output}\")\n",
        "      print(f\"Result Translation: {self.model.translate(candidate)}\")\n",
        "    return candidate\n",
        "\n",
        "  def bounds(self) -> List[Tuple[float, float]]:\n",
        "    raise NotImplementedError()\n",
        "\n",
        "  def candidate(self, perturbations: List[float]) -> str:\n",
        "    raise NotImplementedError()\n",
        "\n",
        "\n",
        "def natural(x: float) -> int:\n",
        "    \"\"\"Rounds float to the nearest natural number (positive int)\"\"\"\n",
        "    return max(0, round(float(x)))"
      ],
      "execution_count": null,
      "outputs": []
    },
    {
      "cell_type": "markdown",
      "metadata": {
        "id": "FOrqi94QpY6r"
      },
      "source": [
        "### Machine Translation Attacks\n",
        "\n",
        "These attacks are against the fariseq EN-FR translation model."
      ]
    },
    {
      "cell_type": "markdown",
      "metadata": {
        "id": "q4zUH8lxc2Si"
      },
      "source": [
        "#### Invisible Character Attack\n",
        "\n",
        "The following attack injects the invisible character supplied to create the maximally effective imperceptible perturbation against the supplied visual input and distance metric."
      ]
    },
    {
      "cell_type": "code",
      "metadata": {
        "id": "5httsCzjV2tf"
      },
      "source": [
        "class InvisibleCharacterObjective(Objective):\n",
        "  \"\"\"Class representing an Objective which injects invisible characters.\"\"\"\n",
        "\n",
        "  def __init__(self, model: GeneratorHubInterface, input: str, max_perturbs: int = 25, invisible_chrs: List[str] = [ZWJ,ZWSP], distance: Callable[[str,str],int] = levenshtein.distance, **kwargs):\n",
        "    super().__init__(model, input, max_perturbs, distance)\n",
        "    self.invisible_chrs: List[str] = invisible_chrs\n",
        "\n",
        "  def bounds(self) -> List[Tuple[float, float]]:\n",
        "    return [(0,len(self.invisible_chrs)-1), (-1, len(self.input)-1)] * self.max_perturbs\n",
        "\n",
        "  def candidate(self, perturbations: List[float]) -> str:\n",
        "    candidate = [char for char in self.input]\n",
        "    for i in range(0, len(perturbations), 2):\n",
        "      inp_index = natural(perturbations[i+1])\n",
        "      if inp_index >= 0:\n",
        "        inv_char = self.invisible_chrs[natural(perturbations[i])]\n",
        "        candidate = candidate[:inp_index] + [inv_char] + candidate[inp_index:]\n",
        "    return ''.join(candidate)"
      ],
      "execution_count": null,
      "outputs": []
    },
    {
      "cell_type": "code",
      "metadata": {
        "id": "WHpKJa1kYfJ9"
      },
      "source": [
        "# Execute Example Invisible Characters Attack\n",
        "inv_obj = InvisibleCharacterObjective(en2fr, 'Spectacular Wingsuit Jump Over Bogota', max_perturbs=2)\n",
        "inv_result = inv_obj.differential_evolution(maxiter=40, popsize=32)"
      ],
      "execution_count": null,
      "outputs": []
    },
    {
      "cell_type": "markdown",
      "metadata": {
        "id": "qWKtdSnBdTAv"
      },
      "source": [
        "#### Homoglyph Attack\n",
        "\n",
        "This attack replaces characters with homoglyphs to create the maximally effective imperceptible perturbation against the supplied visual input and distance metric."
      ]
    },
    {
      "cell_type": "code",
      "metadata": {
        "id": "MLc8fWVBddkv"
      },
      "source": [
        "class HomoglyphObjective(Objective):\n",
        "\n",
        "  def __init__(self, model: GeneratorHubInterface, input: str, max_perturbs=None, distance: Callable[[str,str],int] = levenshtein.distance, homoglyphs: Dict[str,List[str]] = intentionals, **kwargs):\n",
        "    super().__init__(model, input, max_perturbs, distance)\n",
        "    if not self.max_perturbs:\n",
        "      self.max_perturbs = len(self.input)\n",
        "    self.homoglyphs = homoglyphs\n",
        "    self.glyph_map = []\n",
        "    for i, char in enumerate(self.input):\n",
        "      if char in self.homoglyphs:\n",
        "        charmap = self.homoglyphs[char]\n",
        "        charmap = list(zip([i] * len(charmap), charmap))\n",
        "        self.glyph_map.extend(charmap)\n",
        "\n",
        "  def bounds(self) -> List[Tuple[float, float]]:\n",
        "    return [(-1, len(self.glyph_map)-1)] * self.max_perturbs\n",
        "\n",
        "  def candidate(self, perturbations: List[float]) -> str:\n",
        "    candidate = [char for char in self.input]  \n",
        "    for perturb in map(natural, perturbations):\n",
        "      if perturb >= 0:\n",
        "        i, char = self.glyph_map[perturb]\n",
        "        candidate[i] = char\n",
        "    return ''.join(candidate)"
      ],
      "execution_count": null,
      "outputs": []
    },
    {
      "cell_type": "code",
      "metadata": {
        "id": "0h2b6fOzwcVg"
      },
      "source": [
        "# Execute Example Homoglyph Attack\n",
        "homo_obj = HomoglyphObjective(en2fr, 'Spectacular Wingsuit Jump Over Bogota', max_perturbs=3)\n",
        "homo_result = homo_obj.differential_evolution(maxiter=5)"
      ],
      "execution_count": null,
      "outputs": []
    },
    {
      "cell_type": "markdown",
      "metadata": {
        "id": "LVUhyYqkdqhS"
      },
      "source": [
        "#### Reordering Attack\n",
        "\n",
        "This attack reorders characters using Unicode Bidi overrides to create the maximally effective imperceptible perturbation against the supplied visual input and distance metric.\n",
        "\n",
        "The reordering patterns used in this attack were designed to be effective against the Bidi implementation used in the Chromium text rendering engine."
      ]
    },
    {
      "cell_type": "code",
      "metadata": {
        "id": "gJ7lK8RDeAb9"
      },
      "source": [
        "class ReorderObjective(Objective):\n",
        "\n",
        "  def __init__(self, model: GeneratorHubInterface, input: str, max_perturbs: int = 50, distance: Callable[[str,str],int] = levenshtein.distance, **kwargs):\n",
        "    super().__init__(model, input, max_perturbs, distance)\n",
        "\n",
        "  def bounds(self) -> List[Tuple[float, float]]:\n",
        "    return [(-1,len(self.input)-1)] * self.max_perturbs\n",
        "\n",
        "  def candidate(self, perturbations: List[float]) -> str:\n",
        "    def swaps(els) -> str:\n",
        "      res = \"\"\n",
        "      for el in els:\n",
        "          if isinstance(el, Swap):\n",
        "              res += swaps([LRO, LRI, RLO, LRI, el.one, PDI, LRI, el.two, PDI, PDF, PDI, PDF])\n",
        "          elif isinstance(el, str):\n",
        "              res += el\n",
        "          else:\n",
        "              for subel in el:\n",
        "                  res += swaps([subel])\n",
        "      return res\n",
        "\n",
        "    _candidate = [char for char in self.input]\n",
        "    for perturb in map(natural, perturbations):\n",
        "      if perturb >= 0 and len(_candidate) >= 2:\n",
        "        perturb = min(perturb, len(_candidate) - 2)\n",
        "        _candidate = _candidate[:perturb] + [Swap(_candidate[perturb+1], _candidate[perturb])] + _candidate[perturb+2:]\n",
        "\n",
        "    return swaps(_candidate)"
      ],
      "execution_count": null,
      "outputs": []
    },
    {
      "cell_type": "code",
      "metadata": {
        "id": "8mDm9orb2Uvs",
        "colab": {
          "base_uri": "https://localhost:8080/"
        },
        "outputId": "dc1f2570-49da-47b3-ff16-48cf6c0cdc38"
      },
      "source": [
        "# Execute Example Reordering Attack\n",
        "reorder_obj = ReorderObjective(en2fr, 'Spectacular Wingsuit Jump Over Bogota', max_perturbs=2)\n",
        "reorder_result = reorder_obj.differential_evolution(maxiter=5, popsize=5)"
      ],
      "execution_count": null,
      "outputs": [
        {
          "output_type": "stream",
          "text": [
            "differential_evolution step 1: f(x)= -78\n",
            "differential_evolution step 2: f(x)= -80\n",
            "differential_evolution step 3: f(x)= -86\n",
            "differential_evolution step 4: f(x)= -96\n",
            "differential_evolution step 5: f(x)= -140\n",
            "Result: Spectacular Wingsuit Jump Over ‭⁦‮⁦o⁩⁦B⁩‬⁩‬go‭⁦‮⁦a⁩⁦t⁩‬⁩‬\n",
            "Result Distance: -140\n",
            "Perturbation Encoding: [34.6174655  31.19274238]\n",
            "Input Translation: Spectaculaire combinaison pour les ailes sauter au-dessus de Bogota\n",
            "Result Translation: Saut en combinaison à ailes spectaculaire Saut au-dessus d'une combinaison à voilure spectaculaire Saut au-dessus d'une combinaison à voilure spectaculaire Saut au-dessus d'une combinaison à voilure\n"
          ],
          "name": "stdout"
        }
      ]
    },
    {
      "cell_type": "markdown",
      "metadata": {
        "id": "0KoChTfyeR9g"
      },
      "source": [
        "#### Deletion Attack\n",
        "\n",
        "This attack inserts Unicode deletion control characters followed by a supplied character to be deleted to create the maximally effective imperceptible perturbation against the supplied visual input and distance metric."
      ]
    },
    {
      "cell_type": "code",
      "metadata": {
        "id": "7S0ilPknepk-"
      },
      "source": [
        "class DeletionObjective(Objective):\n",
        "  \"\"\"Class representing an Objective which injects deletion control characters.\"\"\"\n",
        "\n",
        "  def __init__(self, model: GeneratorHubInterface, input: str, max_perturbs: int = 100, distance: Callable[[str,str],int] = levenshtein.distance, del_chr: str = BKSP, ins_chr: str = 'a', **kwargs):\n",
        "    super().__init__(model, input, max_perturbs, distance)\n",
        "    self.del_chr: str = del_chr\n",
        "    self.ins_chr: str = ins_chr\n",
        "\n",
        "  def bounds(self) -> List[Tuple[float, float]]:\n",
        "    return [(-1,len(self.input)-1)] * self.max_perturbs\n",
        "\n",
        "  def candidate(self, perturbations: List[float]) -> str:\n",
        "    candidate = [char for char in self.input]\n",
        "    for i in range(len(perturbations)):\n",
        "      perturb = natural(perturbations[i])\n",
        "      candidate = candidate[:perturb] + [self.ins_chr, self.del_chr] + candidate[perturb:]\n",
        "      for j in range(i,len(perturbations)):\n",
        "        perturbations[j] += 2\n",
        "    return ''.join(candidate)"
      ],
      "execution_count": null,
      "outputs": []
    },
    {
      "cell_type": "code",
      "metadata": {
        "id": "sn3kdpFL7lQt",
        "colab": {
          "base_uri": "https://localhost:8080/"
        },
        "outputId": "f422fe05-9e08-4992-9393-5b369904abf5"
      },
      "source": [
        "# Execute Example Reordering Attack\n",
        "deletion_obj = DeletionObjective(en2fr, \"This is a test\", max_perturbs=2)\n",
        "deletion_result = deletion_obj.differential_evolution(maxiter=10, popsize=10)"
      ],
      "execution_count": null,
      "outputs": [
        {
          "output_type": "stream",
          "text": [
            "differential_evolution step 1: f(x)= -27\n",
            "differential_evolution step 2: f(x)= -28\n",
            "differential_evolution step 3: f(x)= -28\n",
            "differential_evolution step 4: f(x)= -28\n",
            "differential_evolution step 5: f(x)= -28\n",
            "differential_evolution step 6: f(x)= -28\n",
            "differential_evolution step 7: f(x)= -28\n",
            "differential_evolution step 8: f(x)= -28\n",
            "differential_evolution step 9: f(x)= -28\n",
            "Result: Tha\bis is a ta\best\n",
            "Result Distance: -28.0\n",
            "Perturbation Encoding: [12.75208361  3.78647273]\n",
            "Input Translation: Il s'agit d'un test\n",
            "Result Translation: Les Thaïlandais sont les plus avides\n"
          ],
          "name": "stdout"
        }
      ]
    },
    {
      "cell_type": "markdown",
      "metadata": {
        "id": "UZhWWdrNCoo4"
      },
      "source": [
        "#### Attack Performance\n",
        "\n",
        "In this section we plot the results of each of the attacks over pertrubations of fixed sizes."
      ]
    },
    {
      "cell_type": "markdown",
      "metadata": {
        "id": "-LTLMhmDrnae"
      },
      "source": [
        "##### Experiment Setup"
      ]
    },
    {
      "cell_type": "code",
      "metadata": {
        "id": "LA2K7wiy5pYs",
        "colab": {
          "base_uri": "https://localhost:8080/"
        },
        "outputId": "74c8c16a-8158-4096-a21b-eeb2b349879f"
      },
      "source": [
        "# Download EN-FR Test Data\n",
        "!wget -c http://statmt.org/wmt14/test-full.tgz -O - | tar -xz\n",
        "!mv test-full/newstest2014-fren-src.en.sgm .\n",
        "!mv test-full/newstest2014-fren-ref.fr.sgm .\n",
        "!rm -rf test-full/\n",
        "!pip install beautifulsoup4"
      ],
      "execution_count": null,
      "outputs": [
        {
          "output_type": "stream",
          "text": [
            "--2021-01-19 12:09:45--  http://statmt.org/wmt14/test-full.tgz\n",
            "Resolving statmt.org (statmt.org)... 129.215.197.184\n",
            "Connecting to statmt.org (statmt.org)|129.215.197.184|:80... connected.\n",
            "HTTP request sent, awaiting response... 200 OK\n",
            "Length: 3255445 (3.1M) [application/x-gzip]\n",
            "Saving to: ‘STDOUT’\n",
            "\n",
            "-                   100%[===================>]   3.10M  1.68MB/s    in 1.9s    \n",
            "\n",
            "2021-01-19 12:09:47 (1.68 MB/s) - written to stdout [3255445/3255445]\n",
            "\n",
            "Requirement already satisfied: beautifulsoup4 in /usr/local/lib/python3.6/dist-packages (4.6.3)\n"
          ],
          "name": "stdout"
        }
      ]
    },
    {
      "cell_type": "code",
      "metadata": {
        "id": "VCY2jD_5ZCF0"
      },
      "source": [
        "# Build source and target mappings for BLEU scoring\n",
        "from bs4 import BeautifulSoup\n",
        "\n",
        "with open('newstest2014-fren-src.en.sgm', 'r') as f:\n",
        "  source_doc = BeautifulSoup(f, 'html.parser')\n",
        "\n",
        "with open('newstest2014-fren-ref.fr.sgm', 'r') as f:\n",
        "  target_doc = BeautifulSoup(f, 'html.parser')\n",
        "\n",
        "source = dict()\n",
        "target = dict()\n",
        "\n",
        "for doc in source_doc.find_all('doc'):\n",
        "  source[str(doc['docid'])] = dict()\n",
        "  for seg in doc.find_all('seg'):\n",
        "    if len(str(seg.string)) < 50:\n",
        "      source[str(doc['docid'])][str(seg['id'])] = str(seg.string)\n",
        "\n",
        "for doc in target_doc.find_all('doc'):\n",
        "  target[str(doc['docid'])] = dict()\n",
        "  for seg in doc.find_all('seg'):\n",
        "    target[str(doc['docid'])][str(seg['id'])] = str(seg.string)"
      ],
      "execution_count": null,
      "outputs": []
    },
    {
      "cell_type": "code",
      "metadata": {
        "id": "cUcARD7tZeIz"
      },
      "source": [
        "# Experiemnt for testing objectives within sliding perturbation bounds\n",
        "from tqdm.auto import tqdm, trange\n",
        "import pickle\n",
        "\n",
        "def experiment(model, objective, source, perturbs, min_perturb, max_perturb, file, maxiter, popsize):\n",
        "  for i in trange(min_perturb, max_perturb, desc=\"Perturbations\"):\n",
        "    perturbs[str(i)] = dict()\n",
        "    for docid, doc in tqdm(source.items(), leave=False, desc=\"Document\"):\n",
        "      perturbs[str(i)][docid] = dict()\n",
        "      for segid, seg in tqdm(doc.items(), leave=False, desc=\"Sequence\"):\n",
        "        perturbs[str(i)][docid][segid] = objective(en2fr, seg, max_perturbs=i).differential_evolution(print_result=False, verbose=False, maxiter=maxiter, popsize=popsize)\n",
        "        with open(file, 'wb') as f:\n",
        "          pickle.dump(perturbs, f)"
      ],
      "execution_count": null,
      "outputs": []
    },
    {
      "cell_type": "markdown",
      "metadata": {
        "id": "RGG68eeQrs_r"
      },
      "source": [
        "##### Invisible Character Experiment"
      ]
    },
    {
      "cell_type": "code",
      "metadata": {
        "id": "eZLC46zNZYar"
      },
      "source": [
        "# Invisible Character Experiment\n",
        "\n",
        "# Only consider a subset (65 examples) of the source\n",
        "source_small = { '1016-latimes': source['1016-latimes'], '2327-dailymail.co.uk': source['2327-dailymail.co.uk'] }\n",
        "perturbs = { '0': source_small }\n",
        "\n",
        "experiment(en2fr, InvisibleCharacterObjective, source_small, perturbs, 1, 6, '/content/drive/MyDrive/invisible_chars.pkl', 5, 16)"
      ],
      "execution_count": null,
      "outputs": []
    },
    {
      "cell_type": "markdown",
      "metadata": {
        "id": "GARk6DVhrwMQ"
      },
      "source": [
        "##### Homoglyph Experiment"
      ]
    },
    {
      "cell_type": "code",
      "metadata": {
        "id": "_5td9xgVYtJH"
      },
      "source": [
        "# Homoglyph Experiment\n",
        "\n",
        "experiment(en2fr, HomoglyphObjective, source_small, perturbs, 1, 6, '/content/drive/MyDrive/homoglyphs.pkl', 3, 16)"
      ],
      "execution_count": null,
      "outputs": []
    },
    {
      "cell_type": "markdown",
      "metadata": {
        "id": "5P0B_lPKrzqj"
      },
      "source": [
        "##### Reordering Experiment"
      ]
    },
    {
      "cell_type": "code",
      "metadata": {
        "id": "M9_NeJBRbBaj"
      },
      "source": [
        "# Reordering Experiment\n",
        "\n",
        "experiment(en2fr, ReorderObjective, source_small, perturbs, 1, 6, '/content/drive/MyDrive/reorder.pkl', 3, 16)"
      ],
      "execution_count": null,
      "outputs": []
    },
    {
      "cell_type": "markdown",
      "metadata": {
        "id": "75f0KcFIr3Xf"
      },
      "source": [
        "##### Deletion Experiment"
      ]
    },
    {
      "cell_type": "code",
      "metadata": {
        "id": "WIDOWYCTZELf"
      },
      "source": [
        "# Deletion Experiment\n",
        "\n",
        "experiment(en2fr, DeletionObjective, source_small, perturbs, 1, 6, '/content/drive/MyDrive/deletion.pkl', 3, 16)"
      ],
      "execution_count": null,
      "outputs": []
    },
    {
      "cell_type": "markdown",
      "metadata": {
        "id": "OSPzj7hCqUil"
      },
      "source": [
        "### MNLI Attacks"
      ]
    },
    {
      "cell_type": "markdown",
      "metadata": {
        "id": "FJUcSFQoq4TH"
      },
      "source": [
        "#### Attack Setup"
      ]
    },
    {
      "cell_type": "code",
      "metadata": {
        "id": "HhCUHc9wD5Kz"
      },
      "source": [
        "!wget https://cims.nyu.edu/~sbowman/multinli/multinli_1.0.zip\n",
        "!unzip multinli_1.0.zip\n",
        "!rm -rf __MACOSX/"
      ],
      "execution_count": null,
      "outputs": []
    },
    {
      "cell_type": "code",
      "metadata": {
        "id": "hDuuIfqeD9Zb"
      },
      "source": [
        "import json\n",
        "with open('multinli_1.0/multinli_1.0_dev_matched.jsonl', 'r') as f:\n",
        "  mnli_test = [json.loads(jline) for jline in f.readlines()]"
      ],
      "execution_count": null,
      "outputs": []
    },
    {
      "cell_type": "code",
      "metadata": {
        "id": "9fp6z8AQJ1xT"
      },
      "source": [
        "# Load pre-trained translation model\n",
        "import torch\n",
        "mnli = torch.hub.load('pytorch/fairseq',\n",
        "                       'roberta.large.mnli').eval().cuda()\n",
        "label_map = {'contradiction': 0, 'neutral': 1, 'entailment': 2}"
      ],
      "execution_count": null,
      "outputs": []
    },
    {
      "cell_type": "code",
      "metadata": {
        "id": "BSuP_CV4LhJB"
      },
      "source": [
        "class MnliObjective():\n",
        "\n",
        "  def __init__(self, model: GeneratorHubInterface, input: str, hypothesis: str, label:int, max_perturbs: int):\n",
        "    if not model:\n",
        "      raise ValueError(\"Must supply model.\")\n",
        "    if not input:\n",
        "      raise ValueError(\"Must supply input.\")\n",
        "    if not hypothesis:\n",
        "      raise ValueError(\"Must supply hypothesis.\")\n",
        "    if label == None:\n",
        "      raise ValueError(\"Must supply label.\")\n",
        "    self.model: GeneratorHubInterface = model\n",
        "    self.input: str = input\n",
        "    self.hypothesis: str = hypothesis\n",
        "    self.label: int = label\n",
        "    self.max_perturbs: int = max_perturbs\n",
        "\n",
        "  def objective(self) -> Callable[[List[float]], float]:\n",
        "    def _objective(perturbations: List[float]) -> float:\n",
        "      candidate: str = self.candidate(perturbations)\n",
        "      tokens = self.model.encode(candidate, self.hypothesis)\n",
        "      predict = self.model.predict('mnli', tokens)\n",
        "      if predict.argmax() != self.label:\n",
        "        return -np.inf\n",
        "      else:\n",
        "        return predict.cpu().detach().numpy()[0][self.label]\n",
        "    return _objective\n",
        "\n",
        "  def differential_evolution(self, print_result=True, verbose=True, maxiter=3, popsize=32, polish=False) -> str:\n",
        "    result = differential_evolution(self.objective(), self.bounds(),\n",
        "                                    disp=verbose, maxiter=maxiter,\n",
        "                                    popsize=popsize, polish=polish)\n",
        "    candidate = self.candidate(result.x)\n",
        "    if (print_result):\n",
        "      print(f\"Result: {candidate}\")\n",
        "      print(f\"Correct Label Prediction: {result.fun}\")\n",
        "      print(f\"Perturbation Encoding: {result.x}\")\n",
        "    return candidate"
      ],
      "execution_count": 60,
      "outputs": []
    },
    {
      "cell_type": "markdown",
      "metadata": {
        "id": "ahA_kEqirIYs"
      },
      "source": [
        "#### Invisible Character Attack"
      ]
    },
    {
      "cell_type": "code",
      "metadata": {
        "id": "oHURE2Ueoy_b"
      },
      "source": [
        "class InvisibleCharacterMnliObjective(MnliObjective, InvisibleCharacterObjective):\n",
        "  \n",
        "  def __init__(self, model: GeneratorHubInterface, input: str, hypothesis: str, label:int, max_perturbs: int = 10, invisible_chrs: List[str] = [ZWJ,ZWSP], **kwargs):\n",
        "    super().__init__(model, input, hypothesis, label, max_perturbs)\n",
        "    self.invisible_chrs = invisible_chrs"
      ],
      "execution_count": 61,
      "outputs": []
    },
    {
      "cell_type": "markdown",
      "metadata": {
        "id": "WUP4a9g6rDCO"
      },
      "source": [
        "#### Homoglyph Attack"
      ]
    },
    {
      "cell_type": "code",
      "metadata": {
        "id": "itVYlZ8cWAzT"
      },
      "source": [
        "class HomoglyphMnliObjective(MnliObjective, HomoglyphObjective):\n",
        "  \n",
        "  def __init__(self, model: GeneratorHubInterface, input: str, hypothesis: str, label:int, max_perturbs: int = 10, homoglyphs: Dict[str,List[str]] = intentionals, **kwargs):\n",
        "    super().__init__(model, input, hypothesis, label, max_perturbs)\n",
        "    self.homoglyphs = homoglyphs\n",
        "    self.glyph_map = []\n",
        "    for i, char in enumerate(self.input):\n",
        "      if char in self.homoglyphs:\n",
        "        charmap = self.homoglyphs[char]\n",
        "        charmap = list(zip([i] * len(charmap), charmap))\n",
        "        self.glyph_map.extend(charmap)"
      ],
      "execution_count": 62,
      "outputs": []
    },
    {
      "cell_type": "markdown",
      "metadata": {
        "id": "LBTXc26wzXFm"
      },
      "source": [
        "#### Reordering Attack"
      ]
    },
    {
      "cell_type": "code",
      "metadata": {
        "id": "e0dovztEzgOK"
      },
      "source": [
        "class ReorderMnliObjective(MnliObjective, ReorderObjective):\n",
        "  \n",
        "  def __init__(self, model: GeneratorHubInterface, input: str, hypothesis: str, label:int, max_perturbs: int = 10, **kwargs):\n",
        "    super().__init__(model, input, hypothesis, label, max_perturbs)"
      ],
      "execution_count": 63,
      "outputs": []
    },
    {
      "cell_type": "markdown",
      "metadata": {
        "id": "AtbaskhQ07Pp"
      },
      "source": [
        "#### Deletion Attack"
      ]
    },
    {
      "cell_type": "code",
      "metadata": {
        "id": "z5ueORGu0-9B"
      },
      "source": [
        "class DeletionMnliObjective(MnliObjective, DeletionObjective):\n",
        "  \n",
        "  def __init__(self, model: GeneratorHubInterface, input: str, hypothesis: str, label:int, max_perturbs: int = 10, del_chr: str = BKSP, ins_chr: str = 'a', **kwargs):\n",
        "    super().__init__(model, input, hypothesis, label, max_perturbs)\n",
        "    self.del_chr: str = del_chr\n",
        "    self.ins_chr: str = ins_chr"
      ],
      "execution_count": 64,
      "outputs": []
    },
    {
      "cell_type": "markdown",
      "metadata": {
        "id": "LZXEUjBXrZc9"
      },
      "source": [
        "#### Attack Performance"
      ]
    },
    {
      "cell_type": "markdown",
      "metadata": {
        "id": "V3YuRw65sSNs"
      },
      "source": [
        "##### Experiment Setup"
      ]
    },
    {
      "cell_type": "code",
      "metadata": {
        "id": "KJ6D_CRKWhGv"
      },
      "source": [
        "def mnli_experiment(model, objective, data, file, min_budget, max_budget, maxiter, popsize):\n",
        "  perturbs = { '0': data }\n",
        "  for budget in trange(min_budget, max_budget):\n",
        "    perturbs[str(budget)] = dict()\n",
        "    for test in tqdm(data, leave=False):\n",
        "      obj = objective(mnli, test['sentence1'], test['sentence2'], label_map[test['gold_label']])\n",
        "      example = obj.differential_evolution(print_result=False, verbose=False, maxiter=maxiter, popsize=popsize)\n",
        "      perturbs[str(budget)][test['pairID']] = example\n",
        "      with open(file, 'wb') as f:\n",
        "          pickle.dump(perturbs, f)"
      ],
      "execution_count": 65,
      "outputs": []
    },
    {
      "cell_type": "code",
      "metadata": {
        "id": "W-aYIhOgem9I"
      },
      "source": [
        "mnli_test_small = mnli_test[:20]"
      ],
      "execution_count": 66,
      "outputs": []
    },
    {
      "cell_type": "markdown",
      "metadata": {
        "id": "FhiXUU3ns7tb"
      },
      "source": [
        "##### Invisible Character Experiment"
      ]
    },
    {
      "cell_type": "code",
      "metadata": {
        "colab": {
          "base_uri": "https://localhost:8080/",
          "height": 66,
          "referenced_widgets": [
            "0f0113bc0fb545ca89b9eba6d034d903",
            "f52f0bd900fa4359a4642e1f6a934d5c",
            "3f2e5bf0a545472dac3ffce5984144d7",
            "830309006315456a862c5284ed0ca3d1",
            "13666406d09c441daeb5420eb3121dc4",
            "d94b46af04704f5a8878442fed45b98f",
            "24d5581c637c4869bce0865ab9240edd",
            "85abb41e6cd941cb9c30660fb1d8ff4f",
            "c5095faa1f94468790c6a77dca629d62",
            "febdb9b839874805a530c5d6b96163fc",
            "1c32fc6521f04d5fb3f401a2f4298b5e",
            "e28895c03a7c4dfebdb95d89fe67dee4",
            "872809c9e9cb4818bd567d7c975efeee",
            "36d8fb34a54b43f3b4de9776e6faa80a",
            "5319a06aa515476f8f849b260ee528d5",
            "93b9e67a8e0b4c2f8a70c02bb81842f3",
            "3abd38f9fdd94bc1a579e716b3558926",
            "dadb6a35d6b54edd86f0514e24317497",
            "23a3d44f8c5c409daaaf4ddc0d6aeb8b",
            "ab13a721436f4160870e03d7107b52df",
            "d597b81157094bb58844c9c7ccfd0519",
            "13d89a511b00410d9e0dd080ad4669af",
            "63a18e3bc45641e081bf207f0958b6d9",
            "2f37240ec6fc435d8dc1c54a4ccab3ce",
            "8448dba5d2dc41489ffe5a64d8539f67",
            "d66f49da86654fb8882030c32c675a92",
            "ac073322dbf84e3f8ed1b94219aafe6f",
            "a0538361a60f452aa34300806e5de56c",
            "fcc0b8eac9f54424a64e24cc6cabe42a",
            "782b363d72294f08a8e0ea2bc72aa3a8",
            "0971350577ce4ab8a7ea8ff908bb7da6",
            "27896511c4e744d6a0b20418a57d7b6e",
            "a5c375300191480f9c97975b8eaef4f0",
            "ea457dcc49cd4a3ca77d62efa417233f",
            "75e17bd3ca79468f95b9852629195f20",
            "15f5b51288284801990aa0f20fb06350",
            "333dec2df73b469faafee462049d6ec6",
            "b75c357721174903ae3c9247c1e74fb9",
            "ed12b1e465bb45c6a46422be27aa1a69",
            "eac900977e9c4aceb92e4170ce1a688c",
            "350f682a558b4885a541c74d391e1c1f",
            "88517ea0c5e34698acb93fb48fcdb7f1",
            "915f26dfc9df4cbd952b75ac7d11e361",
            "6debadc76cec4cc4b6ee5b80a66f0d85",
            "283a207872f34ca4aacb520c8acd7db4",
            "21bf83d07bc3460dbe92185f00eee135",
            "1feb5adf51ba4e7584f4e3635f5832fa",
            "b2489263214f4296849c448f1d961d01"
          ]
        },
        "id": "lyDKrYGQs93H",
        "outputId": "61382863-74a0-4361-cc11-ff813f8fa77d"
      },
      "source": [
        "mnli_experiment(mnli, InvisibleCharacterMnliObjective, mnli_test_small, \"/content/drive/MyDrive/mnli_invisible_chars.pkl\", 1, 6, 3, 16)"
      ],
      "execution_count": 67,
      "outputs": [
        {
          "output_type": "display_data",
          "data": {
            "application/vnd.jupyter.widget-view+json": {
              "model_id": "0f0113bc0fb545ca89b9eba6d034d903",
              "version_minor": 0,
              "version_major": 2
            },
            "text/plain": [
              "HBox(children=(FloatProgress(value=0.0, max=5.0), HTML(value='')))"
            ]
          },
          "metadata": {
            "tags": []
          }
        },
        {
          "output_type": "display_data",
          "data": {
            "application/vnd.jupyter.widget-view+json": {
              "model_id": "c5095faa1f94468790c6a77dca629d62",
              "version_minor": 0,
              "version_major": 2
            },
            "text/plain": [
              "HBox(children=(FloatProgress(value=0.0, max=20.0), HTML(value='')))"
            ]
          },
          "metadata": {
            "tags": []
          }
        },
        {
          "output_type": "display_data",
          "data": {
            "application/vnd.jupyter.widget-view+json": {
              "model_id": "3abd38f9fdd94bc1a579e716b3558926",
              "version_minor": 0,
              "version_major": 2
            },
            "text/plain": [
              "HBox(children=(FloatProgress(value=0.0, max=20.0), HTML(value='')))"
            ]
          },
          "metadata": {
            "tags": []
          }
        },
        {
          "output_type": "display_data",
          "data": {
            "application/vnd.jupyter.widget-view+json": {
              "model_id": "8448dba5d2dc41489ffe5a64d8539f67",
              "version_minor": 0,
              "version_major": 2
            },
            "text/plain": [
              "HBox(children=(FloatProgress(value=0.0, max=20.0), HTML(value='')))"
            ]
          },
          "metadata": {
            "tags": []
          }
        },
        {
          "output_type": "display_data",
          "data": {
            "application/vnd.jupyter.widget-view+json": {
              "model_id": "a5c375300191480f9c97975b8eaef4f0",
              "version_minor": 0,
              "version_major": 2
            },
            "text/plain": [
              "HBox(children=(FloatProgress(value=0.0, max=20.0), HTML(value='')))"
            ]
          },
          "metadata": {
            "tags": []
          }
        },
        {
          "output_type": "display_data",
          "data": {
            "application/vnd.jupyter.widget-view+json": {
              "model_id": "350f682a558b4885a541c74d391e1c1f",
              "version_minor": 0,
              "version_major": 2
            },
            "text/plain": [
              "HBox(children=(FloatProgress(value=0.0, max=20.0), HTML(value='')))"
            ]
          },
          "metadata": {
            "tags": []
          }
        },
        {
          "output_type": "stream",
          "text": [
            "\n"
          ],
          "name": "stdout"
        }
      ]
    },
    {
      "cell_type": "markdown",
      "metadata": {
        "id": "otR1as3grcYd"
      },
      "source": [
        "##### Homoglyph Experiment"
      ]
    },
    {
      "cell_type": "code",
      "metadata": {
        "colab": {
          "base_uri": "https://localhost:8080/",
          "height": 66,
          "referenced_widgets": [
            "5a6eee53e2be499ca467bbc9d8704c6a",
            "ab26cf1321b046a9b8d30acc8876f16e",
            "ccc7480a94024ac085c22600c9d7ee61",
            "08ba1ac60fdb49709ccf3ab7fceb7150",
            "d955a606a4224889aaca0b6477ba2e92",
            "14a58e6ea3dc46b3a7c447a7529e481e",
            "d2e861b172854f9b95a75c79f0999229",
            "59f795248e804400bbd81a8372b0c3f7",
            "9b4adc656294449f8ea702ac181ab4aa",
            "af31c60659d64e1fb946858eea5a26fc",
            "7a4e9f059272400fbfda84995e7a710c",
            "5c54744f7b2f482685e00811433809d4",
            "af60245a25e9468ea94dc5b73f98e442",
            "d9b9267cf81d42e4896c3874f59dd14e",
            "58f7bc46614748cda0c4d3adc0c9622d",
            "77b50f4618af424ca7899930d7a78744",
            "1b6fbad0dbbb4dde911b4e111e95b1a6",
            "faf3b9a098f746459fd230c766f2f3ca",
            "f631f1e831904f4da678369fcb0ca8ae",
            "c7dbe30cb31f42328d7c55d0142d7ea1",
            "0cd335621cb94ca9a46f629f1846636d",
            "48b6a44070724870bf3d38124b61e4f0",
            "cf31b6f4733c42c2bc3cc02c6636a13e",
            "f08ecf772dc34c259e916fb88a271945",
            "2707bb3ba211427680ba9e986631b708",
            "c33f886fb4ae4600a56f15e5760c5562",
            "6c07e9e193bf4511bed78e72ad594328",
            "f23bee9c15bb46058552aefd906361ff",
            "15e84e1ed83949d2916cb153cda31397",
            "239125e51e6a4c37afce369a6b344bfa",
            "7d6c0eca54cb4277a59cfc65df4c1902",
            "6da03955a6b042df97f717d14d956ffc",
            "1b5685aa00f04b8783dbcfa4516fcc5f",
            "5cc511cd3f724c7ca2d4042ebc84f6f8",
            "43560fffcc9e41c191d8c42e7145b2f8",
            "0274914d4b0d47a38c92e7829de3a890",
            "0fd6ee5203c84b09b8d03a4328ad6704",
            "ebe2f64ca4654b51937617c7fa22d69d",
            "8cf47b61b5e74e45bf0ea51b68d16e7a",
            "f534461d14ed4a9eb205915a2cacbf14",
            "4fb08f5d95bc40bbac9cb35c1db688d2",
            "460795505c064d91b82824326c91019d",
            "cc6efc4980694e6dba97a9d16cfc84c5",
            "58526f3ba3c44883b4368036c4841e9d",
            "01f0b2e19e204c52a1d8da6d7f1159e0",
            "edd6a8466fe848dca091623836e07b2c",
            "3717b7a80ecf4ffbbd2f9f93ba67a3df",
            "b7cb3cc433c64223a261d0eb7caef67f"
          ]
        },
        "id": "sVYje4ImdWcV",
        "outputId": "d7f3f7a5-5e16-479b-e139-fb8c9b26915a"
      },
      "source": [
        "mnli_experiment(mnli, HomoglyphMnliObjective, mnli_test_small, \"/content/drive/MyDrive/mnli_homoglyphs.pkl\", 1, 6, 3, 16)"
      ],
      "execution_count": 68,
      "outputs": [
        {
          "output_type": "display_data",
          "data": {
            "application/vnd.jupyter.widget-view+json": {
              "model_id": "5a6eee53e2be499ca467bbc9d8704c6a",
              "version_minor": 0,
              "version_major": 2
            },
            "text/plain": [
              "HBox(children=(FloatProgress(value=0.0, max=5.0), HTML(value='')))"
            ]
          },
          "metadata": {
            "tags": []
          }
        },
        {
          "output_type": "display_data",
          "data": {
            "application/vnd.jupyter.widget-view+json": {
              "model_id": "9b4adc656294449f8ea702ac181ab4aa",
              "version_minor": 0,
              "version_major": 2
            },
            "text/plain": [
              "HBox(children=(FloatProgress(value=0.0, max=20.0), HTML(value='')))"
            ]
          },
          "metadata": {
            "tags": []
          }
        },
        {
          "output_type": "display_data",
          "data": {
            "application/vnd.jupyter.widget-view+json": {
              "model_id": "1b6fbad0dbbb4dde911b4e111e95b1a6",
              "version_minor": 0,
              "version_major": 2
            },
            "text/plain": [
              "HBox(children=(FloatProgress(value=0.0, max=20.0), HTML(value='')))"
            ]
          },
          "metadata": {
            "tags": []
          }
        },
        {
          "output_type": "display_data",
          "data": {
            "application/vnd.jupyter.widget-view+json": {
              "model_id": "2707bb3ba211427680ba9e986631b708",
              "version_minor": 0,
              "version_major": 2
            },
            "text/plain": [
              "HBox(children=(FloatProgress(value=0.0, max=20.0), HTML(value='')))"
            ]
          },
          "metadata": {
            "tags": []
          }
        },
        {
          "output_type": "display_data",
          "data": {
            "application/vnd.jupyter.widget-view+json": {
              "model_id": "1b5685aa00f04b8783dbcfa4516fcc5f",
              "version_minor": 0,
              "version_major": 2
            },
            "text/plain": [
              "HBox(children=(FloatProgress(value=0.0, max=20.0), HTML(value='')))"
            ]
          },
          "metadata": {
            "tags": []
          }
        },
        {
          "output_type": "display_data",
          "data": {
            "application/vnd.jupyter.widget-view+json": {
              "model_id": "4fb08f5d95bc40bbac9cb35c1db688d2",
              "version_minor": 0,
              "version_major": 2
            },
            "text/plain": [
              "HBox(children=(FloatProgress(value=0.0, max=20.0), HTML(value='')))"
            ]
          },
          "metadata": {
            "tags": []
          }
        },
        {
          "output_type": "stream",
          "text": [
            "\n"
          ],
          "name": "stdout"
        }
      ]
    },
    {
      "cell_type": "markdown",
      "metadata": {
        "id": "ybl3kRdo0gjc"
      },
      "source": [
        "##### Reordering Experiment"
      ]
    },
    {
      "cell_type": "code",
      "metadata": {
        "id": "tzNJAO0t0jfI"
      },
      "source": [
        "mnli_experiment(mnli, ReorderMnliObjective, mnli_test_small, \"/content/drive/MyDrive/mnli_reorder.pkl\", 1, 6, 3, 16)"
      ],
      "execution_count": null,
      "outputs": []
    },
    {
      "cell_type": "markdown",
      "metadata": {
        "id": "ROInHhWz0wL7"
      },
      "source": [
        "##### Deletion Experiment"
      ]
    },
    {
      "cell_type": "code",
      "metadata": {
        "id": "Q5tHz73o0ykV"
      },
      "source": [
        "mnli_experiment(mnli, DeletionMnliObjective, mnli_test_small, \"/content/drive/MyDrive/mnli_deletion.pkl\", 1, 6, 3, 16)"
      ],
      "execution_count": null,
      "outputs": []
    },
    {
      "cell_type": "markdown",
      "metadata": {
        "id": "PUewmiYwTYO0"
      },
      "source": [
        "## Availability Attacks\n",
        "\n",
        "Sponge examples can be crafted from imperceptible perturbations. These examples are optimized to maximize inference compute time. When sent in large batches to ML systems, these examples cna be used to mount an ML denial of service (DoS) availability attack.\n",
        "\n",
        "In general, we find that homoglyphs are the best suited transformation to maximize runtime. Future work can search for combinations of transformations that outperform homoglyphs alone in the availability setting."
      ]
    },
    {
      "cell_type": "markdown",
      "metadata": {
        "id": "0XPHvAYeqezm"
      },
      "source": [
        "### Machine Translation Attacks"
      ]
    },
    {
      "cell_type": "markdown",
      "metadata": {
        "id": "HuJmNmo9YbTs"
      },
      "source": [
        "#### Homoglyph Attack"
      ]
    },
    {
      "cell_type": "code",
      "metadata": {
        "id": "aa-kE7YoUBC9"
      },
      "source": [
        "from timeit import timeit\n",
        "\n",
        "class HomoglyphSpongeObjective(HomoglyphObjective):\n",
        "\n",
        "  def objective(self) -> Callable[[List[float]], float]:\n",
        "    def _objective(perturbations: List[float]) -> float:\n",
        "      candidate: str = self.candidate(perturbations)\n",
        "      return -1 * timeit(lambda: self.model.translate(candidate), number=1)\n",
        "    return _objective"
      ],
      "execution_count": null,
      "outputs": []
    },
    {
      "cell_type": "markdown",
      "metadata": {
        "id": "QNfPz-eTX3ol"
      },
      "source": [
        "#### Attack Performance"
      ]
    },
    {
      "cell_type": "markdown",
      "metadata": {
        "id": "FtO57hYeX8l_"
      },
      "source": [
        "##### Homoglyph Experiment"
      ]
    },
    {
      "cell_type": "code",
      "metadata": {
        "id": "aj93fd1xcReE"
      },
      "source": [
        "# Sponge Experiment\n",
        "\n",
        "experiment(en2fr, HomoglyphSpongeObjective, source_small, perturbs, 1, 6, '/content/drive/MyDrive/sponge.pkl', 3, 16)"
      ],
      "execution_count": null,
      "outputs": []
    },
    {
      "cell_type": "markdown",
      "metadata": {
        "id": "ZzkaxO-WfZU2"
      },
      "source": [
        "## Targeted Integrity Attacks\n",
        "\n",
        "It may be possible to mount targeted attacks which use invisible perturbations to craft an example with a fixed visual input and fixed output over a given model.\n",
        "\n",
        "This section contains initial examples, but represents an opportunity for future work."
      ]
    },
    {
      "cell_type": "markdown",
      "metadata": {
        "id": "t18l2TZKYKwH"
      },
      "source": [
        "### Attack via `<unk>`\n",
        "\n",
        "The `<unk>` charater can easily be repeated any number of times without visual indication for a given input. This attack attempts, with poor results, to use differential evolution to search for targetted adversarial examples of a fixed visual input and output using only repeated `<unk>` characters. These `<unk>`s can trivially be mapped back to zero width spaces or any other character unknown to the model as an adversarial input string."
      ]
    },
    {
      "cell_type": "code",
      "metadata": {
        "id": "Y2KKbN0SfAvZ"
      },
      "source": [
        "def make_objective(input: str, target: str, model: GeneratorHubInterface, max_insertions: int = 1024):\n",
        "\n",
        "  input_enc = model.encode(input)\n",
        "  input_len = len(input_enc) - 1 # Remove EOS token\n",
        "  bounds = [(0, max_insertions // input_len)] * input_len\n",
        "\n",
        "  def objective(perturbations: List[float]) -> float:\n",
        "    candidate = []\n",
        "    for idx, perturb_count in enumerate(perturbations):\n",
        "      candidate += [model.src_dict.unk_index] * max(0,round(float((perturb_count)))) + [int(input_enc[idx])]\n",
        "    candidate += [int(input_enc[-1])] # Replace EOS token\n",
        "    translation = model.decode(model.generate(torch.LongTensor(candidate))[0]['tokens'])\n",
        "    return levenshtein.normalized_distance(target, translation)\n",
        "\n",
        "  return objective, bounds"
      ],
      "execution_count": null,
      "outputs": []
    },
    {
      "cell_type": "code",
      "metadata": {
        "id": "_IABE1O2hnFZ"
      },
      "source": [
        "input = \"Don't Panic.\"\n",
        "target = en2fr.translate(\"Panic.\")\n",
        "\n",
        "objective, bounds = make_objective(input, target, en2fr, max_insertions=256)\n",
        "result = differential_evolution(objective, bounds, disp=True, maxiter=100, popsize=32)\n",
        "\n",
        "input_enc = en2fr.encode(input)\n",
        "candidate = []\n",
        "for idx, perturb_count in enumerate(result.x):\n",
        "  candidate += [en2fr.src_dict.unk_index] * round(float((perturb_count))) + [int(input_enc[idx])]\n",
        "candidate += [int(input_enc[-1])]\n",
        "\n",
        "best_candidate = en2fr.decode(en2fr.generate(torch.LongTensor(candidate))[0]['tokens'])\n",
        "print(f\"Original Input: '{input}'\")\n",
        "print(f\"Original Output: '{target}'\")\n",
        "print(f\"Perturbed Output: '{best_candidate}'\")"
      ],
      "execution_count": null,
      "outputs": []
    }
  ]
}
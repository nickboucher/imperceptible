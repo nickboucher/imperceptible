{
  "nbformat": 4,
  "nbformat_minor": 0,
  "metadata": {
    "accelerator": "GPU",
    "colab": {
      "name": "Imperceptible",
      "provenance": [],
      "collapsed_sections": [],
      "toc_visible": true
    },
    "kernelspec": {
      "display_name": "Python 3",
      "name": "python3"
    }
  },
  "cells": [
    {
      "cell_type": "markdown",
      "metadata": {
        "id": "DUqI_kTkjDFt"
      },
      "source": [
        "# Bad Characters: <br/>Imperceptible NLP Attacks\n",
        "\n",
        "See related paper for details."
      ]
    },
    {
      "cell_type": "markdown",
      "metadata": {
        "id": "C0dSKq7Kjcu0"
      },
      "source": [
        "## Setup\n",
        "Install dependencies and load pre-treained models."
      ]
    },
    {
      "cell_type": "code",
      "metadata": {
        "id": "mEsZJJ09gMim"
      },
      "source": [
        "%%writefile install-apex.sh\n",
        "\n",
        "export CUDA_HOME=/usr/local/cuda-10.1\n",
        "git clone https://github.com/NVIDIA/apex\n",
        "pip install -v --no-cache-dir --global-option=\"--cpp_ext\" --global-option=\"--cuda_ext\" \\\n",
        "  --global-option=\"--deprecated_fused_adam\" --global-option=\"--xentropy\" \\\n",
        "  --global-option=\"--fast_multihead_attn\" ./apex"
      ],
      "execution_count": null,
      "outputs": []
    },
    {
      "cell_type": "code",
      "metadata": {
        "id": "XXjbM9UPgNqb"
      },
      "source": [
        "# Inference is faster with APEX installed\n",
        "# This installation is optional and takes a while\n",
        "!sh install-apex.sh"
      ],
      "execution_count": null,
      "outputs": []
    },
    {
      "cell_type": "code",
      "metadata": {
        "id": "hYqh03EoGQRi"
      },
      "source": [
        "# Install dependencies\n",
        "!pip install pyarrow\n",
        "!pip install fairseq\n",
        "!pip install sacremoses\n",
        "!pip install fastBPE\n",
        "!pip install subword_nmt\n",
        "!pip install textdistance[extras]\n",
        "!pip install scipy\n",
        "!pip install requests"
      ],
      "execution_count": null,
      "outputs": []
    },
    {
      "cell_type": "code",
      "metadata": {
        "id": "viWWjUc-HGoQ"
      },
      "source": [
        "# Load pre-trained translation model\n",
        "import torch\n",
        "en2fr = torch.hub.load('pytorch/fairseq',\n",
        "                       'transformer.wmt14.en-fr',\n",
        "                       tokenizer='moses',\n",
        "                       bpe='subword_nmt').cuda()"
      ],
      "execution_count": null,
      "outputs": []
    },
    {
      "cell_type": "markdown",
      "metadata": {
        "id": "nYQox9UdXuhk"
      },
      "source": [
        "## Unknown Characters\n",
        "\n",
        "Unusual characters, such as zero-width spaces and control sequences, are simply encoded as the `<unk>` character by the FairSeq implementation. This likely generalizes to many other NLP models."
      ]
    },
    {
      "cell_type": "code",
      "metadata": {
        "id": "WEeuVyV3Gl9H"
      },
      "source": [
        "# Define function for decoding from the source dictionary\n",
        "def src_decode(sentence):\n",
        "  res = []\n",
        "  for idx in sentence:\n",
        "    res.append(en2fr.src_dict.symbols[idx])\n",
        "  return ' '.join(res)"
      ],
      "execution_count": null,
      "outputs": []
    },
    {
      "cell_type": "code",
      "metadata": {
        "id": "8o7lIzgpKgrp"
      },
      "source": [
        "# Define some test encodings\n",
        "sentence = \"This is a test.\"\n",
        "psentence = f\"This {chr(0x2063)}is a test.\"\n",
        "inputv = en2fr.encode(sentence)\n",
        "outputv = en2fr.generate(inputv)[0]['tokens']\n",
        "pinputv = en2fr.encode(psentence)\n",
        "poutputv = en2fr.generate(pinputv)[0]['tokens']"
      ],
      "execution_count": null,
      "outputs": []
    },
    {
      "cell_type": "code",
      "metadata": {
        "colab": {
          "base_uri": "https://localhost:8080/",
          "height": 35
        },
        "id": "Ue7r5SXOxeJC",
        "outputId": "eaf404df-0b0d-4611-eca9-a776bc5e8e75"
      },
      "source": [
        "# Proof that it the encoder just treats invisible chars as an unknown token.\n",
        "src_decode(pinputv)"
      ],
      "execution_count": null,
      "outputs": [
        {
          "output_type": "execute_result",
          "data": {
            "application/vnd.google.colaboratory.intrinsic+json": {
              "type": "string"
            },
            "text/plain": [
              "'This <unk> is a test . </s>'"
            ]
          },
          "metadata": {
            "tags": []
          },
          "execution_count": 5
        }
      ]
    },
    {
      "cell_type": "markdown",
      "metadata": {
        "id": "UiqHqng-jFTp"
      },
      "source": [
        "## Invisible Characters\n",
        "\n",
        "Certian Unicode chacacters are almost never visually rendered by design. Conveniently, they can be embedded within strings and copied + pasted on most systems. Most NLP models are not trained against these characters, making them  not present in source language dictionaries. Thus, they typically result in an `<unk>` embedded vector."
      ]
    },
    {
      "cell_type": "code",
      "metadata": {
        "colab": {
          "base_uri": "https://localhost:8080/"
        },
        "id": "NgnxrZhEj-bj",
        "outputId": "aae80038-f1c8-409d-def4-36bc3e584dce"
      },
      "source": [
        "# Zero width space\n",
        "ZWSP = chr(0x200B)\n",
        "# Zero width joiner\n",
        "ZWJ = chr(0x200D)\n",
        "# Zero width non-joiner\n",
        "ZWNJ = chr(0x200C)\n",
        "\n",
        "print(f\"{ZWSP}{ZWJ}\")"
      ],
      "execution_count": 10,
      "outputs": [
        {
          "output_type": "stream",
          "text": [
            "​‍\n"
          ],
          "name": "stdout"
        }
      ]
    },
    {
      "cell_type": "code",
      "metadata": {
        "colab": {
          "base_uri": "https://localhost:8080/"
        },
        "id": "KVOpJWHkkaSw",
        "outputId": "c23dda79-6d36-4802-ea16-4af7483793a0"
      },
      "source": [
        "print(f\"This string contains {ZWSP*500}1000{ZWJ*500} invisible characters.\")"
      ],
      "execution_count": null,
      "outputs": [
        {
          "output_type": "stream",
          "text": [
            "This string contains ​​​​​​​​​​​​​​​​​​​​​​​​​​​​​​​​​​​​​​​​​​​​​​​​​​​​​​​​​​​​​​​​​​​​​​​​​​​​​​​​​​​​​​​​​​​​​​​​​​​​​​​​​​​​​​​​​​​​​​​​​​​​​​​​​​​​​​​​​​​​​​​​​​​​​​​​​​​​​​​​​​​​​​​​​​​​​​​​​​​​​​​​​​​​​​​​​​​​​​​​​​​​​​​​​​​​​​​​​​​​​​​​​​​​​​​​​​​​​​​​​​​​​​​​​​​​​​​​​​​​​​​​​​​​​​​​​​​​​​​​​​​​​​​​​​​​​​​​​​​​​​​​​​​​​​​​​​​​​​​​​​​​​​​​​​​​​​​​​​​​​​​​​​​​​​​​​​​​​​​​​​​​​​​​​​​​​​​​​​​​​​​​​​​​​​​​​​​​​​​​​​​​​​​​​​​​​​​​​​​​​​​​​​​​​​​​​​​​​​​​​​​​​​​​​​​​​​​​​​​​​​​​​​​​​​​​​​​​​​​​​​​​​​​​​​​​​​​​​​​​1000‍‍‍‍‍‍‍‍‍‍‍‍‍‍‍‍‍‍‍‍‍‍‍‍‍‍‍‍‍‍‍‍‍‍‍‍‍‍‍‍‍‍‍‍‍‍‍‍‍‍‍‍‍‍‍‍‍‍‍‍‍‍‍‍‍‍‍‍‍‍‍‍‍‍‍‍‍‍‍‍‍‍‍‍‍‍‍‍‍‍‍‍‍‍‍‍‍‍‍‍‍‍‍‍‍‍‍‍‍‍‍‍‍‍‍‍‍‍‍‍‍‍‍‍‍‍‍‍‍‍‍‍‍‍‍‍‍‍‍‍‍‍‍‍‍‍‍‍‍‍‍‍‍‍‍‍‍‍‍‍‍‍‍‍‍‍‍‍‍‍‍‍‍‍‍‍‍‍‍‍‍‍‍‍‍‍‍‍‍‍‍‍‍‍‍‍‍‍‍‍‍‍‍‍‍‍‍‍‍‍‍‍‍‍‍‍‍‍‍‍‍‍‍‍‍‍‍‍‍‍‍‍‍‍‍‍‍‍‍‍‍‍‍‍‍‍‍‍‍‍‍‍‍‍‍‍‍‍‍‍‍‍‍‍‍‍‍‍‍‍‍‍‍‍‍‍‍‍‍‍‍‍‍‍‍‍‍‍‍‍‍‍‍‍‍‍‍‍‍‍‍‍‍‍‍‍‍‍‍‍‍‍‍‍‍‍‍‍‍‍‍‍‍‍‍‍‍‍‍‍‍‍‍‍‍‍‍‍‍‍‍‍‍‍‍‍‍‍‍‍‍‍‍‍‍‍‍‍‍‍‍‍‍‍‍‍‍‍‍‍‍‍‍‍‍‍‍‍‍‍‍‍‍‍‍‍‍‍‍‍‍‍‍‍‍‍‍‍‍‍‍‍‍‍‍‍‍‍‍‍‍‍‍‍‍‍‍‍‍‍‍‍‍‍‍‍‍‍‍‍‍‍‍‍‍‍‍‍‍‍‍‍‍‍‍‍‍‍‍‍‍‍‍‍‍‍‍‍‍‍‍‍‍‍‍‍‍‍‍‍‍‍‍‍‍‍‍‍‍‍‍‍‍‍‍‍‍‍‍‍‍‍‍‍‍‍‍‍‍‍ invisible characters.\n"
          ],
          "name": "stdout"
        }
      ]
    },
    {
      "cell_type": "markdown",
      "metadata": {
        "id": "niuB-qIcaV97"
      },
      "source": [
        "## Homoglyphs\n",
        "\n",
        "The Unicode specification defines several homoglyph documents. The following section retrieves these documents and creates mapping between homoglyph characters."
      ]
    },
    {
      "cell_type": "code",
      "metadata": {
        "id": "4f_QLoIraVM6"
      },
      "source": [
        "import requests\n",
        "\n",
        "confusables = dict()\n",
        "intentionals = dict()\n",
        "\n",
        "# Retrieve Unicode Confusable homoglyph characters\n",
        "conf_resp = requests.get(\"https://www.unicode.org/Public/security/latest/confusables.txt\", stream=True)\n",
        "for line in conf_resp.iter_lines():\n",
        "  if len(line):\n",
        "    line = line.decode('utf-8-sig')\n",
        "    if line[0] != '#':\n",
        "      line = line.replace(\"#*\", \"#\")\n",
        "      _, line = line.split(\"#\", maxsplit=1)\n",
        "      if line[3] not in confusables:\n",
        "        confusables[line[3]] = []\n",
        "      confusables[line[3]].append(line[7])\n",
        "\n",
        "# Retrieve Unicode Intentional homoglyph characters\n",
        "int_resp = requests.get(\"https://www.unicode.org/Public/security/latest/intentional.txt\", stream=True)\n",
        "for line in int_resp.iter_lines():\n",
        "  if len(line):\n",
        "    line = line.decode('utf-8-sig')\n",
        "    if line[0] != '#':\n",
        "      line = line.replace(\"#*\", \"#\")\n",
        "      _, line = line.split(\"#\", maxsplit=1)\n",
        "      if line[3] not in intentionals:\n",
        "        intentionals[line[3]] = []\n",
        "      intentionals[line[3]].append(line[7])"
      ],
      "execution_count": 11,
      "outputs": []
    },
    {
      "cell_type": "markdown",
      "metadata": {
        "id": "mAKEobGSg73m"
      },
      "source": [
        "## Reorderings\n",
        "\n",
        "Unicode Bidirectional (Bidi) Algorithm override characters can be used to render encodeded characters in any order. The following section defines a function which can generate 2^|n| reordered encodings of a given string of length n which are all rendered the same way in any system built on Google's Chromium.\n",
        "\n",
        "This [site](https://www.soscisurvey.de/tools/view-chars.php) can be used to visualize the underlying encoding of the text."
      ]
    },
    {
      "cell_type": "code",
      "metadata": {
        "id": "TyYumqPphwPT"
      },
      "source": [
        "# Unicode Bidi override characters\n",
        "PDF = chr(0x202C)\n",
        "LRE = chr(0x202A)\n",
        "RLE = chr(0x202B)\n",
        "LRO = chr(0x202D)\n",
        "RLO = chr(0x202E)\n",
        "\n",
        "PDI = chr(0x2069)\n",
        "LRI = chr(0x2066)\n",
        "RLI = chr(0x2067)\n",
        "\n",
        "class Swap():\n",
        "    \"\"\"Represents swapped elements in a string of text.\"\"\"\n",
        "    def __init__(self, one, two):\n",
        "        self.one = one\n",
        "        self.two = two\n",
        "    \n",
        "    def __repr__(self):\n",
        "        return f\"Swap({self.one}, {self.two})\"\n",
        "\n",
        "    def __eq__(self, other):\n",
        "        return self.one == other.one and self.two == other.two\n",
        "\n",
        "    def __hash__(self):\n",
        "        return hash((self.one, self.two))\n",
        "\n",
        "def some(*els):\n",
        "    \"\"\"Returns the arguments as a tuple with Nones removed.\"\"\"\n",
        "    return tuple(filter(None, tuple(els)))\n",
        "\n",
        "def swaps(chars: str) -> set:\n",
        "    \"\"\"Generates all possible swaps for a string.\"\"\"\n",
        "    def pairs(chars, pre=(), suf=()):\n",
        "        orders = set()\n",
        "        for i in range(len(chars)-1):\n",
        "            prefix = pre + tuple(chars[:i])\n",
        "            suffix = suf + tuple(chars[i+2:])\n",
        "            swap = Swap(chars[i+1], chars[i])\n",
        "            pair = some(prefix, swap, suffix)\n",
        "            orders.add(pair)\n",
        "            orders.update(pairs(suffix, pre=some(prefix, swap)))\n",
        "            orders.update(pairs(some(prefix, swap), suf=suffix))\n",
        "        return orders\n",
        "    return pairs(chars) | {tuple(chars)}\n",
        "\n",
        "def unswap(el: tuple) -> str:\n",
        "    \"\"\"Reverts a tuple of swaps to the original string.\"\"\"\n",
        "    if isinstance(el, str):\n",
        "        return el\n",
        "    elif isinstance(el, Swap):\n",
        "        return unswap((el.two, el.one))\n",
        "    else:\n",
        "        res = \"\"\n",
        "        for e in el:\n",
        "            res += unswap(e)\n",
        "        return res\n",
        "\n",
        "def uniswap(els):\n",
        "    res = \"\"\n",
        "    for el in els:\n",
        "        if isinstance(el, Swap):\n",
        "            res += uniswap([LRO, LRI, RLO, LRI, el.one, PDI, LRI, el.two, PDI, PDF, PDI, PDF])\n",
        "        elif isinstance(el, str):\n",
        "            res += el\n",
        "        else:\n",
        "            for subel in el:\n",
        "                res += uniswap([subel])\n",
        "    return res\n",
        "\n",
        "def strings_to_file(file, string):\n",
        "  with open(file, 'w') as f:\n",
        "      for swap in swaps(string):\n",
        "          uni = uniswap(swap)\n",
        "          print(uni, file=f)\n",
        "\n",
        "def print_strings(string):\n",
        "  for swap in swaps(string):\n",
        "    uni = uniswap(swap)\n",
        "    print(uni)"
      ],
      "execution_count": 12,
      "outputs": []
    },
    {
      "cell_type": "code",
      "metadata": {
        "id": "9dEzI7xshzhx"
      },
      "source": [
        "# Prove number of permutations = 2^|n|-1\n",
        "string = \"A test string.\"\n",
        "assert(len(swaps(string))) == 2**(len(string)-1)"
      ],
      "execution_count": null,
      "outputs": []
    },
    {
      "cell_type": "code",
      "metadata": {
        "colab": {
          "base_uri": "https://localhost:8080/"
        },
        "id": "hycoxIAwh1zG",
        "outputId": "65f4c039-9905-4416-d2db-ce223d035665"
      },
      "source": [
        "# Print strings\n",
        "print_strings(\"Test\")"
      ],
      "execution_count": null,
      "outputs": [
        {
          "output_type": "stream",
          "text": [
            "Test\n",
            "‭⁦‮⁦e⁩⁦T⁩‬⁩‬‭⁦‮⁦t⁩⁦s⁩‬⁩‬\n",
            "‭⁦‮⁦e⁩⁦T⁩‬⁩‬st\n",
            "‭⁦‮⁦‭⁦‮⁦s⁩⁦e⁩‬⁩‬⁩⁦T⁩‬⁩‬t\n",
            "‭⁦‮⁦‭⁦‮⁦t⁩⁦s⁩‬⁩‬⁩⁦‭⁦‮⁦e⁩⁦T⁩‬⁩‬⁩‬⁩‬\n",
            "Te‭⁦‮⁦t⁩⁦s⁩‬⁩‬\n",
            "‭⁦‮⁦‭⁦‮⁦t⁩⁦s⁩‬⁩‬⁩⁦Te⁩‬⁩‬\n",
            "T‭⁦‮⁦s⁩⁦e⁩‬⁩‬t\n"
          ],
          "name": "stdout"
        }
      ]
    },
    {
      "cell_type": "code",
      "metadata": {
        "id": "PZ9IstF0h6dA"
      },
      "source": [
        "# Save strings to file\n",
        "strings_to_file('reordering_example.txt', \"This is a test.\")"
      ],
      "execution_count": null,
      "outputs": []
    },
    {
      "cell_type": "markdown",
      "metadata": {
        "id": "2T8jtEdBkzTn"
      },
      "source": [
        "## Deletions\n",
        "\n",
        "Unicode control characters used for deleting text can be encoded into strings. Upon rendering, these control characters are actioned and the appropriate surrounding text is not rendered. Yet, NLP models generally still \"see\" the surrounding text."
      ]
    },
    {
      "cell_type": "code",
      "metadata": {
        "colab": {
          "base_uri": "https://localhost:8080/"
        },
        "id": "b-5sEX6PlbDH",
        "outputId": "2544b8f2-4589-4386-be88-562f6eb4659b"
      },
      "source": [
        "# Backspace character\n",
        "BKSP = chr(0x8)\n",
        "# Delete character\n",
        "DEL = chr(0x7F)\n",
        "# Carriage return character\n",
        "CR = chr(0xD)\n",
        "\n",
        "print(f\"{CR}{BKSP}{DEL}\")"
      ],
      "execution_count": 13,
      "outputs": [
        {
          "output_type": "stream",
          "text": [
            "\r\b\n"
          ],
          "name": "stdout"
        }
      ]
    },
    {
      "cell_type": "code",
      "metadata": {
        "colab": {
          "base_uri": "https://localhost:8080/"
        },
        "id": "dwTikss0lGS3",
        "outputId": "95279380-cb15-455b-f6ea-c836d2a4fc27"
      },
      "source": [
        "# Deletion charaters are interesting, as surrounding text isn't visually\n",
        "# rendered, but is \"seen\" by the model\n",
        "inp = f\"father{BKSP*6}\"\n",
        "res = en2fr.encode(inp)\n",
        "print(f\"Input Rendering: '{inp}'\")\n",
        "print(f\"Input Encoding: '{src_decode(res)}'\")\n",
        "print(f\"Output: '{en2fr.translate(inp)}'\")"
      ],
      "execution_count": null,
      "outputs": [
        {
          "output_type": "stream",
          "text": [
            "Input Rendering: 'father\b\b\b\b\b\b'\n",
            "Input Encoding: 'father </s>'\n",
            "Output: 'père'\n"
          ],
          "name": "stdout"
        }
      ]
    },
    {
      "cell_type": "code",
      "metadata": {
        "colab": {
          "base_uri": "https://localhost:8080/"
        },
        "id": "KWxDCKRqltcE",
        "outputId": "59a4b490-8a7f-4fb7-be4f-713810439546"
      },
      "source": [
        "# The carriage return character returns the beginning of the line and\n",
        "# ovewrites it\n",
        "inp = f\"grand{CR}father\"\n",
        "res = en2fr.encode(inp)\n",
        "print(f\"Input Rendering:\\n{inp}\")\n",
        "print(f\"Input Encoding: '{src_decode(res)}'\")\n",
        "print(f\"Output: '{en2fr.translate(inp)}'\")"
      ],
      "execution_count": null,
      "outputs": [
        {
          "output_type": "stream",
          "text": [
            "Input Rendering:\n",
            "grand\rfather\n",
            "Input Encoding: 'grand father </s>'\n",
            "Output: 'grand-père'\n"
          ],
          "name": "stdout"
        }
      ]
    },
    {
      "cell_type": "markdown",
      "metadata": {
        "id": "ojTrDJ1oobLo"
      },
      "source": [
        "## Untargeted Integrity Attacks\n",
        "\n",
        "The performance of various NLP models can be degraded through the use of invisible character, homoglyph, reordering, and deletion attacks. The most effective attacks can be found, independent of the underlying model, using a genetic algorithm."
      ]
    },
    {
      "cell_type": "markdown",
      "metadata": {
        "id": "hpQCNy1ub-xr"
      },
      "source": [
        "### Attack Setup\n",
        "\n",
        "Each attack will be defined as an object and set of contstraints over which a genetic algorithm (differential evolution) will optimize. For these attacks, the visual representation of the input is fixed and the aim of the attack is to determine the imperceptible perturbation for which the supplied model's output will be maximally distant from the output of the unperturbed input.\n",
        "\n",
        "Each attack will be derived from the following Objective abstract class."
      ]
    },
    {
      "cell_type": "code",
      "metadata": {
        "id": "sV06ofK0o8uf"
      },
      "source": [
        "from abc import ABC\n",
        "from typing import List, Tuple, Callable, Dict\n",
        "from fairseq.hub_utils import GeneratorHubInterface\n",
        "from scipy.optimize import NonlinearConstraint, differential_evolution\n",
        "from textdistance import levenshtein\n",
        "import numpy as np\n",
        "\n",
        "\n",
        "class Objective(ABC):\n",
        "  \"\"\" Abstract class representing objectives for scipy's genetic algorithms.\"\"\"\n",
        "\n",
        "  def __init__(self, model: GeneratorHubInterface, input: str, max_perturbs: int, distance: Callable[[str,str],int]):\n",
        "    if not model:\n",
        "      raise ValueError(\"Must supply model.\")\n",
        "    if not input:\n",
        "      raise ValueError(\"Must supply input.\")\n",
        "\n",
        "    self.model: GeneratorHubInterface = model\n",
        "    self.input: str = input\n",
        "    self.max_perturbs: int = max_perturbs\n",
        "    self.distance: Callable[[str,str],int] = distance\n",
        "    self.output = self.model.translate(self.input)\n",
        "\n",
        "  def objective(self) -> Callable[[List[float]], float]:\n",
        "    def _objective(perturbations: List[float]) -> float:\n",
        "      candidate: str = self.candidate(perturbations)\n",
        "      translation: str = self.model.translate(candidate)\n",
        "      return -self.distance(self.output, translation)\n",
        "    return _objective\n",
        "\n",
        "  def differential_evolution(self, print_result=True, verbose=True, maxiter=60, popsize=32, polish=False) -> str:\n",
        "    result = differential_evolution(self.objective(), self.bounds(),\n",
        "                                    disp=verbose, maxiter=maxiter,\n",
        "                                    popsize=popsize, polish=polish)\n",
        "    candidate = self.candidate(result.x)\n",
        "    if (print_result):\n",
        "      print(f\"Result: {candidate}\")\n",
        "      print(f\"Result Distance: {result.fun}\")\n",
        "      print(f\"Perturbation Encoding: {result.x}\")\n",
        "      print(f\"Input Translation: {self.output}\")\n",
        "      print(f\"Result Translation: {self.model.translate(candidate)}\")\n",
        "    return candidate\n",
        "\n",
        "  def bounds(self) -> List[Tuple[float, float]]:\n",
        "    raise NotImplementedError()\n",
        "\n",
        "  def candidate(self, perturbations: List[float]) -> str:\n",
        "    raise NotImplementedError()\n",
        "\n",
        "\n",
        "def natural(x: float) -> int:\n",
        "    \"\"\"Rounds float to the nearest natural number (positive int)\"\"\"\n",
        "    return max(0, round(float(x)))"
      ],
      "execution_count": 14,
      "outputs": []
    },
    {
      "cell_type": "markdown",
      "metadata": {
        "id": "FOrqi94QpY6r"
      },
      "source": [
        "### Machine Translation Attacks\n",
        "\n",
        "These attacks are against the fariseq EN-FR translation model."
      ]
    },
    {
      "cell_type": "markdown",
      "metadata": {
        "id": "q4zUH8lxc2Si"
      },
      "source": [
        "#### Invisible Character Attack\n",
        "\n",
        "The following attack injects the invisible character supplied to create the maximally effective imperceptible perturbation against the supplied visual input and distance metric."
      ]
    },
    {
      "cell_type": "code",
      "metadata": {
        "id": "5httsCzjV2tf"
      },
      "source": [
        "class InvisibleCharacterObjective(Objective):\n",
        "  \"\"\"Class representing an Objective which injects invisible characters.\"\"\"\n",
        "\n",
        "  def __init__(self, model: GeneratorHubInterface, input: str, max_perturbs: int = 25, invisible_chrs: List[str] = [ZWJ,ZWSP,ZWNJ], distance: Callable[[str,str],int] = levenshtein.distance, **kwargs):\n",
        "    super().__init__(model, input, max_perturbs, distance)\n",
        "    self.invisible_chrs: List[str] = invisible_chrs\n",
        "\n",
        "  def bounds(self) -> List[Tuple[float, float]]:\n",
        "    return [(0,len(self.invisible_chrs)-1), (-1, len(self.input)-1)] * self.max_perturbs\n",
        "\n",
        "  def candidate(self, perturbations: List[float]) -> str:\n",
        "    candidate = [char for char in self.input]\n",
        "    for i in range(0, len(perturbations), 2):\n",
        "      inp_index = natural(perturbations[i+1])\n",
        "      if inp_index >= 0:\n",
        "        inv_char = self.invisible_chrs[natural(perturbations[i])]\n",
        "        candidate = candidate[:inp_index] + [inv_char] + candidate[inp_index:]\n",
        "    return ''.join(candidate)"
      ],
      "execution_count": 15,
      "outputs": []
    },
    {
      "cell_type": "code",
      "metadata": {
        "id": "WHpKJa1kYfJ9"
      },
      "source": [
        "# Execute Example Invisible Characters Attack\n",
        "inv_obj = InvisibleCharacterObjective(en2fr, 'Spectacular Wingsuit Jump Over Bogota', max_perturbs=2)\n",
        "inv_result = inv_obj.differential_evolution(maxiter=40, popsize=32)"
      ],
      "execution_count": null,
      "outputs": []
    },
    {
      "cell_type": "markdown",
      "metadata": {
        "id": "qWKtdSnBdTAv"
      },
      "source": [
        "#### Homoglyph Attack\n",
        "\n",
        "This attack replaces characters with homoglyphs to create the maximally effective imperceptible perturbation against the supplied visual input and distance metric."
      ]
    },
    {
      "cell_type": "code",
      "metadata": {
        "id": "MLc8fWVBddkv"
      },
      "source": [
        "class HomoglyphObjective(Objective):\n",
        "\n",
        "  def __init__(self, model: GeneratorHubInterface, input: str, max_perturbs=None, distance: Callable[[str,str],int] = levenshtein.distance, homoglyphs: Dict[str,List[str]] = intentionals, **kwargs):\n",
        "    super().__init__(model, input, max_perturbs, distance)\n",
        "    if not self.max_perturbs:\n",
        "      self.max_perturbs = len(self.input)\n",
        "    self.homoglyphs = homoglyphs\n",
        "    self.glyph_map = []\n",
        "    for i, char in enumerate(self.input):\n",
        "      if char in self.homoglyphs:\n",
        "        charmap = self.homoglyphs[char]\n",
        "        charmap = list(zip([i] * len(charmap), charmap))\n",
        "        self.glyph_map.extend(charmap)\n",
        "\n",
        "  def bounds(self) -> List[Tuple[float, float]]:\n",
        "    return [(-1, len(self.glyph_map)-1)] * self.max_perturbs\n",
        "\n",
        "  def candidate(self, perturbations: List[float]) -> str:\n",
        "    candidate = [char for char in self.input]  \n",
        "    for perturb in map(natural, perturbations):\n",
        "      if perturb >= 0:\n",
        "        i, char = self.glyph_map[perturb]\n",
        "        candidate[i] = char\n",
        "    return ''.join(candidate)"
      ],
      "execution_count": 16,
      "outputs": []
    },
    {
      "cell_type": "code",
      "metadata": {
        "id": "0h2b6fOzwcVg"
      },
      "source": [
        "# Execute Example Homoglyph Attack\n",
        "homo_obj = HomoglyphObjective(en2fr, 'Spectacular Wingsuit Jump Over Bogota', max_perturbs=3)\n",
        "homo_result = homo_obj.differential_evolution(maxiter=5)"
      ],
      "execution_count": null,
      "outputs": []
    },
    {
      "cell_type": "markdown",
      "metadata": {
        "id": "LVUhyYqkdqhS"
      },
      "source": [
        "#### Reordering Attack\n",
        "\n",
        "This attack reorders characters using Unicode Bidi overrides to create the maximally effective imperceptible perturbation against the supplied visual input and distance metric.\n",
        "\n",
        "The reordering patterns used in this attack were designed to be effective against the Bidi implementation used in the Chromium text rendering engine."
      ]
    },
    {
      "cell_type": "code",
      "metadata": {
        "id": "gJ7lK8RDeAb9"
      },
      "source": [
        "class ReorderObjective(Objective):\n",
        "\n",
        "  def __init__(self, model: GeneratorHubInterface, input: str, max_perturbs: int = 50, distance: Callable[[str,str],int] = levenshtein.distance, **kwargs):\n",
        "    super().__init__(model, input, max_perturbs, distance)\n",
        "\n",
        "  def bounds(self) -> List[Tuple[float, float]]:\n",
        "    return [(-1,len(self.input)-1)] * self.max_perturbs\n",
        "\n",
        "  def candidate(self, perturbations: List[float]) -> str:\n",
        "    def swaps(els) -> str:\n",
        "      res = \"\"\n",
        "      for el in els:\n",
        "          if isinstance(el, Swap):\n",
        "              res += swaps([LRO, LRI, RLO, LRI, el.one, PDI, LRI, el.two, PDI, PDF, PDI, PDF])\n",
        "          elif isinstance(el, str):\n",
        "              res += el\n",
        "          else:\n",
        "              for subel in el:\n",
        "                  res += swaps([subel])\n",
        "      return res\n",
        "\n",
        "    _candidate = [char for char in self.input]\n",
        "    for perturb in map(natural, perturbations):\n",
        "      if perturb >= 0 and len(_candidate) >= 2:\n",
        "        perturb = min(perturb, len(_candidate) - 2)\n",
        "        _candidate = _candidate[:perturb] + [Swap(_candidate[perturb+1], _candidate[perturb])] + _candidate[perturb+2:]\n",
        "\n",
        "    return swaps(_candidate)"
      ],
      "execution_count": 17,
      "outputs": []
    },
    {
      "cell_type": "code",
      "metadata": {
        "id": "8mDm9orb2Uvs",
        "colab": {
          "base_uri": "https://localhost:8080/"
        },
        "outputId": "dc1f2570-49da-47b3-ff16-48cf6c0cdc38"
      },
      "source": [
        "# Execute Example Reordering Attack\n",
        "reorder_obj = ReorderObjective(en2fr, 'Spectacular Wingsuit Jump Over Bogota', max_perturbs=2)\n",
        "reorder_result = reorder_obj.differential_evolution(maxiter=5, popsize=5)"
      ],
      "execution_count": null,
      "outputs": [
        {
          "output_type": "stream",
          "text": [
            "differential_evolution step 1: f(x)= -78\n",
            "differential_evolution step 2: f(x)= -80\n",
            "differential_evolution step 3: f(x)= -86\n",
            "differential_evolution step 4: f(x)= -96\n",
            "differential_evolution step 5: f(x)= -140\n",
            "Result: Spectacular Wingsuit Jump Over ‭⁦‮⁦o⁩⁦B⁩‬⁩‬go‭⁦‮⁦a⁩⁦t⁩‬⁩‬\n",
            "Result Distance: -140\n",
            "Perturbation Encoding: [34.6174655  31.19274238]\n",
            "Input Translation: Spectaculaire combinaison pour les ailes sauter au-dessus de Bogota\n",
            "Result Translation: Saut en combinaison à ailes spectaculaire Saut au-dessus d'une combinaison à voilure spectaculaire Saut au-dessus d'une combinaison à voilure spectaculaire Saut au-dessus d'une combinaison à voilure\n"
          ],
          "name": "stdout"
        }
      ]
    },
    {
      "cell_type": "markdown",
      "metadata": {
        "id": "0KoChTfyeR9g"
      },
      "source": [
        "#### Deletion Attack\n",
        "\n",
        "This attack inserts Unicode deletion control characters followed by a supplied character to be deleted to create the maximally effective imperceptible perturbation against the supplied visual input and distance metric."
      ]
    },
    {
      "cell_type": "code",
      "metadata": {
        "id": "7S0ilPknepk-"
      },
      "source": [
        "class DeletionObjective(Objective):\n",
        "  \"\"\"Class representing an Objective which injects deletion control characters.\"\"\"\n",
        "\n",
        "  def __init__(self, model: GeneratorHubInterface, input: str, max_perturbs: int = 100, distance: Callable[[str,str],int] = levenshtein.distance, del_chr: str = BKSP, ins_chr_min: str = '!', ins_chr_max: str = '~', **kwargs):\n",
        "    super().__init__(model, input, max_perturbs, distance)\n",
        "    self.del_chr: str = del_chr\n",
        "    self.ins_chr_min: str = ins_chr_min\n",
        "    self.ins_chr_max: str = ins_chr_max\n",
        "\n",
        "  def bounds(self) -> List[Tuple[float, float]]:\n",
        "    return [(-1,len(self.input)-1), (ord(self.ins_chr_min),ord(self.ins_chr_max))] * self.max_perturbs\n",
        "\n",
        "  def candidate(self, perturbations: List[float]) -> str:\n",
        "    candidate = [char for char in self.input]\n",
        "    for i in range(0, len(perturbations), 2):\n",
        "      idx = natural(perturbations[i])\n",
        "      char = chr(natural(perturbations[i+1]))\n",
        "      candidate = candidate[:idx] + [char, self.del_chr] + candidate[idx:]\n",
        "      for j in range(i,len(perturbations), 2):\n",
        "        perturbations[j] += 2\n",
        "    return ''.join(candidate)"
      ],
      "execution_count": 18,
      "outputs": []
    },
    {
      "cell_type": "code",
      "metadata": {
        "id": "sn3kdpFL7lQt",
        "colab": {
          "base_uri": "https://localhost:8080/"
        },
        "outputId": "f422fe05-9e08-4992-9393-5b369904abf5"
      },
      "source": [
        "# Execute Example Reordering Attack\n",
        "deletion_obj = DeletionObjective(en2fr, \"This is a test\", max_perturbs=2)\n",
        "deletion_result = deletion_obj.differential_evolution(maxiter=10, popsize=10)"
      ],
      "execution_count": null,
      "outputs": [
        {
          "output_type": "stream",
          "text": [
            "differential_evolution step 1: f(x)= -27\n",
            "differential_evolution step 2: f(x)= -28\n",
            "differential_evolution step 3: f(x)= -28\n",
            "differential_evolution step 4: f(x)= -28\n",
            "differential_evolution step 5: f(x)= -28\n",
            "differential_evolution step 6: f(x)= -28\n",
            "differential_evolution step 7: f(x)= -28\n",
            "differential_evolution step 8: f(x)= -28\n",
            "differential_evolution step 9: f(x)= -28\n",
            "Result: Tha\bis is a ta\best\n",
            "Result Distance: -28.0\n",
            "Perturbation Encoding: [12.75208361  3.78647273]\n",
            "Input Translation: Il s'agit d'un test\n",
            "Result Translation: Les Thaïlandais sont les plus avides\n"
          ],
          "name": "stdout"
        }
      ]
    },
    {
      "cell_type": "markdown",
      "metadata": {
        "id": "UZhWWdrNCoo4"
      },
      "source": [
        "#### Attack Performance\n",
        "\n",
        "In this section we plot the results of each of the attacks over pertrubations of fixed sizes."
      ]
    },
    {
      "cell_type": "markdown",
      "metadata": {
        "id": "-LTLMhmDrnae"
      },
      "source": [
        "##### Experiment Setup"
      ]
    },
    {
      "cell_type": "code",
      "metadata": {
        "id": "LA2K7wiy5pYs"
      },
      "source": [
        "# Download EN-FR Test Data\n",
        "!wget -c http://statmt.org/wmt14/test-full.tgz -O - | tar -xz\n",
        "!mv test-full/newstest2014-fren-src.en.sgm .\n",
        "!mv test-full/newstest2014-fren-ref.fr.sgm .\n",
        "!rm -rf test-full/\n",
        "!pip install beautifulsoup4"
      ],
      "execution_count": null,
      "outputs": []
    },
    {
      "cell_type": "code",
      "metadata": {
        "id": "VCY2jD_5ZCF0"
      },
      "source": [
        "# Build source and target mappings for BLEU scoring\n",
        "from bs4 import BeautifulSoup\n",
        "\n",
        "with open('newstest2014-fren-src.en.sgm', 'r') as f:\n",
        "  source_doc = BeautifulSoup(f, 'html.parser')\n",
        "\n",
        "with open('newstest2014-fren-ref.fr.sgm', 'r') as f:\n",
        "  target_doc = BeautifulSoup(f, 'html.parser')\n",
        "\n",
        "source = dict()\n",
        "target = dict()\n",
        "\n",
        "for doc in source_doc.find_all('doc'):\n",
        "  source[str(doc['docid'])] = dict()\n",
        "  for seg in doc.find_all('seg'):\n",
        "    if len(str(seg.string)) < 50:\n",
        "      source[str(doc['docid'])][str(seg['id'])] = str(seg.string)\n",
        "\n",
        "for doc in target_doc.find_all('doc'):\n",
        "  target[str(doc['docid'])] = dict()\n",
        "  for seg in doc.find_all('seg'):\n",
        "    target[str(doc['docid'])][str(seg['id'])] = str(seg.string)"
      ],
      "execution_count": 29,
      "outputs": []
    },
    {
      "cell_type": "code",
      "metadata": {
        "id": "cUcARD7tZeIz"
      },
      "source": [
        "# Experiemnt for testing objectives within sliding perturbation bounds\n",
        "from tqdm.auto import tqdm, trange\n",
        "import pickle\n",
        "\n",
        "def experiment(model, objective, source, perturbs, min_perturb, max_perturb, file, maxiter, popsize):\n",
        "  for i in trange(min_perturb, max_perturb, desc=\"Perturbations\"):\n",
        "    perturbs[str(i)] = dict()\n",
        "    for docid, doc in tqdm(source.items(), leave=False, desc=\"Document\"):\n",
        "      perturbs[str(i)][docid] = dict()\n",
        "      for segid, seg in tqdm(doc.items(), leave=False, desc=\"Sequence\"):\n",
        "        perturbs[str(i)][docid][segid] = objective(en2fr, seg, max_perturbs=i).differential_evolution(print_result=False, verbose=False, maxiter=maxiter, popsize=popsize)\n",
        "        with open(file, 'wb') as f:\n",
        "          pickle.dump(perturbs, f)"
      ],
      "execution_count": 31,
      "outputs": []
    },
    {
      "cell_type": "markdown",
      "metadata": {
        "id": "RGG68eeQrs_r"
      },
      "source": [
        "##### Invisible Character Experiment"
      ]
    },
    {
      "cell_type": "code",
      "metadata": {
        "id": "eZLC46zNZYar"
      },
      "source": [
        "# Invisible Character Experiment\n",
        "\n",
        "# Only consider a subset (65 examples) of the source\n",
        "source_small = { '1016-latimes': source['1016-latimes'], '2327-dailymail.co.uk': source['2327-dailymail.co.uk'] }\n",
        "perturbs = { '0': source_small }\n",
        "\n",
        "experiment(en2fr, InvisibleCharacterObjective, source_small, perturbs, 1, 6, 'invisible_chars.pkl', 5, 16)"
      ],
      "execution_count": null,
      "outputs": []
    },
    {
      "cell_type": "markdown",
      "metadata": {
        "id": "GARk6DVhrwMQ"
      },
      "source": [
        "##### Homoglyph Experiment"
      ]
    },
    {
      "cell_type": "code",
      "metadata": {
        "id": "_5td9xgVYtJH"
      },
      "source": [
        "# Homoglyph Experiment\n",
        "\n",
        "experiment(en2fr, HomoglyphObjective, source_small, perturbs, 1, 6, 'homoglyphs.pkl', 3, 16)"
      ],
      "execution_count": null,
      "outputs": []
    },
    {
      "cell_type": "markdown",
      "metadata": {
        "id": "5P0B_lPKrzqj"
      },
      "source": [
        "##### Reordering Experiment"
      ]
    },
    {
      "cell_type": "code",
      "metadata": {
        "id": "M9_NeJBRbBaj"
      },
      "source": [
        "# Reordering Experiment\n",
        "\n",
        "experiment(en2fr, ReorderObjective, source_small, perturbs, 1, 6, 'reorder.pkl', 3, 16)"
      ],
      "execution_count": null,
      "outputs": []
    },
    {
      "cell_type": "markdown",
      "metadata": {
        "id": "75f0KcFIr3Xf"
      },
      "source": [
        "##### Deletion Experiment"
      ]
    },
    {
      "cell_type": "code",
      "metadata": {
        "id": "WIDOWYCTZELf"
      },
      "source": [
        "# Deletion Experiment\n",
        "\n",
        "experiment(en2fr, DeletionObjective, source_small, perturbs, 1, 6, 'deletion.pkl', 3, 16)"
      ],
      "execution_count": null,
      "outputs": []
    },
    {
      "cell_type": "markdown",
      "metadata": {
        "id": "OSPzj7hCqUil"
      },
      "source": [
        "### MNLI Attacks"
      ]
    },
    {
      "cell_type": "markdown",
      "metadata": {
        "id": "FJUcSFQoq4TH"
      },
      "source": [
        "#### Attack Setup"
      ]
    },
    {
      "cell_type": "code",
      "metadata": {
        "id": "HhCUHc9wD5Kz"
      },
      "source": [
        "!wget https://cims.nyu.edu/~sbowman/multinli/multinli_1.0.zip\n",
        "!unzip multinli_1.0.zip\n",
        "!rm -rf __MACOSX/"
      ],
      "execution_count": null,
      "outputs": []
    },
    {
      "cell_type": "code",
      "metadata": {
        "id": "hDuuIfqeD9Zb"
      },
      "source": [
        "import json\n",
        "with open('multinli_1.0/multinli_1.0_dev_matched.jsonl', 'r') as f:\n",
        "  mnli_test = [json.loads(jline) for jline in f.readlines()]"
      ],
      "execution_count": null,
      "outputs": []
    },
    {
      "cell_type": "code",
      "metadata": {
        "id": "9fp6z8AQJ1xT"
      },
      "source": [
        "# Load pre-trained translation model\n",
        "import torch\n",
        "mnli = torch.hub.load('pytorch/fairseq',\n",
        "                       'roberta.large.mnli').eval().cuda()\n",
        "label_map = {'contradiction': 0, 'neutral': 1, 'entailment': 2}"
      ],
      "execution_count": null,
      "outputs": []
    },
    {
      "cell_type": "code",
      "metadata": {
        "id": "BSuP_CV4LhJB"
      },
      "source": [
        "class MnliObjective():\n",
        "\n",
        "  def __init__(self, model: GeneratorHubInterface, input: str, hypothesis: str, label:int, max_perturbs: int):\n",
        "    if not model:\n",
        "      raise ValueError(\"Must supply model.\")\n",
        "    if not input:\n",
        "      raise ValueError(\"Must supply input.\")\n",
        "    if not hypothesis:\n",
        "      raise ValueError(\"Must supply hypothesis.\")\n",
        "    if label == None:\n",
        "      raise ValueError(\"Must supply label.\")\n",
        "    self.model: GeneratorHubInterface = model\n",
        "    self.input: str = input\n",
        "    self.hypothesis: str = hypothesis\n",
        "    self.label: int = label\n",
        "    self.max_perturbs: int = max_perturbs\n",
        "\n",
        "  def objective(self) -> Callable[[List[float]], float]:\n",
        "    def _objective(perturbations: List[float]) -> float:\n",
        "      candidate: str = self.candidate(perturbations)\n",
        "      tokens = self.model.encode(candidate, self.hypothesis)\n",
        "      predict = self.model.predict('mnli', tokens)\n",
        "      if predict.argmax() != self.label:\n",
        "        return -np.inf\n",
        "      else:\n",
        "        return predict.cpu().detach().numpy()[0][self.label]\n",
        "    return _objective\n",
        "\n",
        "  def differential_evolution(self, print_result=True, verbose=True, maxiter=3, popsize=32, polish=False) -> str:\n",
        "    result = differential_evolution(self.objective(), self.bounds(),\n",
        "                                    disp=verbose, maxiter=maxiter,\n",
        "                                    popsize=popsize, polish=polish)\n",
        "    candidate = self.candidate(result.x)\n",
        "    if (print_result):\n",
        "      print(f\"Result: {candidate}\")\n",
        "      print(f\"Correct Label Prediction: {result.fun}\")\n",
        "      print(f\"Perturbation Encoding: {result.x}\")\n",
        "    return candidate"
      ],
      "execution_count": null,
      "outputs": []
    },
    {
      "cell_type": "markdown",
      "metadata": {
        "id": "ahA_kEqirIYs"
      },
      "source": [
        "#### Invisible Character Attack"
      ]
    },
    {
      "cell_type": "code",
      "metadata": {
        "id": "oHURE2Ueoy_b"
      },
      "source": [
        "class InvisibleCharacterMnliObjective(MnliObjective, InvisibleCharacterObjective):\n",
        "  \n",
        "  def __init__(self, model: GeneratorHubInterface, input: str, hypothesis: str, label:int, max_perturbs: int = 10, invisible_chrs: List[str] = [ZWJ,ZWSP,ZWNJ], **kwargs):\n",
        "    super().__init__(model, input, hypothesis, label, max_perturbs)\n",
        "    self.invisible_chrs = invisible_chrs"
      ],
      "execution_count": null,
      "outputs": []
    },
    {
      "cell_type": "markdown",
      "metadata": {
        "id": "WUP4a9g6rDCO"
      },
      "source": [
        "#### Homoglyph Attack"
      ]
    },
    {
      "cell_type": "code",
      "metadata": {
        "id": "itVYlZ8cWAzT"
      },
      "source": [
        "class HomoglyphMnliObjective(MnliObjective, HomoglyphObjective):\n",
        "  \n",
        "  def __init__(self, model: GeneratorHubInterface, input: str, hypothesis: str, label:int, max_perturbs: int = 10, homoglyphs: Dict[str,List[str]] = intentionals, **kwargs):\n",
        "    super().__init__(model, input, hypothesis, label, max_perturbs)\n",
        "    self.homoglyphs = homoglyphs\n",
        "    self.glyph_map = []\n",
        "    for i, char in enumerate(self.input):\n",
        "      if char in self.homoglyphs:\n",
        "        charmap = self.homoglyphs[char]\n",
        "        charmap = list(zip([i] * len(charmap), charmap))\n",
        "        self.glyph_map.extend(charmap)"
      ],
      "execution_count": null,
      "outputs": []
    },
    {
      "cell_type": "markdown",
      "metadata": {
        "id": "LBTXc26wzXFm"
      },
      "source": [
        "#### Reordering Attack"
      ]
    },
    {
      "cell_type": "code",
      "metadata": {
        "id": "e0dovztEzgOK"
      },
      "source": [
        "class ReorderMnliObjective(MnliObjective, ReorderObjective):\n",
        "  \n",
        "  def __init__(self, model: GeneratorHubInterface, input: str, hypothesis: str, label:int, max_perturbs: int = 10, **kwargs):\n",
        "    super().__init__(model, input, hypothesis, label, max_perturbs)"
      ],
      "execution_count": null,
      "outputs": []
    },
    {
      "cell_type": "markdown",
      "metadata": {
        "id": "AtbaskhQ07Pp"
      },
      "source": [
        "#### Deletion Attack"
      ]
    },
    {
      "cell_type": "code",
      "metadata": {
        "id": "z5ueORGu0-9B"
      },
      "source": [
        "class DeletionMnliObjective(MnliObjective, DeletionObjective):\n",
        "  \n",
        "  def __init__(self, model: GeneratorHubInterface, input: str, hypothesis: str, label:int, max_perturbs: int = 10, del_chr: str = BKSP, ins_chr_min: str = '!', ins_chr_max: str = '~', **kwargs):\n",
        "    super().__init__(model, input, hypothesis, label, max_perturbs)\n",
        "    self.del_chr: str = del_chr\n",
        "    self.ins_chr_min: str = ins_chr_min\n",
        "    self.ins_chr_max: str = ins_chr_max"
      ],
      "execution_count": null,
      "outputs": []
    },
    {
      "cell_type": "markdown",
      "metadata": {
        "id": "LZXEUjBXrZc9"
      },
      "source": [
        "#### Attack Performance"
      ]
    },
    {
      "cell_type": "markdown",
      "metadata": {
        "id": "V3YuRw65sSNs"
      },
      "source": [
        "##### Experiment Setup"
      ]
    },
    {
      "cell_type": "code",
      "metadata": {
        "id": "KJ6D_CRKWhGv"
      },
      "source": [
        "def mnli_experiment(model, objective, data, file, min_budget, max_budget, maxiter, popsize):\n",
        "  perturbs = { '0': data }\n",
        "  for budget in trange(min_budget, max_budget):\n",
        "    perturbs[str(budget)] = dict()\n",
        "    for test in tqdm(data, leave=False):\n",
        "      obj = objective(mnli, test['sentence1'], test['sentence2'], label_map[test['gold_label']])\n",
        "      example = obj.differential_evolution(print_result=False, verbose=False, maxiter=maxiter, popsize=popsize)\n",
        "      perturbs[str(budget)][test['pairID']] = example\n",
        "      with open(file, 'wb') as f:\n",
        "          pickle.dump(perturbs, f)"
      ],
      "execution_count": null,
      "outputs": []
    },
    {
      "cell_type": "markdown",
      "metadata": {
        "id": "FhiXUU3ns7tb"
      },
      "source": [
        "##### Invisible Character Experiment"
      ]
    },
    {
      "cell_type": "code",
      "metadata": {
        "id": "lyDKrYGQs93H"
      },
      "source": [
        "mnli_experiment(mnli, InvisibleCharacterMnliObjective, mnli_test[:20], \"mnli_invisible_chars.pkl\", 1, 6, 3, 16)"
      ],
      "execution_count": null,
      "outputs": []
    },
    {
      "cell_type": "markdown",
      "metadata": {
        "id": "otR1as3grcYd"
      },
      "source": [
        "##### Homoglyph Experiment"
      ]
    },
    {
      "cell_type": "code",
      "metadata": {
        "id": "sVYje4ImdWcV"
      },
      "source": [
        "mnli_experiment(mnli, HomoglyphMnliObjective, mnli_test[:20], \"mnli_homoglyphs.pkl\", 1, 6, 3, 16)"
      ],
      "execution_count": null,
      "outputs": []
    },
    {
      "cell_type": "markdown",
      "metadata": {
        "id": "ybl3kRdo0gjc"
      },
      "source": [
        "##### Reordering Experiment"
      ]
    },
    {
      "cell_type": "code",
      "metadata": {
        "id": "tzNJAO0t0jfI"
      },
      "source": [
        "mnli_experiment(mnli, ReorderMnliObjective, mnli_test[:20], \"mnli_reorder.pkl\", 1, 6, 3, 16)"
      ],
      "execution_count": null,
      "outputs": []
    },
    {
      "cell_type": "markdown",
      "metadata": {
        "id": "ROInHhWz0wL7"
      },
      "source": [
        "##### Deletion Experiment"
      ]
    },
    {
      "cell_type": "code",
      "metadata": {
        "id": "Q5tHz73o0ykV"
      },
      "source": [
        "mnli_experiment(mnli, DeletionMnliObjective, mnli_test[:20], \"mnli_deletion.pkl\", 1, 6, 3, 16)"
      ],
      "execution_count": null,
      "outputs": []
    },
    {
      "cell_type": "markdown",
      "metadata": {
        "id": "liHy1goUpqO3"
      },
      "source": [
        "### IBM Toxic Content Classifier Attack\n",
        "\n",
        "Untargeted integrity attacks on the open source IBM Toxic Content filter. Details of the model are available [here](https://github.com/IBM/MAX-Toxic-Comment-Classifier)."
      ]
    },
    {
      "cell_type": "markdown",
      "metadata": {
        "id": "RBvdr71kcVV4"
      },
      "source": [
        "####Attack Setup"
      ]
    },
    {
      "cell_type": "code",
      "metadata": {
        "id": "oQY-OxCpnVQp"
      },
      "source": [
        "%%writefile install-apex.sh\n",
        "\n",
        "export CUDA_HOME=/usr/local/cuda-10.1\n",
        "git clone https://github.com/NVIDIA/apex\n",
        "pip install -v --no-cache-dir --global-option=\"--cpp_ext\" --global-option=\"--cuda_ext\" \\\n",
        "  --global-option=\"--deprecated_fused_adam\" --global-option=\"--xentropy\" \\\n",
        "  --global-option=\"--fast_multihead_attn\" ./apex"
      ],
      "execution_count": null,
      "outputs": []
    },
    {
      "cell_type": "code",
      "metadata": {
        "id": "shw_r8dtpjb-"
      },
      "source": [
        "!sh install-apex.sh\n",
        "!rm -rf assets/\n",
        "!rm -rf toxic/\n",
        "!mkdir assets\n",
        "!wget https://max-cdn.cdn.appdomain.cloud/max-toxic-comment-classifier/1.0.0/assets.tar.gz --output-document=assets/assets.tar.gz\n",
        "!tar -x -C assets/ -f assets/assets.tar.gz -v\n",
        "!rm assets/assets.tar.gz\n",
        "!git clone https://github.com/IBM/MAX-Toxic-Comment-Classifier.git\n",
        "!mv MAX-Toxic-Comment-Classifier toxic\n",
        "!sed -i 's/==.*//g' toxic/requirements.txt\n",
        "!pip install -r toxic/requirements.txt\n",
        "!pip install maxfw\n",
        "!sed -i 's/from config/from ..config/g' toxic/core/model.py\n",
        "!sed -i 's/from core\\./from ./g' toxic/core/model.py"
      ],
      "execution_count": null,
      "outputs": []
    },
    {
      "cell_type": "code",
      "metadata": {
        "id": "trYwPFSJqaoJ"
      },
      "source": [
        "from toxic.core.model import ModelWrapper\n",
        "from logging import getLogger, WARNING\n",
        "import torch\n",
        "getLogger().setLevel(WARNING)\n",
        "toxic = ModelWrapper()\n",
        "if torch.cuda.is_available():\n",
        "  toxic.model.cuda()\n",
        "  toxic.device = torch.device(\"cuda\")"
      ],
      "execution_count": null,
      "outputs": []
    },
    {
      "cell_type": "code",
      "metadata": {
        "id": "JnSXFbJLqDcL"
      },
      "source": [
        "class ToxicObjective(ABC):\n",
        "  \"\"\" Toxic content filter objective. \"\"\"\n",
        "\n",
        "  def __init__(self, model, input: str, max_perturbs: int):\n",
        "    if not model:\n",
        "      raise ValueError(\"Must supply model.\")\n",
        "    if not input:\n",
        "      raise ValueError(\"Must supply input.\")\n",
        "\n",
        "    self.model = model\n",
        "    self.input: str = input\n",
        "    self.max_perturbs: int = max_perturbs\n",
        "    self.output = self.model.predict([self.input])[0]\n",
        "\n",
        "  def objective(self) -> Callable[[List[float]], float]:\n",
        "    def _objective(perturbations: List[float]) -> float:\n",
        "      candidate: str = self.candidate(perturbations)\n",
        "      predicts: str = self.model.predict([candidate])[0]\n",
        "      return sum(predicts.values())\n",
        "    return _objective\n",
        "\n",
        "  def differential_evolution(self, print_result=True, verbose=True, maxiter=60, popsize=32, polish=False) -> str:\n",
        "    result = differential_evolution(self.objective(), self.bounds(),\n",
        "                                    disp=verbose, maxiter=maxiter,\n",
        "                                    popsize=popsize, polish=polish)\n",
        "    candidate = self.candidate(result.x)\n",
        "    if (print_result):\n",
        "      print(f\"Result: {candidate}\")\n",
        "      print(f\"Result Predictions: {self.model.predict([candidate])[0]}\")\n",
        "      print(f\"Input: {self.input}\")\n",
        "      print(f\"Input Predictions: {self.output}\")\n",
        "    return candidate\n",
        "\n",
        "  def bounds(self) -> List[Tuple[float, float]]:\n",
        "    raise NotImplementedError()\n",
        "\n",
        "  def candidate(self, perturbations: List[float]) -> str:\n",
        "    raise NotImplementedError()"
      ],
      "execution_count": 6,
      "outputs": []
    },
    {
      "cell_type": "markdown",
      "metadata": {
        "id": "Cj0z23zRcdCj"
      },
      "source": [
        "####Invisible Character Attack"
      ]
    },
    {
      "cell_type": "code",
      "metadata": {
        "id": "fTKjWAOXr1eC"
      },
      "source": [
        "class InvisibleToxicObjective(ToxicObjective):\n",
        "  \"\"\"Class representing a Toxic Objective which injects invisible characters.\"\"\"\n",
        "\n",
        "  def __init__(self, model, input: str, max_perturbs: int = 25, invisible_chrs: List[str] = [ZWJ,ZWSP,ZWNJ], **kwargs):\n",
        "    super().__init__(model, input, max_perturbs)\n",
        "    self.invisible_chrs: List[str] = invisible_chrs\n",
        "\n",
        "  def bounds(self) -> List[Tuple[float, float]]:\n",
        "    return [(0,len(self.invisible_chrs)-1), (-1, len(self.input)-1)] * self.max_perturbs\n",
        "\n",
        "  def candidate(self, perturbations: List[float]) -> str:\n",
        "    candidate = [char for char in self.input]\n",
        "    for i in range(0, len(perturbations), 2):\n",
        "      inp_index = natural(perturbations[i+1])\n",
        "      if inp_index >= 0:\n",
        "        inv_char = self.invisible_chrs[natural(perturbations[i])]\n",
        "        candidate = candidate[:inp_index] + [inv_char] + candidate[inp_index:]\n",
        "    return ''.join(candidate)"
      ],
      "execution_count": null,
      "outputs": []
    },
    {
      "cell_type": "markdown",
      "metadata": {
        "id": "Huz3PXKmclF6"
      },
      "source": [
        "####Homoglyph Attack"
      ]
    },
    {
      "cell_type": "code",
      "metadata": {
        "id": "0eRJQTlczC8-"
      },
      "source": [
        "class HomoglyphToxicObjective(ToxicObjective):\n",
        "  \"\"\"Class representing a Toxic Objective which injects homoglyphs.\"\"\"\n",
        "\n",
        "  def __init__(self, model, input: str, max_perturbs: int = 25, homoglyphs: Dict[str,List[str]] = intentionals, **kwargs):\n",
        "    super().__init__(model, input, max_perturbs)\n",
        "    self.homoglyphs = homoglyphs\n",
        "    self.glyph_map = []\n",
        "    for i, char in enumerate(self.input):\n",
        "      if char in self.homoglyphs:\n",
        "        charmap = self.homoglyphs[char]\n",
        "        charmap = list(zip([i] * len(charmap), charmap))\n",
        "        self.glyph_map.extend(charmap)\n",
        "\n",
        "  def bounds(self) -> List[Tuple[float, float]]:\n",
        "    return [(-1, len(self.glyph_map)-1)] * self.max_perturbs\n",
        "\n",
        "  def candidate(self, perturbations: List[float]) -> str:\n",
        "    candidate = [char for char in self.input]  \n",
        "    for perturb in map(natural, perturbations):\n",
        "      if perturb >= 0:\n",
        "        i, char = self.glyph_map[perturb]\n",
        "        candidate[i] = char\n",
        "    return ''.join(candidate)"
      ],
      "execution_count": null,
      "outputs": []
    },
    {
      "cell_type": "markdown",
      "metadata": {
        "id": "1azYN4TvcoHA"
      },
      "source": [
        "####Reordering Attack"
      ]
    },
    {
      "cell_type": "code",
      "metadata": {
        "id": "wUukYyIo4Y-w"
      },
      "source": [
        "class ReorderToxicObjective(ToxicObjective):\n",
        "  \"\"\"Class representing a Toxic Objective which injects homoglyphs.\"\"\"\n",
        "\n",
        "  def __init__(self, model, input: str, max_perturbs: int = 25, **kwargs):\n",
        "    super().__init__(model, input, max_perturbs)\n",
        "\n",
        "  def bounds(self) -> List[Tuple[float, float]]:\n",
        "    return [(-1,len(self.input)-1)] * self.max_perturbs\n",
        "\n",
        "  def candidate(self, perturbations: List[float]) -> str:\n",
        "    def swaps(els) -> str:\n",
        "      res = \"\"\n",
        "      for el in els:\n",
        "          if isinstance(el, Swap):\n",
        "              res += swaps([LRO, LRI, RLO, LRI, el.one, PDI, LRI, el.two, PDI, PDF, PDI, PDF])\n",
        "          elif isinstance(el, str):\n",
        "              res += el\n",
        "          else:\n",
        "              for subel in el:\n",
        "                  res += swaps([subel])\n",
        "      return res\n",
        "\n",
        "    _candidate = [char for char in self.input]\n",
        "    for perturb in map(natural, perturbations):\n",
        "      if perturb >= 0 and len(_candidate) >= 2:\n",
        "        perturb = min(perturb, len(_candidate) - 2)\n",
        "        _candidate = _candidate[:perturb] + [Swap(_candidate[perturb+1], _candidate[perturb])] + _candidate[perturb+2:]\n",
        "\n",
        "    return swaps(_candidate)"
      ],
      "execution_count": null,
      "outputs": []
    },
    {
      "cell_type": "markdown",
      "metadata": {
        "id": "ttx3qq3YcsKg"
      },
      "source": [
        "####Deletion Attack"
      ]
    },
    {
      "cell_type": "code",
      "metadata": {
        "id": "aaqjcAw51Zoh"
      },
      "source": [
        "class DeletionToxicObjective(ToxicObjective):\n",
        "  \"\"\"Class representing a Toxic Objective which injects homoglyphs.\"\"\"\n",
        "\n",
        "  def __init__(self, model, input: str, max_perturbs: int = 25, del_chr: str = BKSP, ins_chr_min: str = '!', ins_chr_max: str = '~', **kwargs):\n",
        "    super().__init__(model, input, max_perturbs)\n",
        "    self.del_chr = del_chr\n",
        "    self.ins_chr_min: str = ins_chr_min\n",
        "    self.ins_chr_max: str = ins_chr_max\n",
        "\n",
        "  def bounds(self) -> List[Tuple[float, float]]:\n",
        "    return [(-1,len(self.input)-1), (ord(self.ins_chr_min),ord(self.ins_chr_max))] * self.max_perturbs\n",
        "\n",
        "  def candidate(self, perturbations: List[float]) -> str:\n",
        "    candidate = [char for char in self.input]\n",
        "    for i in range(0, len(perturbations), 2):\n",
        "      idx = natural(perturbations[i])\n",
        "      char = chr(natural(perturbations[i+1]))\n",
        "      candidate = candidate[:idx] + [char, self.del_chr] + candidate[idx:]\n",
        "      for j in range(i,len(perturbations), 2):\n",
        "        perturbations[j] += 2\n",
        "    return ''.join(candidate)"
      ],
      "execution_count": null,
      "outputs": []
    },
    {
      "cell_type": "markdown",
      "metadata": {
        "id": "0_a4EYc-dIoa"
      },
      "source": [
        "####Attack Performance"
      ]
    },
    {
      "cell_type": "markdown",
      "metadata": {
        "id": "Px2TEaeAdKyj"
      },
      "source": [
        "#####Experiment Setup"
      ]
    },
    {
      "cell_type": "code",
      "metadata": {
        "id": "nLh91qBHdYsQ"
      },
      "source": [
        "# Data set details: https://meta.wikimedia.org/wiki/Research:Detox/Data_Release\n",
        "!wget https://ndownloader.figshare.com/files/7394542 -O toxicity_annotated_comments.tsv\n",
        "!wget https://ndownloader.figshare.com/files/7394539 -O toxicity_annotations.tsv"
      ],
      "execution_count": null,
      "outputs": []
    },
    {
      "cell_type": "code",
      "metadata": {
        "id": "7sEUA5b7dNuR"
      },
      "source": [
        "# Load Test Data\n",
        "import pandas as pd\n",
        "\n",
        "# load tsv files\n",
        "comments = pd.read_csv('toxicity_annotated_comments.tsv', sep = '\\t', index_col = 0)\n",
        "annotations = pd.read_csv('toxicity_annotations.tsv',  sep = '\\t')\n",
        "# labels a comment as toxic if the majority of annoatators did so\n",
        "labels = annotations.groupby('rev_id')['toxicity'].mean() > 0.5\n",
        "# join labels and comments\n",
        "comments['toxicity'] = labels\n",
        "# remove newline and tab tokens\n",
        "comments['comment'] = comments['comment'].apply(lambda x: x.replace(\"NEWLINE_TOKEN\", \" \"))\n",
        "comments['comment'] = comments['comment'].apply(lambda x: x.replace(\"TAB_TOKEN\", \" \"))\n",
        "test_comments = comments.query(\"split=='test'\").query(\"toxicity==True\")\n",
        "examples = test_comments.reset_index().to_dict('records')"
      ],
      "execution_count": null,
      "outputs": []
    },
    {
      "cell_type": "code",
      "metadata": {
        "id": "xEl8dd1Hd6dx"
      },
      "source": [
        "def max_toxic_experiment(objective, model, file, min_budget, max_budget, examples, maxiter, popsize):\n",
        "  perturbs = { '0': examples }\n",
        "  with tqdm(total=len(examples)*(max_budget-min_budget+1), desc=\"Adv. Examples\") as pbar:\n",
        "    for budget in range(min_budget, max_budget+1):\n",
        "      perturbs[str(budget)] = dict()\n",
        "      for example in examples:\n",
        "        obj = objective(model, example['comment'], example['toxicity'], budget)\n",
        "        result = obj.differential_evolution(verbose=False, print_result=False, maxiter=maxiter, popsize=popsize)\n",
        "        perturbs[str(budget)][example['rev_id']] = result\n",
        "        with open(file, 'wb') as f:\n",
        "          pickle.dump(perturbs, f)\n",
        "        pbar.update(1)"
      ],
      "execution_count": null,
      "outputs": []
    },
    {
      "cell_type": "markdown",
      "metadata": {
        "id": "WKN3aagLefBE"
      },
      "source": [
        "#####Invisible Character Experiment"
      ]
    },
    {
      "cell_type": "code",
      "metadata": {
        "id": "27j2KA6xejSj"
      },
      "source": [
        "max_toxic_experiment(InvisibleToxicObjective, toxic, 'maxtoxic_invisibles_small.pkl',\n",
        "                     1, 5, examples[:20], 3, 32)"
      ],
      "execution_count": null,
      "outputs": []
    },
    {
      "cell_type": "markdown",
      "metadata": {
        "id": "VOLTfJfWev54"
      },
      "source": [
        "#####Homoglyph Experiment"
      ]
    },
    {
      "cell_type": "code",
      "metadata": {
        "id": "3uLkmnwceyhH"
      },
      "source": [
        "max_toxic_experiment(HomoglyphToxicObjective, toxic, 'maxtoxic_homoglyphs_small.pkl',\n",
        "                     1, 5, examples[:20], 3, 32)"
      ],
      "execution_count": null,
      "outputs": []
    },
    {
      "cell_type": "markdown",
      "metadata": {
        "id": "D0YcfYESe68q"
      },
      "source": [
        "#####Reordering Experiment"
      ]
    },
    {
      "cell_type": "code",
      "metadata": {
        "id": "G6sRZz-ne8-M"
      },
      "source": [
        "max_toxic_experiment(ReorderToxicObjective, toxic, 'maxtoxic_reorderings_small.pkl',\n",
        "                     1, 5, examples[:20], 3, 32)"
      ],
      "execution_count": null,
      "outputs": []
    },
    {
      "cell_type": "markdown",
      "metadata": {
        "id": "bePiLWNVfHq0"
      },
      "source": [
        "#####Deletion Experiment"
      ]
    },
    {
      "cell_type": "code",
      "metadata": {
        "id": "R2DNWYOsfJZh"
      },
      "source": [
        "max_toxic_experiment(DeletionToxicObjective, toxic, 'maxtoxic_deletions_small.pkl',\n",
        "                     1, 5, examples[:20], 3, 32)"
      ],
      "execution_count": null,
      "outputs": []
    },
    {
      "cell_type": "markdown",
      "metadata": {
        "id": "eWMkPcYAgqPC"
      },
      "source": [
        "###Perspective API Toxic Content Classifier Attack\n",
        "\n",
        "Perspective API is a toxic content classifier offered by Google. Details are available [here](https://www.perspectiveapi.com/). You will need to register and get an API key to run these experiments."
      ]
    },
    {
      "cell_type": "markdown",
      "metadata": {
        "id": "JHm1CbmxhtDU"
      },
      "source": [
        "####Attack Setup"
      ]
    },
    {
      "cell_type": "code",
      "metadata": {
        "id": "zEBDaEjEgvM8"
      },
      "source": [
        "import time\n",
        "\n",
        "class ToxicPerspectiveObjective(ABC):\n",
        "  \"\"\"Class representing attacks against Google's toxic language Perspective API.\"\"\"\n",
        "\n",
        "  def __init__(self, client, input: str, max_perturbs: int, annotated_toxic: bool):\n",
        "    if not client:\n",
        "      raise ValueError(\"Must supply client.\")\n",
        "    if not input:\n",
        "      raise ValueError(\"Must supply input.\")\n",
        "\n",
        "    self.client = client\n",
        "    self.input: str = input\n",
        "    self.max_perturbs: int = max_perturbs\n",
        "    self.annotated_toxic = annotated_toxic\n",
        "    self.last_request = time.time()\n",
        "    # Perspective API rate limit in seconds\n",
        "    self.rate_limit = 0.105\n",
        "    self.output = self.request(input)\n",
        "\n",
        "  def request(self, candidate: str):\n",
        "    delta = time.time() - self.last_request\n",
        "    if delta < self.rate_limit:\n",
        "      time.sleep(self.rate_limit - delta)\n",
        "    self.last_request = time.time()\n",
        "    analyze_request = {\n",
        "        'comment': { 'text': candidate },\n",
        "        'requestedAttributes': {'TOXICITY': {}},\n",
        "        'languages': 'en',\n",
        "      }\n",
        "    response = self.client.comments().analyze(body=analyze_request).execute()\n",
        "    return response['attributeScores']['TOXICITY']['summaryScore']['value']\n",
        "\n",
        "  def objective(self) -> Callable[[List[float]], float]:\n",
        "    def _objective(perturbations: List[float]) -> float:\n",
        "      candidate: str = self.candidate(perturbations)\n",
        "      return self.request(candidate)\n",
        "    return _objective\n",
        "    \n",
        "  def differential_evolution(self, print_result=True, verbose=True, maxiter=60, popsize=32, polish=False) -> str:\n",
        "    start = time.process_time()\n",
        "    result = differential_evolution(self.objective(), self.bounds(),\n",
        "                                    disp=verbose, maxiter=maxiter,\n",
        "                                    popsize=popsize, polish=polish)\n",
        "    end = time.process_time()\n",
        "    candidate = self.candidate(result.x)\n",
        "    adv_output = self.request(candidate)\n",
        "    if (print_result):\n",
        "      print(f\"Result: {candidate}\")\n",
        "      print(f\"Result Predictions: {adv_output}\")\n",
        "      print(f\"Input: {self.input}\")\n",
        "      print(f\"Input Predictions: {self.output}\")\n",
        "    return candidate\n",
        "\n",
        "  def bounds(self) -> List[Tuple[float, float]]:\n",
        "    raise NotImplementedError()\n",
        "\n",
        "  def candidate(self, perturbations: List[float]) -> str:\n",
        "    raise NotImplementedError()"
      ],
      "execution_count": null,
      "outputs": []
    },
    {
      "cell_type": "code",
      "metadata": {
        "id": "U27BfSX8iUNi"
      },
      "source": [
        "from googleapiclient.discovery_cache.base import Cache\n",
        "from googleapiclient import discovery\n",
        "from getpass import getpass\n",
        "import json\n",
        "\n",
        "\n",
        "class MemoryCache(Cache):\n",
        "    _CACHE = {}\n",
        "\n",
        "    def get(self, url):\n",
        "        return MemoryCache._CACHE.get(url)\n",
        "\n",
        "    def set(self, url, content):\n",
        "        MemoryCache._CACHE[url] = content\n",
        "\n",
        "\n",
        "perspective = discovery.build(\n",
        "  \"commentanalyzer\",\n",
        "  \"v1alpha1\",\n",
        "  developerKey=getpass(\"Perspective API Key: \"),\n",
        "  discoveryServiceUrl=\"https://commentanalyzer.googleapis.com/$discovery/rest?version=v1alpha1\",\n",
        "  cache=MemoryCache()\n",
        ")"
      ],
      "execution_count": null,
      "outputs": []
    },
    {
      "cell_type": "markdown",
      "metadata": {
        "id": "foj9aQhJhwhh"
      },
      "source": [
        "####Invisisble Character Attack"
      ]
    },
    {
      "cell_type": "code",
      "metadata": {
        "id": "q4OJr7z0heyQ"
      },
      "source": [
        "class InvisibleToxicPerspectiveObjective(ToxicPerspectiveObjective):\n",
        "  \"\"\"Class representing a Toxic Perspective API Objective which injects invisible characters.\"\"\"\n",
        "\n",
        "  def __init__(self, client, input: str, annotated_toxic: bool, max_perturbs: int = 25, invisible_chrs: List[str] = [ZWJ,ZWSP,ZWNJ], **kwargs):\n",
        "    super().__init__(client, input, max_perturbs, annotated_toxic)\n",
        "    self.invisible_chrs: List[str] = invisible_chrs\n",
        "\n",
        "  def bounds(self) -> List[Tuple[float, float]]:\n",
        "    return [(0,len(self.invisible_chrs)-1), (-1, len(self.input)-1)] * self.max_perturbs\n",
        "\n",
        "  def candidate(self, perturbations: List[float]) -> str:\n",
        "    candidate = [char for char in self.input]\n",
        "    for i in range(0, len(perturbations), 2):\n",
        "      inp_index = natural(perturbations[i+1])\n",
        "      if inp_index >= 0:\n",
        "        inv_char = self.invisible_chrs[natural(perturbations[i])]\n",
        "        candidate = candidate[:inp_index] + [inv_char] + candidate[inp_index:]\n",
        "    return ''.join(candidate)"
      ],
      "execution_count": null,
      "outputs": []
    },
    {
      "cell_type": "markdown",
      "metadata": {
        "id": "PJSHTaCah4Yn"
      },
      "source": [
        "####Homoglyph Attack"
      ]
    },
    {
      "cell_type": "code",
      "metadata": {
        "id": "Qq-91FhBhjWp"
      },
      "source": [
        "class HomoglyphToxicPerspectiveObjective(ToxicPerspectiveObjective):\n",
        "  \"\"\"Class representing a Toxic Perspective API Objective which injects homoglyphs.\"\"\"\n",
        "\n",
        "  def __init__(self, client, input: str, annotated_toxic: bool, max_perturbs: int = 25, homoglyphs: Dict[str,List[str]] = intentionals, **kwargs):\n",
        "    super().__init__(client, input, max_perturbs, annotated_toxic)\n",
        "    self.homoglyphs = homoglyphs\n",
        "    self.glyph_map = []\n",
        "    for i, char in enumerate(self.input):\n",
        "      if char in self.homoglyphs:\n",
        "        charmap = self.homoglyphs[char]\n",
        "        charmap = list(zip([i] * len(charmap), charmap))\n",
        "        self.glyph_map.extend(charmap)\n",
        "\n",
        "  def bounds(self) -> List[Tuple[float, float]]:\n",
        "    return [(-1, len(self.glyph_map)-1)] * self.max_perturbs\n",
        "\n",
        "  def candidate(self, perturbations: List[float]) -> str:\n",
        "    candidate = [char for char in self.input]  \n",
        "    for perturb in map(natural, perturbations):\n",
        "      if perturb >= 0:\n",
        "        i, char = self.glyph_map[perturb]\n",
        "        candidate[i] = char\n",
        "    return ''.join(candidate)"
      ],
      "execution_count": null,
      "outputs": []
    },
    {
      "cell_type": "markdown",
      "metadata": {
        "id": "SSb4C5-bh5Db"
      },
      "source": [
        "####Reordering Attack"
      ]
    },
    {
      "cell_type": "code",
      "metadata": {
        "id": "0r4iHv7mhnSy"
      },
      "source": [
        "class ReorderToxicPerspectiveObjective(ToxicPerspectiveObjective):\n",
        "  \"\"\"Class representing a Toxic Perspective API Objective which injects reorderings.\"\"\"\n",
        "\n",
        "  def __init__(self, client, input: str, annotated_toxic: bool, max_perturbs: int = 25, **kwargs):\n",
        "    super().__init__(client, input, max_perturbs, annotated_toxic)\n",
        "\n",
        "  def bounds(self) -> List[Tuple[float, float]]:\n",
        "    return [(-1,len(self.input)-1)] * self.max_perturbs\n",
        "\n",
        "  def candidate(self, perturbations: List[float]) -> str:\n",
        "    def swaps(els) -> str:\n",
        "      res = \"\"\n",
        "      for el in els:\n",
        "          if isinstance(el, Swap):\n",
        "              res += swaps([LRO, LRI, RLO, LRI, el.one, PDI, LRI, el.two, PDI, PDF, PDI, PDF])\n",
        "          elif isinstance(el, str):\n",
        "              res += el\n",
        "          else:\n",
        "              for subel in el:\n",
        "                  res += swaps([subel])\n",
        "      return res\n",
        "\n",
        "    _candidate = [char for char in self.input]\n",
        "    for perturb in map(natural, perturbations):\n",
        "      if perturb >= 0 and len(_candidate) >= 2:\n",
        "        perturb = min(perturb, len(_candidate) - 2)\n",
        "        _candidate = _candidate[:perturb] + [Swap(_candidate[perturb+1], _candidate[perturb])] + _candidate[perturb+2:]\n",
        "\n",
        "    return swaps(_candidate)"
      ],
      "execution_count": null,
      "outputs": []
    },
    {
      "cell_type": "markdown",
      "metadata": {
        "id": "QOMvgRCch7d1"
      },
      "source": [
        "####Deletion Attack"
      ]
    },
    {
      "cell_type": "code",
      "metadata": {
        "id": "hz64TGa8hqpR"
      },
      "source": [
        "class DeletionToxicPerspectiveObjective(ToxicPerspectiveObjective):\n",
        "  \"\"\"Class representing a Toxic Perspective API Objective which injects deletions.\"\"\"\n",
        "\n",
        "  def __init__(self, client, input: str, annotated_toxic: bool, max_perturbs: int = 25, del_chr: str = BKSP, ins_chr_min: str = '!', ins_chr_max: str = '~', **kwargs):\n",
        "    super().__init__(client, input, max_perturbs, annotated_toxic)\n",
        "    self.del_chr = del_chr\n",
        "    self.ins_chr_min: str = ins_chr_min\n",
        "    self.ins_chr_max: str = ins_chr_max\n",
        "\n",
        "  def bounds(self) -> List[Tuple[float, float]]:\n",
        "    return [(-1,len(self.input)-1), (ord(self.ins_chr_min),ord(self.ins_chr_max))] * self.max_perturbs\n",
        "\n",
        "  def candidate(self, perturbations: List[float]) -> str:\n",
        "    candidate = [char for char in self.input]\n",
        "    for i in range(0, len(perturbations), 2):\n",
        "      idx = natural(perturbations[i])\n",
        "      char = chr(natural(perturbations[i+1]))\n",
        "      candidate = candidate[:idx] + [char, self.del_chr] + candidate[idx:]\n",
        "      for j in range(i,len(perturbations), 2):\n",
        "        perturbations[j] += 2\n",
        "    return ''.join(candidate)"
      ],
      "execution_count": null,
      "outputs": []
    },
    {
      "cell_type": "markdown",
      "metadata": {
        "id": "2KCcthdqh-Uc"
      },
      "source": [
        "####Attack Performance"
      ]
    },
    {
      "cell_type": "markdown",
      "metadata": {
        "id": "nOwFLLSyiBep"
      },
      "source": [
        "#####Experiment Setup"
      ]
    },
    {
      "cell_type": "code",
      "metadata": {
        "id": "S4XtOrObiEi9"
      },
      "source": [
        "def perspective_experiment(objective, client, file, min_budget, max_budget, examples, maxiter, popsize):\n",
        "  perturbs = { '0': examples }\n",
        "  with tqdm(total=len(examples)*(max_budget-min_budget+1), desc=\"Adv. Examples\") as pbar:\n",
        "    for budget in range(min_budget, max_budget+1):\n",
        "      perturbs[str(budget)] = dict()\n",
        "      for example in examples:\n",
        "        obj = objective(client, example['comment'], budget)\n",
        "        result = obj.differential_evolution(verbose=False, print_result=False, maxiter=maxiter, popsize=popsize)\n",
        "        perturbs[str(budget)][example['rev_id']] = result\n",
        "        with open(file, 'wb') as f:\n",
        "          pickle.dump(perturbs, f)\n",
        "        pbar.update(1)"
      ],
      "execution_count": null,
      "outputs": []
    },
    {
      "cell_type": "markdown",
      "metadata": {
        "id": "BCRJ0kn2jFnv"
      },
      "source": [
        "#####Invisible Character Experiment"
      ]
    },
    {
      "cell_type": "code",
      "metadata": {
        "id": "bTaykNLhjJd7"
      },
      "source": [
        "perspective_experiment(InvisibleToxicPerspectiveObjective, perspective, 'perspective_invisibles_small_20.pkl',\n",
        "                       1, 5, examples[:20], 3, 32)"
      ],
      "execution_count": null,
      "outputs": []
    },
    {
      "cell_type": "markdown",
      "metadata": {
        "id": "3Uk3gSlMjlPX"
      },
      "source": [
        "#####Homoglyph Experiment"
      ]
    },
    {
      "cell_type": "code",
      "metadata": {
        "id": "A1cupx3MjpXn"
      },
      "source": [
        "perspective_experiment(HomoglyphToxicPerspectiveObjective, perspective, 'perspective_homoglyphs_small_20.pkl',\n",
        "                       1, 5, examples[:20], 3, 32)"
      ],
      "execution_count": null,
      "outputs": []
    },
    {
      "cell_type": "markdown",
      "metadata": {
        "id": "rLC7azEmjwp5"
      },
      "source": [
        "#####Reordering Experiment"
      ]
    },
    {
      "cell_type": "code",
      "metadata": {
        "id": "_7m9KIrjjyTE"
      },
      "source": [
        "perspective_experiment(ReorderToxicPerspectiveObjective, perspective, 'perspective_reoderings_small_20.pkl',\n",
        "                       1, 5, examples[:20], 3, 32)"
      ],
      "execution_count": null,
      "outputs": []
    },
    {
      "cell_type": "markdown",
      "metadata": {
        "id": "pQkqWhk7j5WH"
      },
      "source": [
        "#####Deletion Experiment"
      ]
    },
    {
      "cell_type": "code",
      "metadata": {
        "id": "kq1-hPC8j4vp"
      },
      "source": [
        "perspective_experiment(DeletionToxicPerspectiveObjective, perspective, 'perspective_deletions_small_20.pkl',\n",
        "                       1, 5, examples[:20], 3, 32)"
      ],
      "execution_count": null,
      "outputs": []
    },
    {
      "cell_type": "markdown",
      "metadata": {
        "id": "ZzkaxO-WfZU2"
      },
      "source": [
        "## Targeted Integrity Attacks\n",
        "\n",
        "Targeted imperceptible perturbation attacks craft imperceptible perturbations for a given input that attempt to prodice a fixed output against a given model."
      ]
    },
    {
      "cell_type": "markdown",
      "metadata": {
        "id": "m8uy-ZXgkqeq"
      },
      "source": [
        "###MNLI Targeted Attack\n",
        "\n",
        "These attacks target the MNLI textual entailment classification task in a black box model that does have access to the resulting logits for each class during inference."
      ]
    },
    {
      "cell_type": "markdown",
      "metadata": {
        "id": "9xMWQl6PkwTr"
      },
      "source": [
        "####Experiment Setup"
      ]
    },
    {
      "cell_type": "code",
      "metadata": {
        "id": "qh9gMc9ynWb6"
      },
      "source": [
        "from torch.nn.functional import softmax\n",
        "\n",
        "class MnliTargetedObjective(MnliObjective):\n",
        "\n",
        "  def __init__(self, model: GeneratorHubInterface, input: str, hypothesis: str, label: int, target: int, max_perturbs: int):\n",
        "    super().__init__(model, input, hypothesis, label, max_perturbs)\n",
        "    self.target = target\n",
        "\n",
        "  def objective(self) -> Callable[[List[float]], float]:\n",
        "      def _objective(perturbations: List[float]) -> float:\n",
        "        candidate: str = self.candidate(perturbations)\n",
        "        tokens = self.model.encode(candidate, self.hypothesis)\n",
        "        predict = self.model.predict('mnli', tokens)\n",
        "        return -softmax(predict, dim=1).cpu().detach().numpy()[0][self.target]\n",
        "      return _objective\n",
        "\n",
        "  def differential_evolution(self, print_result=True, verbose=True, maxiter=3, popsize=32, polish=False) -> str:\n",
        "    result = differential_evolution(self.objective(), self.bounds(),\n",
        "                                    disp=verbose, maxiter=maxiter,\n",
        "                                    popsize=popsize, polish=polish)\n",
        "    candidate = self.candidate(result.x)\n",
        "    if (print_result):\n",
        "      print(f\"Result: {candidate}\")\n",
        "      print(f\"Correct Label Prediction: {result.fun}\")\n",
        "      print(f\"Perturbation Encoding: {result.x}\")\n",
        "    return candidate"
      ],
      "execution_count": null,
      "outputs": []
    },
    {
      "cell_type": "markdown",
      "metadata": {
        "id": "j0V33hDWkzpx"
      },
      "source": [
        "####Invisible Character Attack"
      ]
    },
    {
      "cell_type": "code",
      "metadata": {
        "id": "etxYIQHWvWBg"
      },
      "source": [
        "class InvisibleCharacterTargetedMnliObjective(MnliTargetedObjective, InvisibleCharacterObjective):\n",
        "  \n",
        "  def __init__(self, model: GeneratorHubInterface, input: str, hypothesis: str, label:int, target: int, max_perturbs: int = 10, invisible_chrs: List[str] = [ZWJ,ZWSP,ZWNJ], **kwargs):\n",
        "    super().__init__(model, input, hypothesis, label, target, max_perturbs)\n",
        "    self.invisible_chrs = invisible_chrs"
      ],
      "execution_count": null,
      "outputs": []
    },
    {
      "cell_type": "markdown",
      "metadata": {
        "id": "ccSPOXLwk2dj"
      },
      "source": [
        "####Homoglyph Attack"
      ]
    },
    {
      "cell_type": "code",
      "metadata": {
        "id": "BTE0No5no2H_"
      },
      "source": [
        "class HomoglyphTargetedMnliObjective(MnliTargetedObjective, HomoglyphObjective):\n",
        "  \n",
        "  def __init__(self, model: GeneratorHubInterface, input: str, hypothesis: str, label:int, target: int, max_perturbs: int = 10, homoglyphs: Dict[str,List[str]] = intentionals, **kwargs):\n",
        "    super().__init__(model, input, hypothesis, label, target, max_perturbs)\n",
        "    self.homoglyphs = homoglyphs\n",
        "    self.glyph_map = []\n",
        "    for i, char in enumerate(self.input):\n",
        "      if char in self.homoglyphs:\n",
        "        charmap = self.homoglyphs[char]\n",
        "        charmap = list(zip([i] * len(charmap), charmap))\n",
        "        self.glyph_map.extend(charmap)"
      ],
      "execution_count": null,
      "outputs": []
    },
    {
      "cell_type": "markdown",
      "metadata": {
        "id": "aH-oHYh3k4eU"
      },
      "source": [
        "####Reordering Attack"
      ]
    },
    {
      "cell_type": "code",
      "metadata": {
        "id": "Wa4XDoP9qroW"
      },
      "source": [
        "class ReorderTargetedMnliObjective(MnliTargetedObjective, ReorderObjective):\n",
        "  \n",
        "  def __init__(self, model: GeneratorHubInterface, input: str, hypothesis: str, label:int, target: int, max_perturbs: int = 10, **kwargs):\n",
        "    super().__init__(model, input, hypothesis, label, target, max_perturbs)"
      ],
      "execution_count": null,
      "outputs": []
    },
    {
      "cell_type": "markdown",
      "metadata": {
        "id": "TJKj4qB4lEuZ"
      },
      "source": [
        "####Deletion Attack"
      ]
    },
    {
      "cell_type": "code",
      "metadata": {
        "id": "bqhE55exrKhN"
      },
      "source": [
        "class DeletionTargetedMnliObjective(MnliTargetedObjective, DeletionObjective):\n",
        "  \n",
        "  def __init__(self, model: GeneratorHubInterface, input: str, hypothesis: str, label:int, target: int, max_perturbs: int = 10, del_chr: str = BKSP, ins_chr_min: str = '!', ins_chr_max: str = '~', **kwargs):\n",
        "    super().__init__(model, input, hypothesis, label, target, max_perturbs)\n",
        "    self.del_chr = del_chr\n",
        "    self.ins_chr_min: str = ins_chr_min\n",
        "    self.ins_chr_max: str = ins_chr_max"
      ],
      "execution_count": null,
      "outputs": []
    },
    {
      "cell_type": "markdown",
      "metadata": {
        "id": "heDGljGynpvW"
      },
      "source": [
        "####Attack Performance"
      ]
    },
    {
      "cell_type": "markdown",
      "metadata": {
        "id": "pOeTGoWbntSG"
      },
      "source": [
        "#####Experiment Setup"
      ]
    },
    {
      "cell_type": "code",
      "metadata": {
        "id": "Ft3K4MMansUf"
      },
      "source": [
        "from tqdm.auto import tqdm\n",
        "from time import process_time\n",
        "import pickle\n",
        "\n",
        "def mnli_targeted_experiment(objective, model, label_map, inputs, file, min_budget = 10, max_budget = 10, maxiter = 10, popsize = 32):\n",
        "  results = { '0': inputs }\n",
        "  with tqdm(total=len(inputs)*(max_budget-min_budget+1)*len(label_map), desc=\"Adv. Examples\") as pbar:\n",
        "    for budget in range(min_budget, max_budget+1):\n",
        "      results[str(budget)] = {}\n",
        "      for input in inputs:\n",
        "        results[str(budget)][input['pairID']] = []\n",
        "        for label in range(len(label_map)):\n",
        "          obj = objective(model, input['sentence1'], input['sentence2'], label_map[input['gold_label']], label, max_perturbs=budget)\n",
        "          candidate = obj.differential_evolution(print_result=False, verbose=False, maxiter=maxiter, popsize=popsize)\n",
        "          results[str(budget)][input['pairID']].append(candidate)\n",
        "          with open(file, 'wb') as f:\n",
        "            pickle.dump(results, f)\n",
        "          pbar.update(1)"
      ],
      "execution_count": null,
      "outputs": []
    },
    {
      "cell_type": "markdown",
      "metadata": {
        "id": "kIxaZcoun8Yr"
      },
      "source": [
        "#####Invisible Character Experiment"
      ]
    },
    {
      "cell_type": "code",
      "metadata": {
        "id": "e3c_ciBqn-Yz"
      },
      "source": [
        "mnli_targeted_experiment(InvisibleCharacterTargetedMnliObjective, mnli, label_map, mnli_test[:20], \"mnli_invisibles_targeted.pkl\", maxiter=3)"
      ],
      "execution_count": null,
      "outputs": []
    },
    {
      "cell_type": "markdown",
      "metadata": {
        "id": "oEsD6pNxoApH"
      },
      "source": [
        "#####Homoglyph Experiment"
      ]
    },
    {
      "cell_type": "code",
      "metadata": {
        "id": "Ip6gCE5KoKbH"
      },
      "source": [
        "mnli_targeted_experiment(HomoglyphTargetedMnliObjective, mnli, label_map, mnli_test[:20], \"mnli_homoglyphs_targeted.pkl\", maxiter=3)"
      ],
      "execution_count": null,
      "outputs": []
    },
    {
      "cell_type": "markdown",
      "metadata": {
        "id": "2S1EjfLToHGt"
      },
      "source": [
        "#####Redordering Experiment"
      ]
    },
    {
      "cell_type": "code",
      "metadata": {
        "id": "UfdYFNK4oMi9"
      },
      "source": [
        "mnli_targeted_experiment(ReorderTargetedMnliObjective, mnli, label_map, mnli_test[:20], \"mnli_reorderings_targeted.pkl\", maxiter=3)"
      ],
      "execution_count": null,
      "outputs": []
    },
    {
      "cell_type": "markdown",
      "metadata": {
        "id": "qewUL_MSoDRe"
      },
      "source": [
        "#####Deletion Experiment"
      ]
    },
    {
      "cell_type": "code",
      "metadata": {
        "id": "0SOY1oXqoPiH"
      },
      "source": [
        "mnli_targeted_experiment(DeletionTargetedMnliObjective, mnli, label_map, mnli_test[:20], \"mnli_deletions_targeted.pkl\", maxiter=3)"
      ],
      "execution_count": null,
      "outputs": []
    },
    {
      "cell_type": "markdown",
      "metadata": {
        "id": "uexNQ2g0lcDh"
      },
      "source": [
        "###MNLI (No Logits) Targeted Attack\n",
        "\n",
        "This attack is identical to the MNLI targeted attack except that the adversary only has access to the predicted class and does not have access to the resulting logits for each class during inference."
      ]
    },
    {
      "cell_type": "markdown",
      "metadata": {
        "id": "PgjtSgwPlvC_"
      },
      "source": [
        "####Attack Setup"
      ]
    },
    {
      "cell_type": "code",
      "metadata": {
        "id": "Wpwr5NpKXk47"
      },
      "source": [
        "class MnliTargetedNoLogitsObjective(MnliTargetedObjective):\n",
        "\n",
        "  def objective(self) -> Callable[[List[float]], float]:\n",
        "      def _objective(perturbations: List[float]) -> float:\n",
        "        candidate: str = self.candidate(perturbations)\n",
        "        tokens = self.model.encode(candidate, self.hypothesis)\n",
        "        predict = self.model.predict('mnli', tokens)\n",
        "        if predict.argmax().item() == self.target:\n",
        "          return -np.inf\n",
        "        else:\n",
        "          return np.inf\n",
        "      return _objective"
      ],
      "execution_count": null,
      "outputs": []
    },
    {
      "cell_type": "markdown",
      "metadata": {
        "id": "lqumdYGQl1XY"
      },
      "source": [
        "####Invisible Character Attack"
      ]
    },
    {
      "cell_type": "code",
      "metadata": {
        "id": "7EMGh4fWYQXC"
      },
      "source": [
        "class InvisibleCharacterTargetedMnliNoLogitsObjective(MnliTargetedNoLogitsObjective, InvisibleCharacterTargetedMnliObjective):\n",
        "  pass"
      ],
      "execution_count": null,
      "outputs": []
    },
    {
      "cell_type": "markdown",
      "metadata": {
        "id": "rKuYC1ZGl333"
      },
      "source": [
        "####Homoglyph Attack"
      ]
    },
    {
      "cell_type": "code",
      "metadata": {
        "id": "X1tx1yz-YaR8"
      },
      "source": [
        "class HomoglyphTargetedMnliNoLogitsObjective(MnliTargetedNoLogitsObjective, HomoglyphTargetedMnliObjective):\n",
        "  pass"
      ],
      "execution_count": null,
      "outputs": []
    },
    {
      "cell_type": "markdown",
      "metadata": {
        "id": "coli97Usl5pU"
      },
      "source": [
        "####Reordering Attack"
      ]
    },
    {
      "cell_type": "code",
      "metadata": {
        "id": "lTDUg67WYzH8"
      },
      "source": [
        "class ReorderTargetedMnliNoLogitsObjective(MnliTargetedNoLogitsObjective, ReorderTargetedMnliObjective):\n",
        "  pass"
      ],
      "execution_count": null,
      "outputs": []
    },
    {
      "cell_type": "markdown",
      "metadata": {
        "id": "6FEs8Ggfl9Iq"
      },
      "source": [
        "####Deletion Attack"
      ]
    },
    {
      "cell_type": "code",
      "metadata": {
        "id": "WLbur_VxY4bL"
      },
      "source": [
        "class DeletionTargetedMnliNoLogitsObjective(MnliTargetedNoLogitsObjective, DeletionTargetedMnliObjective):\n",
        "  pass"
      ],
      "execution_count": null,
      "outputs": []
    },
    {
      "cell_type": "markdown",
      "metadata": {
        "id": "szN7BzRjmK7S"
      },
      "source": [
        "####Attack Performance"
      ]
    },
    {
      "cell_type": "markdown",
      "metadata": {
        "id": "UzG2Lz2bmOf7"
      },
      "source": [
        "#####Invisible Character Experiment"
      ]
    },
    {
      "cell_type": "code",
      "metadata": {
        "id": "yBfbMSwXYkZC"
      },
      "source": [
        "mnli_targeted_experiment(InvisibleCharacterTargetedMnliNoLogitsObjective, mnli, label_map, mnli_test[:20], \"mnli_invisibles_targeted_nologits.pkl\", maxiter=3)"
      ],
      "execution_count": null,
      "outputs": []
    },
    {
      "cell_type": "markdown",
      "metadata": {
        "id": "3TGTMgsooeQO"
      },
      "source": [
        "#####Homoglyph Experiment"
      ]
    },
    {
      "cell_type": "code",
      "metadata": {
        "id": "mR2gCu-1ogOf"
      },
      "source": [
        "mnli_targeted_experiment(HomoglyphTargetedMnliNoLogitsObjective, mnli, label_map, mnli_test[:20], \"mnli_homoglyphs_targeted_nologits.pkl\", maxiter=3)"
      ],
      "execution_count": null,
      "outputs": []
    },
    {
      "cell_type": "markdown",
      "metadata": {
        "id": "GA5_xOr9opcJ"
      },
      "source": [
        "#####Reordering Experiment"
      ]
    },
    {
      "cell_type": "code",
      "metadata": {
        "id": "yc0vzOF9otGB"
      },
      "source": [
        "mnli_targeted_experiment(ReorderTargetedMnliNoLogitsObjective, mnli, label_map, mnli_test[:20], \"mnli_reorderings_targeted_nologits.pkl\", maxiter=3)"
      ],
      "execution_count": null,
      "outputs": []
    },
    {
      "cell_type": "markdown",
      "metadata": {
        "id": "skq6GKlBok7-"
      },
      "source": [
        "#####Deletion Exeriment"
      ]
    },
    {
      "cell_type": "code",
      "metadata": {
        "id": "_v2CBpfoomyA"
      },
      "source": [
        "mnli_targeted_experiment(DeletionTargetedMnliNoLogitsObjective, mnli, label_map, mnli_test[:20], \"mnli_deletions_targeted_nologits.pkl\", maxiter=3)"
      ],
      "execution_count": null,
      "outputs": []
    },
    {
      "cell_type": "markdown",
      "metadata": {
        "id": "PUewmiYwTYO0"
      },
      "source": [
        "## Availability Attacks\n",
        "\n",
        "Sponge examples can be crafted from imperceptible perturbations. These examples are optimized to maximize inference compute time. When sent in large batches to ML systems, these examples cam be used to mount an ML denial of service (DoS) availability attack."
      ]
    },
    {
      "cell_type": "markdown",
      "metadata": {
        "id": "0XPHvAYeqezm"
      },
      "source": [
        "### Machine Translation Attacks"
      ]
    },
    {
      "cell_type": "markdown",
      "metadata": {
        "id": "rg0lwPWNtWw2"
      },
      "source": [
        "####Attack Setup"
      ]
    },
    {
      "cell_type": "code",
      "metadata": {
        "id": "EaAUFKx5tZnN"
      },
      "source": [
        "from timeit import timeit\n",
        "\n",
        "class SpongeObjective(Objective):\n",
        "\n",
        "  def objective(self) -> Callable[[List[float]], float]:\n",
        "    def _objective(perturbations: List[float]) -> float:\n",
        "      candidate: str = self.candidate(perturbations)\n",
        "      return -1 * timeit(lambda: self.model.translate(candidate), number=1)\n",
        "    return _objective"
      ],
      "execution_count": 43,
      "outputs": []
    },
    {
      "cell_type": "markdown",
      "metadata": {
        "id": "AEmDU21f0v8T"
      },
      "source": [
        "####Invsible Character Attack"
      ]
    },
    {
      "cell_type": "code",
      "metadata": {
        "id": "ZO7e_fgf0zav"
      },
      "source": [
        "class InvisibleCharacterSpongeObjective(SpongeObjective, InvisibleCharacterObjective):\n",
        "  pass"
      ],
      "execution_count": 46,
      "outputs": []
    },
    {
      "cell_type": "markdown",
      "metadata": {
        "id": "HuJmNmo9YbTs"
      },
      "source": [
        "#### Homoglyph Attack"
      ]
    },
    {
      "cell_type": "code",
      "metadata": {
        "id": "aa-kE7YoUBC9"
      },
      "source": [
        "class HomoglyphSpongeObjective(SpongeObjective, HomoglyphObjective):\n",
        "  pass"
      ],
      "execution_count": 44,
      "outputs": []
    },
    {
      "cell_type": "markdown",
      "metadata": {
        "id": "QIJ6DhOn06Rt"
      },
      "source": [
        "####Reordering Attack"
      ]
    },
    {
      "cell_type": "code",
      "metadata": {
        "id": "qG5xPvD608e9"
      },
      "source": [
        "class ReorderSpongeObjective(SpongeObjective, ReorderObjective):\n",
        "  pass"
      ],
      "execution_count": 47,
      "outputs": []
    },
    {
      "cell_type": "markdown",
      "metadata": {
        "id": "WZjwvyGS1CWE"
      },
      "source": [
        "####Deletion Attack"
      ]
    },
    {
      "cell_type": "code",
      "metadata": {
        "id": "364DCtJB1EGL"
      },
      "source": [
        "class DeletionSpongeObjective(SpongeObjective, DeletionObjective):\n",
        "  pass"
      ],
      "execution_count": 48,
      "outputs": []
    },
    {
      "cell_type": "markdown",
      "metadata": {
        "id": "QNfPz-eTX3ol"
      },
      "source": [
        "#### Attack Performance"
      ]
    },
    {
      "cell_type": "markdown",
      "metadata": {
        "id": "H3mfnugg1NeG"
      },
      "source": [
        "#####Invisible Character Experiment"
      ]
    },
    {
      "cell_type": "code",
      "metadata": {
        "id": "HYYGo3751P6F"
      },
      "source": [
        "experiment(en2fr, InvisibleCharacterSpongeObjective, source_small, perturbs, 1, 6, 'invisibles_sponge.pkl', 3, 16)"
      ],
      "execution_count": null,
      "outputs": []
    },
    {
      "cell_type": "markdown",
      "metadata": {
        "id": "FtO57hYeX8l_"
      },
      "source": [
        "##### Homoglyph Experiment"
      ]
    },
    {
      "cell_type": "code",
      "metadata": {
        "id": "aj93fd1xcReE"
      },
      "source": [
        "experiment(en2fr, HomoglyphSpongeObjective, source_small, perturbs, 1, 6, 'homoglyph_sponge.pkl', 3, 16)"
      ],
      "execution_count": null,
      "outputs": []
    },
    {
      "cell_type": "markdown",
      "metadata": {
        "id": "rAdNA2Kd1WZh"
      },
      "source": [
        "#####Reordering Experiment"
      ]
    },
    {
      "cell_type": "code",
      "metadata": {
        "id": "gHwzIra70egg"
      },
      "source": [
        "experiment(en2fr, ReorderSpongeObjective, source_small, perturbs, 1, 6, 'reorder_sponge.pkl', 3, 16)"
      ],
      "execution_count": null,
      "outputs": []
    },
    {
      "cell_type": "markdown",
      "metadata": {
        "id": "DwQXDmvk1fQ8"
      },
      "source": [
        "####Deletion Experiment"
      ]
    },
    {
      "cell_type": "code",
      "metadata": {
        "id": "45n9wYI71hNa"
      },
      "source": [
        "experiment(en2fr, DeletionSpongeObjective, source_small, perturbs, 1, 6, 'deletion_sponge.pkl', 3, 16)"
      ],
      "execution_count": null,
      "outputs": []
    }
  ]
}
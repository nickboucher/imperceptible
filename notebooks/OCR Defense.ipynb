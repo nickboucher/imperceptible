{
  "cells": [
    {
      "cell_type": "markdown",
      "metadata": {
        "id": "Cl8ngJVtSxxu"
      },
      "source": [
        "# OCR Setup"
      ]
    },
    {
      "cell_type": "code",
      "execution_count": null,
      "metadata": {
        "id": "3Efvzd1tSRur"
      },
      "outputs": [],
      "source": [
        "!sudo apt-get update -qq\n",
        "!sudo apt-get install -qq unifont tesseract-ocr libtesseract-dev libleptonica-dev pkg-config\n",
        "!pip install pillow tesserocr -q\n",
        "# Arial Unicode font works best for OCR + Unicode support\n",
        "!mkdir -p /usr/share/fonts/truetype/arialuni/\n",
        "!curl -s https://raw.githubusercontent.com/kaienfr/Font/master/font/ARIALUNI.TTF --output /usr/share/fonts/truetype/arialuni/arialuni.ttf\n",
        "!chmod 644 /usr/share/fonts/truetype/arialuni/arialuni.ttf\n",
        "!fc-cache -f\n",
        "!cp unifont.traineddata /usr/share/tesseract-ocr/4.00/tessdata/"
      ]
    },
    {
      "cell_type": "code",
      "execution_count": null,
      "metadata": {
        "id": "nYe20ihjQzQ9"
      },
      "outputs": [],
      "source": [
        "import tesserocr\n",
        "from PIL import Image, ImageDraw, ImageFont, ImageFilter\n",
        "import torchvision.transforms as transforms\n",
        "import torch\n",
        "import numpy as np\n",
        "from PIL import Image\n",
        "from math import ceil\n",
        "from typing import List\n",
        "\n",
        "# should be a multiple of 2\n",
        "font_size = 32\n",
        "# arialuni.ttf best for tesserocr, unifont.ttf best for unicode coverage\n",
        "font_file = \"unifont.ttf\"\n",
        "\n",
        "font = ImageFont.truetype(font_file, font_size)     \n",
        "_d = ImageDraw.Draw(Image.new(\"1\", (0, 0), 1))\n",
        "\n",
        "def draw(text: str) -> Image:\n",
        "  img = Image.new(\"1\", _d.textsize(text, font=font), 1)\n",
        "  d = ImageDraw.Draw(img)\n",
        "  d.text((0, 0), text, font=font, fill=0)\n",
        "  return img\n",
        "\n",
        "def ocr(img: Image) -> str:\n",
        "  # Tesseract works better if you fine-tune it on your font.\n",
        "  # If you do this, specify the new model with `lang=`\n",
        "  return tesserocr.image_to_text(img).rstrip('\\n')\n",
        "\n",
        "def draw_ocr(text: str) -> str:\n",
        "  return ocr(draw(text))"
      ]
    },
    {
      "cell_type": "markdown",
      "metadata": {
        "id": "gwf4jPPXGS5S"
      },
      "source": [
        "# OCR Defence Experiment"
      ]
    },
    {
      "cell_type": "code",
      "execution_count": null,
      "metadata": {
        "colab": {
          "background_save": true
        },
        "id": "1J8fUaXsHJ6j"
      },
      "outputs": [],
      "source": [
        "# Install dependencies\n",
        "!pip install pyarrow\n",
        "!pip install fairseq\n",
        "!pip install sacremoses\n",
        "!pip install fastBPE\n",
        "!pip install subword_nmt\n",
        "!pip install textdistance[extras]\n",
        "!pip install scipy\n",
        "!pip install requests\n",
        "!pip install python-bidi\n",
        "!pip install sacrebleu==1.5.1\n",
        "!pip install textdistance[extras]\n",
        "!pip install tqdm\n",
        "!pip install hydra-core==1.0.7"
      ]
    },
    {
      "cell_type": "code",
      "execution_count": null,
      "metadata": {
        "id": "4zZP-HLqHSuq"
      },
      "outputs": [],
      "source": [
        "# Load pre-trained translation model\n",
        "import torch\n",
        "en2fr = torch.hub.load('pytorch/fairseq',\n",
        "                       'transformer.wmt14.en-fr',\n",
        "                       tokenizer='moses',\n",
        "                       bpe='subword_nmt').cuda()"
      ]
    },
    {
      "cell_type": "code",
      "execution_count": null,
      "metadata": {
        "colab": {
          "background_save": true
        },
        "id": "vkOIRH8bHopo"
      },
      "outputs": [],
      "source": [
        "from bidi.algorithm import get_display\n",
        "\n",
        "# Unicode Bidi override characters\n",
        "PDF = chr(0x202C)\n",
        "LRE = chr(0x202A)\n",
        "RLE = chr(0x202B)\n",
        "LRO = chr(0x202D)\n",
        "RLO = chr(0x202E)\n",
        "PDI = chr(0x2069)\n",
        "LRI = chr(0x2066)\n",
        "RLI = chr(0x2067)\n",
        "# Backspace character\n",
        "BKSP = chr(0x8)\n",
        "\n",
        "def bidi(text: str) -> str:\n",
        "  \"\"\"Applies Bidi algorithm.\"\"\"\n",
        "  text = get_display(text)\n",
        "  for code in [PDF, LRE, RLE, LRO, RLO, PDI, LRI, RLI]:\n",
        "    text = text.replace(code, '')\n",
        "  return text\n",
        "\n",
        "def backspace(text: str) -> str:\n",
        "  \"\"\"Applies backspace control characters.\"\"\"\n",
        "  while BKSP in text:\n",
        "    i = text.index(BKSP)\n",
        "    text = text[:i-1] + text[i+1:]\n",
        "  return text\n",
        "\n",
        "def render(text: str) -> str:\n",
        "  return draw_ocr(bidi(backspace(text)))"
      ]
    },
    {
      "cell_type": "code",
      "execution_count": 5,
      "metadata": {
        "id": "yqgyvLtHGaJo"
      },
      "outputs": [],
      "source": [
        "import pickle\n",
        "\n",
        "with open('../results/adversarial-examples.pkl', 'rb') as f:\n",
        "  examples = pickle.load(f)"
      ]
    },
    {
      "cell_type": "code",
      "execution_count": null,
      "metadata": {
        "id": "0ZP4mdgDhK4E"
      },
      "outputs": [],
      "source": [
        "from sacrebleu import corpus_bleu\n",
        "from textdistance import levenshtein\n",
        "from tqdm.auto import tqdm\n",
        "\n",
        "defences = {}\n",
        "for method in tqdm(['translation_invisibles', 'translation_homoglyphs', 'translation_reorderings', 'translation_deletions'], leave=True, desc=\"Method\"):\n",
        "  defences[method] = {}\n",
        "  for budget, docs in tqdm(examples[method].items(), leave=False, desc=\"Budget\"):\n",
        "    defences[method][budget] = {}\n",
        "    for docid, segs in tqdm(docs.items(), leave=False, desc=\"Doc\"):\n",
        "      defences[method][budget][docid] = {}\n",
        "      for segid, seg in tqdm(segs.items(), desc=\"Seg\", leave=False):\n",
        "        rendered = render(seg['adv_example'])\n",
        "        result = en2fr.translate(rendered)\n",
        "        defences[method][budget][docid][segid] = {\n",
        "              'defence_translation': result,\n",
        "              'defence_ocr': rendered,\n",
        "              'adv_example': seg['adv_example'],\n",
        "              'adv_example_enc': seg['adv_example_enc'],\n",
        "              'adv_translation': seg['adv_translation'],\n",
        "              'input_translation_distance': levenshtein.distance(result, seg['input_translation']),\n",
        "              'ref_translation_distance': levenshtein.distance(result, seg['ref_translation']),\n",
        "              'input': seg['input'],\n",
        "              'input_translation': seg['input_translation'],\n",
        "              'ref_translation': seg['ref_translation'],\n",
        "              'ref_bleu': corpus_bleu(seg['ref_translation'], result).score,\n",
        "              'input_bleu': corpus_bleu(seg['input_translation'], result).score,\n",
        "              'budget': budget\n",
        "            }\n",
        "\n",
        "import pickle\n",
        "\n",
        "with open(\"../results/ocr-defense.pkl\", \"wb\") as f:\n",
        "  pickle.dump(defences, f)"
      ]
    },
    {
      "cell_type": "code",
      "execution_count": 1,
      "metadata": {
        "id": "6oIa-Oxyb9f0"
      },
      "outputs": [],
      "source": [
        "# Once the experiment has been run once, the graph can be plotted with the pickle\n",
        "import pickle\n",
        "with open(\"../results/ocr-defense.pkl\", \"rb\") as f:\n",
        "  defences = pickle.load(f)"
      ]
    },
    {
      "cell_type": "markdown",
      "metadata": {
        "id": "lk6zzXsYILXw"
      },
      "source": [
        "## Graphs"
      ]
    },
    {
      "cell_type": "code",
      "execution_count": null,
      "metadata": {
        "id": "hp6Ls7d4IIaV"
      },
      "outputs": [],
      "source": [
        "!pip install matplotlib\n",
        "!pip install seaborn"
      ]
    },
    {
      "cell_type": "code",
      "execution_count": 2,
      "metadata": {
        "id": "nYU9AVEpIJC9"
      },
      "outputs": [],
      "source": [
        "import seaborn as sns\n",
        "import matplotlib.pyplot as plt\n",
        "import matplotlib.ticker as mtick"
      ]
    },
    {
      "cell_type": "code",
      "execution_count": 3,
      "metadata": {
        "id": "w-qDIZq8IP-i"
      },
      "outputs": [],
      "source": [
        "def budget_graph_data(exp: str, max_budget=None, levenshtein=False):\n",
        "  count = []\n",
        "  total = []\n",
        "  budgets = []\n",
        "  for budget, budgetexps in sorted(exp.items(), key=lambda x: int(x[0])):\n",
        "    if not max_budget or int(budget) <= int(max_budget):\n",
        "      count.append(0)\n",
        "      total.append(0)\n",
        "      budgets.append(int(budget))\n",
        "      for docid, docexps in budgetexps.items():\n",
        "        for segid, result in docexps.items():\n",
        "          if levenshtein:\n",
        "            count[-1] += result['ref_translation_distance']\n",
        "          else:\n",
        "            count[-1] += result['ref_bleu']\n",
        "          total[-1] += 1\n",
        "  return budgets, list(map(lambda x,y: x/y, count, total))"
      ]
    },
    {
      "cell_type": "code",
      "execution_count": 7,
      "metadata": {
        "colab": {
          "base_uri": "https://localhost:8080/",
          "height": 1000
        },
        "id": "aewgLaTNIRGF",
        "outputId": "f7859a57-68a1-4005-a1cd-ccceb9d5f643"
      },
      "outputs": [
        {
          "data": {
            "image/png": "[encoded data removed]",
            "text/plain": [
              "<Figure size 432x288 with 1 Axes>"
            ]
          },
          "metadata": {
            "needs_background": "light"
          },
          "output_type": "display_data"
        }
      ],
      "source": [
        "# BLEU Plot vs OCR\n",
        "import seaborn as sns\n",
        "import matplotlib.pyplot as plt\n",
        "from matplotlib import transforms\n",
        "\n",
        "\n",
        "\n",
        "fig, ax = plt.subplots()\n",
        "\n",
        "tr1 = transforms.offset_copy(ax.transData, fig=fig, x=8, y=0, units='points')\n",
        "tr2 = transforms.offset_copy(ax.transData, fig=fig, x=16, y=0, units='points')\n",
        "\n",
        "\n",
        "\n",
        "plt.rc('font', size=12) \n",
        "\n",
        "plt.plot(*budget_graph_data(defences['translation_invisibles']), linestyle='-', marker='o', color=\"tab:blue\", label=\"Invisible Characters\")\n",
        "plt.plot(*budget_graph_data(defences['translation_homoglyphs']), linestyle='-', marker='^', color=\"tab:green\", label=\"Homoglyphs\")\n",
        "plt.plot(*budget_graph_data(defences['translation_reorderings']), linestyle='-', marker='v', color=\"tab:orange\", label=\"Reorderings\", transform=tr1)\n",
        "plt.plot(*budget_graph_data(defences['translation_deletions']), linestyle='-', marker='s', color=\"tab:red\", label=\"Deletions\", transform=tr2)\n",
        "plt.plot(*budget_graph_data(examples['translation_invisibles']), linestyle='--', marker='o', color=\"tab:blue\")\n",
        "plt.plot(*budget_graph_data(examples['translation_homoglyphs']), linestyle='--', marker='^', color=\"tab:green\")\n",
        "plt.plot(*budget_graph_data(examples['translation_reorderings']), linestyle='--', marker='v', color=\"tab:orange\")\n",
        "plt.plot(*budget_graph_data(examples['translation_deletions']), linestyle='--', marker='s', color=\"tab:red\")\n",
        "plt.plot([],[], linestyle='--', color=\"black\", label=\"Without OCR Defence\")\n",
        "\n",
        "plt.xlabel(\"Perturbation Budget\")\n",
        "plt.ylabel(\"BLEU Score\\nwith Reference Translation\")\n",
        "plt.title(\"OCR Defenses on Impercetible Perturbations\\nAgainst Fairseq Translations\\n\")\n",
        "plt.xticks(range(6))\n",
        "plt.legend()\n",
        "plt.grid(axis='y')\n",
        "plt.savefig(\"../results/figures/ocr_fairseq.pdf\", bbox_inches='tight')\n",
        "plt.show()"
      ]
    }
  ],
  "metadata": {
    "accelerator": "GPU",
    "colab": {
      "collapsed_sections": [],
      "name": "OCR Defense.ipynb",
      "provenance": []
    },
    "kernelspec": {
      "display_name": "Python 3",
      "name": "python3"
    },
    "language_info": {
      "codemirror_mode": {
        "name": "ipython",
        "version": 3
      },
      "file_extension": ".py",
      "mimetype": "text/x-python",
      "name": "python",
      "nbconvert_exporter": "python",
      "pygments_lexer": "ipython3",
      "version": "3.9.17"
    }
  },
  "nbformat": 4,
  "nbformat_minor": 0
}
